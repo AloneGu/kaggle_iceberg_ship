{
 "cells": [
  {
   "cell_type": "code",
   "execution_count": 1,
   "metadata": {},
   "outputs": [
    {
     "name": "stdout",
     "output_type": "stream",
     "text": [
      "'../2nd_features/cnn_1_aug_1_fold5_feat.pkl',\n",
      "'../2nd_features/cnn_2_aug_1_fold5_feat.pkl',\n",
      "'../2nd_features/cnn_3_aug_1_fold5_feat.pkl',\n",
      "'../2nd_features/cnn_4_aug_1_fold5_feat.pkl',\n",
      "'../2nd_features/cnn_5_aug_1_fold5_feat.pkl',\n",
      "'../2nd_features/incept_aug2_feat.pkl',\n",
      "'../2nd_features/other_model_gbrt.pkl',\n",
      "'../2nd_features/other_model_gbrt2.pkl',\n",
      "'../2nd_features/other_model_gbrt4.pkl',\n",
      "'../2nd_features/other_model_gbrt5.pkl',\n",
      "'../2nd_features/other_model_gbrt6.pkl',\n",
      "'../2nd_features/other_model_gbrt7.pkl',\n",
      "'../2nd_features/other_model_lgb.pkl',\n",
      "'../2nd_features/other_model_lgb2.pkl',\n",
      "'../2nd_features/other_model_lgb4.pkl',\n",
      "'../2nd_features/other_model_lgb5.pkl',\n",
      "'../2nd_features/other_model_lgb6.pkl',\n",
      "'../2nd_features/other_model_lgb7.pkl',\n",
      "'../2nd_features/other_model_lr.pkl',\n",
      "'../2nd_features/other_model_lr2.pkl',\n",
      "'../2nd_features/other_model_lr4.pkl',\n",
      "'../2nd_features/other_model_lr7.pkl',\n",
      "'../2nd_features/other_model_rf.pkl',\n",
      "'../2nd_features/other_model_rf2.pkl',\n",
      "'../2nd_features/other_model_rf4.pkl',\n",
      "'../2nd_features/other_model_rf5.pkl',\n",
      "'../2nd_features/other_model_rf6.pkl',\n",
      "'../2nd_features/other_model_rf7.pkl',\n",
      "'../2nd_features/other_model_xgb.pkl',\n",
      "'../2nd_features/other_model_xgb2.pkl',\n",
      "'../2nd_features/other_model_xgb4.pkl',\n",
      "'../2nd_features/other_model_xgb5.pkl',\n",
      "'../2nd_features/other_model_xgb6.pkl',\n",
      "'../2nd_features/other_model_xgb7.pkl',\n",
      "'../2nd_features/resnet_aug2_feat.pkl',\n",
      "'../2nd_features/vgg_aug1_new_feat.pkl',\n",
      "'../2nd_features/xception_aug1_feat.pkl',\n"
     ]
    }
   ],
   "source": [
    "import pickle\n",
    "import numpy as np\n",
    "\n",
    "import glob\n",
    "import pandas as pd\n",
    "\n",
    "fl = sorted(glob.glob('../2nd_features/*.pkl'))\n",
    "for l in fl:\n",
    "    print(\"'{}',\".format(l))"
   ]
  },
  {
   "cell_type": "code",
   "execution_count": 2,
   "metadata": {},
   "outputs": [
    {
     "name": "stdout",
     "output_type": "stream",
     "text": [
      "(1604, 19) (8424, 19) (1604,)\n"
     ]
    }
   ],
   "source": [
    "fl=[\n",
    "'../2nd_features/cnn_1_aug_1_fold5_feat.pkl',\n",
    "'../2nd_features/cnn_2_aug_1_fold5_feat.pkl',\n",
    "'../2nd_features/cnn_3_aug_1_fold5_feat.pkl',\n",
    "'../2nd_features/cnn_4_aug_1_fold5_feat.pkl',\n",
    "'../2nd_features/cnn_5_aug_1_fold5_feat.pkl',\n",
    "'../2nd_features/incept_aug2_feat.pkl',\n",
    "#'../2nd_features/other_model_gbrt.pkl',\n",
    "#'../2nd_features/other_model_gbrt2.pkl',\n",
    "'../2nd_features/other_model_gbrt4.pkl',\n",
    "#'../2nd_features/other_model_gbrt5.pkl',\n",
    "'../2nd_features/other_model_gbrt6.pkl',\n",
    "#'../2nd_features/other_model_gbrt7.pkl',\n",
    "#'../2nd_features/other_model_lgb.pkl',\n",
    "#'../2nd_features/other_model_lgb2.pkl',\n",
    "#'../2nd_features/other_model_lgb4.pkl',\n",
    "#'../2nd_features/other_model_lgb5.pkl',\n",
    "#'../2nd_features/other_model_lgb6.pkl',\n",
    "'../2nd_features/other_model_lgb7.pkl',\n",
    "#'../2nd_features/other_model_lr.pkl',\n",
    "#'../2nd_features/other_model_lr2.pkl',\n",
    "#'../2nd_features/other_model_lr4.pkl',\n",
    "#'../2nd_features/other_model_lr7.pkl',\n",
    "#'../2nd_features/other_model_rf.pkl',\n",
    "#'../2nd_features/other_model_rf2.pkl',\n",
    "'../2nd_features/other_model_rf4.pkl',\n",
    "'../2nd_features/other_model_rf5.pkl',\n",
    "'../2nd_features/other_model_rf6.pkl',\n",
    "'../2nd_features/other_model_rf7.pkl',\n",
    "#'../2nd_features/other_model_xgb.pkl',\n",
    "#'../2nd_features/other_model_xgb2.pkl',\n",
    "'../2nd_features/other_model_xgb4.pkl',\n",
    "'../2nd_features/other_model_xgb5.pkl',\n",
    "#'../2nd_features/other_model_xgb6.pkl',\n",
    "'../2nd_features/other_model_xgb7.pkl',\n",
    "'../2nd_features/resnet_aug2_feat.pkl',\n",
    "'../2nd_features/xception_aug1_feat.pkl',\n",
    "'../2nd_features/vgg_aug1_new_feat.pkl',\n",
    "\n",
    "]\n",
    "\n",
    "def load_x_y():\n",
    "    train_x,test_x=[],[]\n",
    "    for f in fl:\n",
    "        #print(f)\n",
    "        with open(f,'rb') as fin:\n",
    "            a,b = pickle.load(fin)\n",
    "            train_x.append(a)\n",
    "            test_x.append(b)\n",
    "    train_x = np.hstack(train_x)\n",
    "    test_x = np.hstack(test_x)\n",
    "    train_df = pd.read_json('../input/train.json')\n",
    "    y = train_df.is_iceberg.values\n",
    "    return train_x,test_x,y\n",
    "\n",
    "train_x,test_x,train_y = load_x_y()\n",
    "print(train_x.shape,test_x.shape,train_y.shape)"
   ]
  },
  {
   "cell_type": "code",
   "execution_count": 3,
   "metadata": {},
   "outputs": [],
   "source": [
    "from sklearn.linear_model import LogisticRegression\n",
    "from sklearn.metrics import log_loss\n",
    "from sklearn.model_selection import StratifiedKFold\n",
    "from sklearn.metrics import log_loss\n",
    "def cv_test(k_cnt=3,rnd=42,save_flag=False):\n",
    "    kf = StratifiedKFold(n_splits=k_cnt, shuffle=True, random_state=rnd*2)\n",
    "    w_test_pred = None\n",
    "    r_val_loss = 0\n",
    "    test_pred = None\n",
    "    val_loss = 0\n",
    "    val_loss_list = []\n",
    "    for train_index, test_index in kf.split(train_x,train_y):\n",
    "        X_train, X_test = train_x[train_index], train_x[test_index]\n",
    "        y_train, y_test = train_y[train_index], train_y[test_index]\n",
    "\n",
    "        # train model\n",
    "        m = LogisticRegression(C=2.0,max_iter=100)\n",
    "        m.fit(X_train,y_train)\n",
    "        \n",
    "        # cal val loss\n",
    "        curr_val_loss = log_loss(y_test,m.predict_proba(X_test))\n",
    "        curr_tr_loss = log_loss(y_train,m.predict_proba(X_train))\n",
    "        val_loss += curr_val_loss/k_cnt\n",
    "        val_loss_list.append(curr_val_loss)\n",
    "        curr_r_val_loss = 1.0 / curr_val_loss\n",
    "        r_val_loss += curr_r_val_loss\n",
    "        print('curr train loss',curr_tr_loss,'curr val loss', curr_val_loss)\n",
    "        \n",
    "        if test_pred is None:\n",
    "            test_pred = m.predict_proba(test_x)\n",
    "            w_test_pred = m.predict_proba(test_x)*curr_r_val_loss\n",
    "        else:\n",
    "            curr_pred = m.predict_proba(test_x)\n",
    "            test_pred += curr_pred\n",
    "            w_test_pred = w_test_pred + curr_pred*curr_r_val_loss\n",
    "\n",
    "    # avg\n",
    "    test_pred = test_pred / k_cnt\n",
    "    w_test_pred = w_test_pred / r_val_loss\n",
    "    \n",
    "    # train log loss\n",
    "    print('local average valid loss',val_loss,'val loss std',np.std(val_loss_list))\n",
    "    print(test_pred.shape)\n",
    "    if save_flag:\n",
    "        test_df=pd.read_json('../input/test.json')\n",
    "        submission = pd.DataFrame(columns=['id','is_iceberg'])\n",
    "        submission['id']=test_df['id']\n",
    "        submission['is_iceberg']=test_pred[:,1]\n",
    "        print(submission.head())\n",
    "        submission.to_csv('../results/all_lr_2nd_fold_{}_rnd_{}.csv'.format(k_cnt,rnd), index=False)"
   ]
  },
  {
   "cell_type": "code",
   "execution_count": 4,
   "metadata": {},
   "outputs": [
    {
     "name": "stdout",
     "output_type": "stream",
     "text": [
      "curr train loss 0.134976036669 curr val loss 0.142475404442\n",
      "curr train loss 0.135943541319 curr val loss 0.136805816454\n",
      "curr train loss 0.132212590501 curr val loss 0.149582244435\n",
      "local average valid loss 0.142954488444 val loss std 0.00522694423792\n",
      "(8424, 2)\n",
      "         id  is_iceberg\n",
      "0  5941774d    0.026166\n",
      "1  4023181e    0.815790\n",
      "2  b20200e4    0.169140\n",
      "3  e7f018bb    0.988920\n",
      "4  4371c8c3    0.129657\n"
     ]
    }
   ],
   "source": [
    "cv_test(3,42,True)"
   ]
  },
  {
   "cell_type": "code",
   "execution_count": 5,
   "metadata": {},
   "outputs": [
    {
     "name": "stdout",
     "output_type": "stream",
     "text": [
      "curr train loss 0.131395457817 curr val loss 0.154123939613\n",
      "curr train loss 0.139104405726 curr val loss 0.125006950472\n",
      "curr train loss 0.134640173657 curr val loss 0.142171076217\n",
      "curr train loss 0.137233101737 curr val loss 0.133268794747\n",
      "curr train loss 0.13069436414 curr val loss 0.153769178417\n",
      "local average valid loss 0.141667987893 val loss std 0.0114015723184\n",
      "(8424, 2)\n",
      "         id  is_iceberg\n",
      "0  5941774d    0.025169\n",
      "1  4023181e    0.811583\n",
      "2  b20200e4    0.172494\n",
      "3  e7f018bb    0.989335\n",
      "4  4371c8c3    0.126693\n"
     ]
    }
   ],
   "source": [
    "cv_test(5,42,True)"
   ]
  },
  {
   "cell_type": "code",
   "execution_count": 6,
   "metadata": {},
   "outputs": [
    {
     "name": "stdout",
     "output_type": "stream",
     "text": [
      "curr train loss 0.130580277332 curr val loss 0.150758766839\n",
      "curr train loss 0.131001051954 curr val loss 0.149683963465\n",
      "curr train loss 0.14163206477 curr val loss 0.1272540072\n",
      "local average valid loss 0.142565579168 val loss std 0.0108358041592\n",
      "(8424, 2)\n",
      "         id  is_iceberg\n",
      "0  5941774d    0.025665\n",
      "1  4023181e    0.818931\n",
      "2  b20200e4    0.179054\n",
      "3  e7f018bb    0.988816\n",
      "4  4371c8c3    0.137122\n"
     ]
    }
   ],
   "source": [
    "cv_test(3,252,True)"
   ]
  },
  {
   "cell_type": "code",
   "execution_count": 7,
   "metadata": {},
   "outputs": [
    {
     "name": "stdout",
     "output_type": "stream",
     "text": [
      "curr train loss 0.13580227204 curr val loss 0.139042530668\n",
      "curr train loss 0.129285251587 curr val loss 0.162957132207\n",
      "curr train loss 0.132813565881 curr val loss 0.150405165349\n",
      "curr train loss 0.133612631774 curr val loss 0.142832364316\n",
      "curr train loss 0.140817535622 curr val loss 0.116686608256\n",
      "local average valid loss 0.142384760159 val loss std 0.0152270499426\n",
      "(8424, 2)\n",
      "         id  is_iceberg\n",
      "0  5941774d    0.025273\n",
      "1  4023181e    0.812443\n",
      "2  b20200e4    0.175201\n",
      "3  e7f018bb    0.989348\n",
      "4  4371c8c3    0.130657\n"
     ]
    }
   ],
   "source": [
    "cv_test(5,66,True)"
   ]
  },
  {
   "cell_type": "code",
   "execution_count": 8,
   "metadata": {},
   "outputs": [
    {
     "name": "stdout",
     "output_type": "stream",
     "text": [
      "curr train loss 0.131792322555 curr val loss 0.168389402275\n",
      "curr train loss 0.134645912135 curr val loss 0.140857066894\n",
      "curr train loss 0.136227760566 curr val loss 0.130252509946\n",
      "curr train loss 0.13716845305 curr val loss 0.117393073724\n",
      "curr train loss 0.130967151903 curr val loss 0.171977337881\n",
      "curr train loss 0.138404105708 curr val loss 0.111224358117\n",
      "curr train loss 0.131975035873 curr val loss 0.164276842844\n",
      "curr train loss 0.139548231621 curr val loss 0.103139240221\n",
      "curr train loss 0.132924442568 curr val loss 0.155599822681\n",
      "curr train loss 0.132638435714 curr val loss 0.156376407386\n",
      "local average valid loss 0.141948606197 val loss std 0.0238432764997\n",
      "(8424, 2)\n",
      "         id  is_iceberg\n",
      "0  5941774d    0.024921\n",
      "1  4023181e    0.809696\n",
      "2  b20200e4    0.169715\n",
      "3  e7f018bb    0.989642\n",
      "4  4371c8c3    0.125599\n"
     ]
    }
   ],
   "source": [
    "cv_test(10,42,True)"
   ]
  }
 ],
 "metadata": {
  "kernelspec": {
   "display_name": "Python 3",
   "language": "python",
   "name": "python3"
  },
  "language_info": {
   "codemirror_mode": {
    "name": "ipython",
    "version": 3
   },
   "file_extension": ".py",
   "mimetype": "text/x-python",
   "name": "python",
   "nbconvert_exporter": "python",
   "pygments_lexer": "ipython3",
   "version": "3.5.2"
  }
 },
 "nbformat": 4,
 "nbformat_minor": 2
}
