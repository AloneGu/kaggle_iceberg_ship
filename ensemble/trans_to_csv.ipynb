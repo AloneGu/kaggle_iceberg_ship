{
 "cells": [
  {
   "cell_type": "code",
   "execution_count": 2,
   "metadata": {},
   "outputs": [
    {
     "name": "stdout",
     "output_type": "stream",
     "text": [
      "         id  is_iceberg\n",
      "0  5941774d    0.236819\n",
      "1  4023181e    0.669324\n",
      "2  b20200e4    0.012873\n",
      "3  e7f018bb    0.998535\n",
      "4  4371c8c3    0.030928\n"
     ]
    }
   ],
   "source": [
    "import pandas as pd\n",
    "import pickle\n",
    "\n",
    "test_df = pd.read_json('../input/test.json')\n",
    "submission = pd.DataFrame()\n",
    "submission['id']=test_df['id']\n",
    "with open('../2nd_features/incept_aug2_feat.pkl','rb') as fin:\n",
    "    a,test_pred = pickle.load(fin)\n",
    "    submission['is_iceberg']=test_pred\n",
    "    print(submission.head())\n",
    "    submission.to_csv('../2nd_features/incept_aug2_feat.csv', index=False)"
   ]
  }
 ],
 "metadata": {
  "kernelspec": {
   "display_name": "Python 3",
   "language": "python",
   "name": "python3"
  },
  "language_info": {
   "codemirror_mode": {
    "name": "ipython",
    "version": 3
   },
   "file_extension": ".py",
   "mimetype": "text/x-python",
   "name": "python",
   "nbconvert_exporter": "python",
   "pygments_lexer": "ipython3",
   "version": "3.5.2"
  }
 },
 "nbformat": 4,
 "nbformat_minor": 2
}
