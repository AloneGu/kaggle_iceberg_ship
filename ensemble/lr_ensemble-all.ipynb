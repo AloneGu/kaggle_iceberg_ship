{
 "cells": [
  {
   "cell_type": "code",
   "execution_count": 13,
   "metadata": {},
   "outputs": [
    {
     "name": "stdout",
     "output_type": "stream",
     "text": [
      "'../features/cnn_1_aug1_feat.pkl',\n",
      "'../features/cnn_1_aug_1_fold8_feat.pkl',\n",
      "'../features/cnn_1_aug_rescale_preprocess_feat.pkl',\n",
      "'../features/cnn_1_aug_skimage_denoise_feat.pkl',\n",
      "'../features/cnn_1_aug_skimage_preprocess_feat.pkl',\n",
      "'../features/cnn_1_feat.pkl',\n",
      "'../features/cnn_2_aug1_feat.pkl',\n",
      "'../features/cnn_2_aug_1_fold8_feat.pkl',\n",
      "'../features/cnn_2_aug_denoise_preprocess_feat.pkl',\n",
      "'../features/cnn_2_aug_rescale_preprocess_feat.pkl',\n",
      "'../features/cnn_2_aug_skimage_preprocess_feat.pkl',\n",
      "'../features/cnn_2_feat.pkl',\n",
      "'../features/cnn_3_aug1_feat.pkl',\n",
      "'../features/cnn_3_aug_1_fold8_feat.pkl',\n",
      "'../features/cnn_3_aug_denoise_preprocess_feat.pkl',\n",
      "'../features/cnn_3_aug_rescale_preprocess_feat.pkl',\n",
      "'../features/cnn_3_aug_skimage_preprocess_feat.pkl',\n",
      "'../features/cnn_4_aug1_feat.pkl',\n",
      "'../features/cnn_4_aug1_feat_add_early.pkl',\n",
      "'../features/cnn_4_aug_1_fold8_feat.pkl',\n",
      "'../features/cnn_4_aug_denoise_preprocess_feat.pkl',\n",
      "'../features/cnn_4_aug_rescale_preprocess_feat.pkl',\n",
      "'../features/cnn_4_aug_skimage_preprocess_feat.pkl',\n",
      "'../features/cnn_5_aug1_feat.pkl',\n",
      "'../features/cnn_5_aug_1_fold8_feat.pkl',\n",
      "'../features/cnn_5_aug_denoise_preprocess_feat.pkl',\n",
      "'../features/cnn_5_aug_rescale_preprocess_feat.pkl',\n",
      "'../features/cnn_5_aug_skimage_preprocess_feat.pkl',\n",
      "'../features/incept_1_feat.pkl',\n",
      "'../features/incept_aug1_feat.pkl',\n",
      "'../features/incept_aug1_fold8_feat.pkl',\n",
      "'../features/incept_aug2_feat.pkl',\n",
      "'../features/incept_aug3_feat.pkl',\n",
      "'../features/incept_aug4_feat.pkl',\n",
      "'../features/other_feat.pkl',\n",
      "'../features/other_model_gbrt.pkl',\n",
      "'../features/other_model_gbrt2.pkl',\n",
      "'../features/other_model_gbrt4.pkl',\n",
      "'../features/other_model_gbrt5.pkl',\n",
      "'../features/other_model_gbrt6.pkl',\n",
      "'../features/other_model_lgb.pkl',\n",
      "'../features/other_model_lgb2.pkl',\n",
      "'../features/other_model_lgb4.pkl',\n",
      "'../features/other_model_lgb5.pkl',\n",
      "'../features/other_model_lgb6.pkl',\n",
      "'../features/other_model_lr.pkl',\n",
      "'../features/other_model_lr2.pkl',\n",
      "'../features/other_model_lr4.pkl',\n",
      "'../features/other_model_lr5.pkl',\n",
      "'../features/other_model_lr6.pkl',\n",
      "'../features/other_model_rf.pkl',\n",
      "'../features/other_model_rf2.pkl',\n",
      "'../features/other_model_rf4.pkl',\n",
      "'../features/other_model_rf5.pkl',\n",
      "'../features/other_model_rf6.pkl',\n",
      "'../features/other_model_xgb.pkl',\n",
      "'../features/other_model_xgb2.pkl',\n",
      "'../features/other_model_xgb4.pkl',\n",
      "'../features/other_model_xgb5.pkl',\n",
      "'../features/other_model_xgb6.pkl',\n",
      "'../features/resnet_1_feat.pkl',\n",
      "'../features/resnet_aug1_feat.pkl',\n",
      "'../features/resnet_aug1_fold8_feat.pkl',\n",
      "'../features/resnet_aug2_feat.pkl',\n",
      "'../features/resnet_aug3_feat.pkl',\n",
      "'../features/resnet_aug4_feat.pkl',\n",
      "'../features/vgg16_1_feat.pkl',\n",
      "'../features/vgg_aug1_feat.pkl',\n",
      "'../features/vgg_aug1_fold8_feat.pkl',\n",
      "'../features/vgg_aug1_new_feat.pkl',\n",
      "'../features/xception_aug1_feat.pkl',\n"
     ]
    }
   ],
   "source": [
    "import pickle\n",
    "import numpy as np\n",
    "\n",
    "import glob\n",
    "import pandas as pd\n",
    "\n",
    "fl = sorted(glob.glob('../features/*.pkl'))\n",
    "for l in fl:\n",
    "    print(\"'{}',\".format(l))"
   ]
  },
  {
   "cell_type": "code",
   "execution_count": 14,
   "metadata": {},
   "outputs": [
    {
     "name": "stdout",
     "output_type": "stream",
     "text": [
      "(1604, 81) (8424, 81) (1604,)\n"
     ]
    }
   ],
   "source": [
    "def load_x_y():\n",
    "    train_x,test_x=[],[]\n",
    "    for f in fl:\n",
    "        #print(f)\n",
    "        with open(f,'rb') as fin:\n",
    "            a,b = pickle.load(fin)\n",
    "            train_x.append(a)\n",
    "            test_x.append(b)\n",
    "    train_x = np.hstack(train_x)\n",
    "    test_x = np.hstack(test_x)\n",
    "    train_df = pd.read_json('../input/train.json')\n",
    "    y = train_df.is_iceberg.values\n",
    "    return train_x,test_x,y\n",
    "\n",
    "train_x,test_x,train_y = load_x_y()\n",
    "print(train_x.shape,test_x.shape,train_y.shape)"
   ]
  },
  {
   "cell_type": "code",
   "execution_count": 15,
   "metadata": {},
   "outputs": [],
   "source": [
    "from sklearn.linear_model import LogisticRegression\n",
    "from sklearn.metrics import log_loss\n",
    "from sklearn.model_selection import StratifiedKFold\n",
    "from sklearn.metrics import log_loss\n",
    "def cv_test(k_cnt=3,rnd=42,save_flag=False):\n",
    "    kf = StratifiedKFold(n_splits=k_cnt, shuffle=True, random_state=rnd*2)\n",
    "    w_test_pred = None\n",
    "    r_val_loss = 0\n",
    "    test_pred = None\n",
    "    val_loss = 0\n",
    "    val_loss_list = []\n",
    "    for train_index, test_index in kf.split(train_x,train_y):\n",
    "        X_train, X_test = train_x[train_index], train_x[test_index]\n",
    "        y_train, y_test = train_y[train_index], train_y[test_index]\n",
    "\n",
    "        # train model\n",
    "        m = LogisticRegression()\n",
    "        m.fit(X_train,y_train)\n",
    "        \n",
    "        # cal val loss\n",
    "        curr_val_loss = log_loss(y_test,m.predict_proba(X_test))\n",
    "        curr_tr_loss = log_loss(y_train,m.predict_proba(X_train))\n",
    "        val_loss += curr_val_loss/k_cnt\n",
    "        val_loss_list.append(curr_val_loss)\n",
    "        curr_r_val_loss = 1.0 / curr_val_loss\n",
    "        r_val_loss += curr_r_val_loss\n",
    "        print('curr train loss',curr_tr_loss,'curr val loss', curr_val_loss)\n",
    "        \n",
    "        if test_pred is None:\n",
    "            test_pred = m.predict_proba(test_x)\n",
    "            w_test_pred = m.predict_proba(test_x)*curr_r_val_loss\n",
    "        else:\n",
    "            curr_pred = m.predict_proba(test_x)\n",
    "            test_pred += curr_pred\n",
    "            w_test_pred = w_test_pred + curr_pred*curr_r_val_loss\n",
    "\n",
    "    # avg\n",
    "    test_pred = test_pred / k_cnt\n",
    "    w_test_pred = w_test_pred / r_val_loss\n",
    "    \n",
    "    # train log loss\n",
    "    print('local average valid loss',val_loss,'val loss std',np.std(val_loss_list))\n",
    "    print(test_pred.shape)\n",
    "    if save_flag:\n",
    "        test_df=pd.read_json('../input/test.json')\n",
    "        submission = pd.DataFrame(columns=['id','is_iceberg'])\n",
    "        submission['id']=test_df['id']\n",
    "        submission['is_iceberg']=test_pred[:,1]\n",
    "        print(submission.head())\n",
    "        submission.to_csv('../results/all_lr_sub_fold_{}_rnd_{}.csv'.format(k_cnt,rnd), index=False)\n",
    "        \n",
    "        submission['is_iceberg']=w_test_pred[:,1]\n",
    "        print(submission.head())\n",
    "        submission.to_csv('../results/weighted_lr_xgb_sub_fold_{}_rnd_{}.csv'.format(k_cnt,rnd), index=False)"
   ]
  },
  {
   "cell_type": "code",
   "execution_count": 16,
   "metadata": {},
   "outputs": [
    {
     "name": "stdout",
     "output_type": "stream",
     "text": [
      "curr train loss 0.121489485896 curr val loss 0.161220116863\n",
      "curr train loss 0.120532264156 curr val loss 0.157156100942\n",
      "curr train loss 0.118121620929 curr val loss 0.168833538171\n",
      "local average valid loss 0.162403251992 val loss std 0.00484014404794\n",
      "(8424, 2)\n",
      "         id  is_iceberg\n",
      "0  5941774d    0.011834\n",
      "1  4023181e    0.800866\n",
      "2  b20200e4    0.060130\n",
      "3  e7f018bb    0.992343\n",
      "4  4371c8c3    0.520726\n",
      "         id  is_iceberg\n",
      "0  5941774d    0.011785\n",
      "1  4023181e    0.801162\n",
      "2  b20200e4    0.060697\n",
      "3  e7f018bb    0.992369\n",
      "4  4371c8c3    0.521647\n"
     ]
    }
   ],
   "source": [
    "cv_test(3,42,True)"
   ]
  },
  {
   "cell_type": "code",
   "execution_count": 17,
   "metadata": {},
   "outputs": [
    {
     "name": "stdout",
     "output_type": "stream",
     "text": [
      "curr train loss 0.121353564752 curr val loss 0.168377142044\n",
      "curr train loss 0.127173648931 curr val loss 0.138150706551\n",
      "curr train loss 0.121630336465 curr val loss 0.166146758967\n",
      "curr train loss 0.128969595744 curr val loss 0.138714470399\n",
      "curr train loss 0.118095975335 curr val loss 0.180360238539\n",
      "local average valid loss 0.1583498633 val loss std 0.016966726891\n",
      "(8424, 2)\n",
      "         id  is_iceberg\n",
      "0  5941774d    0.011346\n",
      "1  4023181e    0.788997\n",
      "2  b20200e4    0.051450\n",
      "3  e7f018bb    0.992099\n",
      "4  4371c8c3    0.479738\n",
      "         id  is_iceberg\n",
      "0  5941774d    0.011381\n",
      "1  4023181e    0.791712\n",
      "2  b20200e4    0.054284\n",
      "3  e7f018bb    0.992156\n",
      "4  4371c8c3    0.489019\n"
     ]
    }
   ],
   "source": [
    "cv_test(5,42,True)"
   ]
  },
  {
   "cell_type": "code",
   "execution_count": 18,
   "metadata": {},
   "outputs": [
    {
     "name": "stdout",
     "output_type": "stream",
     "text": [
      "curr train loss 0.11504411745 curr val loss 0.176099936678\n",
      "curr train loss 0.120782530831 curr val loss 0.159173131512\n",
      "curr train loss 0.120636235176 curr val loss 0.161831994215\n",
      "local average valid loss 0.165701687468 val loss std 0.00743236515447\n",
      "(8424, 2)\n",
      "         id  is_iceberg\n",
      "0  5941774d    0.011121\n",
      "1  4023181e    0.788731\n",
      "2  b20200e4    0.163219\n",
      "3  e7f018bb    0.992280\n",
      "4  4371c8c3    0.523322\n",
      "         id  is_iceberg\n",
      "0  5941774d    0.011125\n",
      "1  4023181e    0.794758\n",
      "2  b20200e4    0.166800\n",
      "3  e7f018bb    0.992213\n",
      "4  4371c8c3    0.531448\n"
     ]
    }
   ],
   "source": [
    "cv_test(3,252,True)"
   ]
  },
  {
   "cell_type": "code",
   "execution_count": 19,
   "metadata": {},
   "outputs": [
    {
     "name": "stdout",
     "output_type": "stream",
     "text": [
      "curr train loss 0.123599804306 curr val loss 0.152036961168\n",
      "curr train loss 0.119206879091 curr val loss 0.174399826345\n",
      "curr train loss 0.12643009826 curr val loss 0.145396785003\n",
      "curr train loss 0.121342071709 curr val loss 0.170138677713\n",
      "curr train loss 0.127980228221 curr val loss 0.136111242107\n",
      "local average valid loss 0.155616698467 val loss std 0.0145699536873\n",
      "(8424, 2)\n",
      "         id  is_iceberg\n",
      "0  5941774d    0.013027\n",
      "1  4023181e    0.787112\n",
      "2  b20200e4    0.057496\n",
      "3  e7f018bb    0.992034\n",
      "4  4371c8c3    0.477261\n",
      "         id  is_iceberg\n",
      "0  5941774d    0.013175\n",
      "1  4023181e    0.785762\n",
      "2  b20200e4    0.057877\n",
      "3  e7f018bb    0.991869\n",
      "4  4371c8c3    0.476128\n"
     ]
    }
   ],
   "source": [
    "cv_test(5,66,True)"
   ]
  },
  {
   "cell_type": "code",
   "execution_count": 20,
   "metadata": {},
   "outputs": [
    {
     "name": "stdout",
     "output_type": "stream",
     "text": [
      "curr train loss 0.120319500886 curr val loss 0.195590372718\n",
      "curr train loss 0.126939329683 curr val loss 0.147522889249\n",
      "curr train loss 0.125974840789 curr val loss 0.150496182728\n",
      "curr train loss 0.126893110067 curr val loss 0.130027336743\n",
      "curr train loss 0.118943272443 curr val loss 0.21194658441\n",
      "curr train loss 0.129243002347 curr val loss 0.116962705284\n",
      "curr train loss 0.123624738088 curr val loss 0.181040668855\n",
      "curr train loss 0.130371923206 curr val loss 0.105794068777\n",
      "curr train loss 0.122850862868 curr val loss 0.182407767002\n",
      "curr train loss 0.12243698971 curr val loss 0.176234398524\n",
      "local average valid loss 0.159802297429 val loss std 0.0333286032661\n",
      "(8424, 2)\n",
      "         id  is_iceberg\n",
      "0  5941774d    0.011658\n",
      "1  4023181e    0.788168\n",
      "2  b20200e4    0.049522\n",
      "3  e7f018bb    0.991966\n",
      "4  4371c8c3    0.477538\n",
      "         id  is_iceberg\n",
      "0  5941774d    0.011668\n",
      "1  4023181e    0.785544\n",
      "2  b20200e4    0.048550\n",
      "3  e7f018bb    0.991918\n",
      "4  4371c8c3    0.481422\n"
     ]
    }
   ],
   "source": [
    "cv_test(10,42,True)"
   ]
  }
 ],
 "metadata": {
  "kernelspec": {
   "display_name": "Python 3",
   "language": "python",
   "name": "python3"
  },
  "language_info": {
   "codemirror_mode": {
    "name": "ipython",
    "version": 3
   },
   "file_extension": ".py",
   "mimetype": "text/x-python",
   "name": "python",
   "nbconvert_exporter": "python",
   "pygments_lexer": "ipython3",
   "version": "3.5.2"
  }
 },
 "nbformat": 4,
 "nbformat_minor": 2
}
