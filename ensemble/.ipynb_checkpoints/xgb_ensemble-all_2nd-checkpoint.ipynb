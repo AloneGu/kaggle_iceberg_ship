{
 "cells": [
  {
   "cell_type": "code",
   "execution_count": 1,
   "metadata": {
    "scrolled": true
   },
   "outputs": [
    {
     "name": "stdout",
     "output_type": "stream",
     "text": [
      "'../features/cnn_1_aug1_feat.pkl'\n",
      "'../features/cnn_1_aug_1_fold8_feat.pkl'\n",
      "'../features/cnn_1_aug_rescale_preprocess_feat.pkl'\n",
      "'../features/cnn_1_aug_skimage_denoise_feat.pkl'\n",
      "'../features/cnn_1_aug_skimage_preprocess_feat.pkl'\n",
      "'../features/cnn_1_feat.pkl'\n",
      "'../features/cnn_2_aug1_feat.pkl'\n",
      "'../features/cnn_2_aug_1_fold8_feat.pkl'\n",
      "'../features/cnn_2_aug_denoise_preprocess_feat.pkl'\n",
      "'../features/cnn_2_aug_rescale_preprocess_feat.pkl'\n",
      "'../features/cnn_2_aug_skimage_preprocess_feat.pkl'\n",
      "'../features/cnn_2_feat.pkl'\n",
      "'../features/cnn_3_aug1_feat.pkl'\n",
      "'../features/cnn_3_aug_1_fold8_feat.pkl'\n",
      "'../features/cnn_3_aug_denoise_preprocess_feat.pkl'\n",
      "'../features/cnn_3_aug_rescale_preprocess_feat.pkl'\n",
      "'../features/cnn_3_aug_skimage_preprocess_feat.pkl'\n",
      "'../features/cnn_4_aug1_feat.pkl'\n",
      "'../features/cnn_4_aug1_feat_add_early.pkl'\n",
      "'../features/cnn_4_aug_1_fold8_feat.pkl'\n",
      "'../features/cnn_4_aug_denoise_preprocess_feat.pkl'\n",
      "'../features/cnn_4_aug_rescale_preprocess_feat.pkl'\n",
      "'../features/cnn_4_aug_skimage_preprocess_feat.pkl'\n",
      "'../features/cnn_5_aug1_feat.pkl'\n",
      "'../features/cnn_5_aug_1_fold8_feat.pkl'\n",
      "'../features/cnn_5_aug_denoise_preprocess_feat.pkl'\n",
      "'../features/cnn_5_aug_rescale_preprocess_feat.pkl'\n",
      "'../features/cnn_5_aug_skimage_preprocess_feat.pkl'\n",
      "'../features/incept_1_feat.pkl'\n",
      "'../features/incept_aug1_feat.pkl'\n",
      "'../features/incept_aug1_fold8_feat.pkl'\n",
      "'../features/incept_aug2_feat.pkl'\n",
      "'../features/incept_aug3_feat.pkl'\n",
      "'../features/incept_aug4_feat.pkl'\n",
      "'../features/other_feat.pkl'\n",
      "'../features/other_model_gbrt.pkl'\n",
      "'../features/other_model_gbrt2.pkl'\n",
      "'../features/other_model_gbrt4.pkl'\n",
      "'../features/other_model_gbrt5.pkl'\n",
      "'../features/other_model_gbrt6.pkl'\n",
      "'../features/other_model_lgb.pkl'\n",
      "'../features/other_model_lgb2.pkl'\n",
      "'../features/other_model_lgb4.pkl'\n",
      "'../features/other_model_lgb5.pkl'\n",
      "'../features/other_model_lgb6.pkl'\n",
      "'../features/other_model_lr.pkl'\n",
      "'../features/other_model_lr2.pkl'\n",
      "'../features/other_model_lr4.pkl'\n",
      "'../features/other_model_lr5.pkl'\n",
      "'../features/other_model_lr6.pkl'\n",
      "'../features/other_model_rf.pkl'\n",
      "'../features/other_model_rf2.pkl'\n",
      "'../features/other_model_rf4.pkl'\n",
      "'../features/other_model_rf5.pkl'\n",
      "'../features/other_model_rf6.pkl'\n",
      "'../features/other_model_xgb.pkl'\n",
      "'../features/other_model_xgb2.pkl'\n",
      "'../features/other_model_xgb4.pkl'\n",
      "'../features/other_model_xgb5.pkl'\n",
      "'../features/other_model_xgb6.pkl'\n",
      "'../features/resnet_1_feat.pkl'\n",
      "'../features/resnet_aug1_feat.pkl'\n",
      "'../features/resnet_aug1_fold8_feat.pkl'\n",
      "'../features/resnet_aug2_feat.pkl'\n",
      "'../features/resnet_aug3_feat.pkl'\n",
      "'../features/resnet_aug4_feat.pkl'\n",
      "'../features/vgg16_1_feat.pkl'\n",
      "'../features/vgg_aug1_feat.pkl'\n",
      "'../features/vgg_aug1_fold8_feat.pkl'\n",
      "'../features/vgg_aug1_new_feat.pkl'\n",
      "'../features/xception_aug1_feat.pkl'\n"
     ]
    }
   ],
   "source": [
    "import pickle\n",
    "import numpy as np\n",
    "import xgboost as xgb\n",
    "import glob\n",
    "import pandas as pd\n",
    "\n",
    "fl = list(glob.glob('../features/*.pkl'))\n",
    "for l in sorted(fl):\n",
    "    print(\"'{}'\".format(l))\n",
    "\n",
    "fl_tmp = list(glob.glob('../2nd_features/*.pkl'))\n",
    "fl_2nd = []\n",
    "for f in fl_tmp:\n",
    "    if 'other' not in f:\n",
    "        fl_2nd.append(f)\n",
    "# no other feat7 "
   ]
  },
  {
   "cell_type": "code",
   "execution_count": 2,
   "metadata": {},
   "outputs": [
    {
     "name": "stdout",
     "output_type": "stream",
     "text": [
      "['../2nd_features/cnn_4_aug_1_fold5_feat.pkl', '../2nd_features/cnn_2_aug_1_fold5_feat.pkl', '../2nd_features/cnn_5_aug_1_fold5_feat.pkl', '../2nd_features/cnn_3_aug_1_fold5_feat.pkl', '../2nd_features/vgg_aug1_new_feat.pkl', '../2nd_features/cnn_1_aug_1_fold5_feat.pkl', '../2nd_features/incept_aug2_feat.pkl', '../2nd_features/resnet_aug2_feat.pkl']\n"
     ]
    }
   ],
   "source": [
    "print(fl_2nd)"
   ]
  },
  {
   "cell_type": "code",
   "execution_count": 3,
   "metadata": {},
   "outputs": [
    {
     "name": "stdout",
     "output_type": "stream",
     "text": [
      "(1604, 89) (8424, 89) (1604,)\n"
     ]
    }
   ],
   "source": [
    "def load_x_y():\n",
    "    train_x,test_x=[],[]\n",
    "    for f in fl+fl_2nd:\n",
    "        with open(f,'rb') as fin:\n",
    "            a,b = pickle.load(fin)\n",
    "            train_x.append(a)\n",
    "            test_x.append(b)\n",
    "    train_x = np.hstack(train_x)\n",
    "    test_x = np.hstack(test_x)\n",
    "    train_df = pd.read_json('../input/train.json')\n",
    "    y = train_df.is_iceberg.values\n",
    "    return train_x,test_x,y\n",
    "\n",
    "train_x,test_x,train_y = load_x_y()\n",
    "print(train_x.shape,test_x.shape,train_y.shape)"
   ]
  },
  {
   "cell_type": "code",
   "execution_count": 4,
   "metadata": {},
   "outputs": [
    {
     "name": "stdout",
     "output_type": "stream",
     "text": [
      "def done\n"
     ]
    }
   ],
   "source": [
    "from sklearn.model_selection import StratifiedKFold\n",
    "from sklearn.metrics import log_loss\n",
    "def cv_test(k_cnt=3,rnd=42,save_flag=False,verbose_cnt=False):\n",
    "    kf = StratifiedKFold(n_splits=k_cnt, shuffle=True, random_state=rnd*2)\n",
    "    w_test_pred = None\n",
    "    r_val_loss = 0\n",
    "    test_pred = None\n",
    "    val_loss = 0\n",
    "    val_loss_list = []\n",
    "    for train_index, test_index in kf.split(train_x,train_y):\n",
    "        X_train, X_test = train_x[train_index], train_x[test_index]\n",
    "        y_train, y_test = train_y[train_index], train_y[test_index]\n",
    "        params = {\n",
    "                'colsample_bytree': 0.75,\n",
    "                'colsample_bylevel':0.95,\n",
    "                'gamma':0.2,\n",
    "                'subsample': 0.9,\n",
    "                'eta': 0.07,\n",
    "                'max_depth': 3,\n",
    "                'eval_metric':'logloss',\n",
    "                'objective':'binary:logistic',\n",
    "                'scale_pos_weight': 0.85,\n",
    "                \n",
    "                }\n",
    "        \n",
    "        # def mat\n",
    "        d_train = xgb.DMatrix(X_train, y_train)\n",
    "        d_valid = xgb.DMatrix(X_test, y_test)\n",
    "        d_test = xgb.DMatrix(test_x)\n",
    "        \n",
    "        watchlist = [(d_train, 'train'), (d_valid, 'valid')]\n",
    "        # train model\n",
    "        m = xgb.train(params, d_train, 500, watchlist, \n",
    "                        early_stopping_rounds=20,\n",
    "                        verbose_eval=verbose_cnt\n",
    "                        )\n",
    "        \n",
    "        # cal val loss\n",
    "        curr_val_loss = log_loss(y_test,m.predict(d_valid))\n",
    "        val_loss += curr_val_loss/k_cnt\n",
    "        val_loss_list.append(curr_val_loss)\n",
    "        curr_r_val_loss = 1.0 / curr_val_loss\n",
    "        r_val_loss += curr_r_val_loss\n",
    "        \n",
    "        if test_pred is None:\n",
    "            test_pred = m.predict(d_test)\n",
    "            w_test_pred = m.predict(d_test)*curr_r_val_loss\n",
    "        else:\n",
    "            curr_pred = m.predict(d_test)\n",
    "            test_pred += curr_pred\n",
    "            w_test_pred = w_test_pred + curr_pred*curr_r_val_loss\n",
    "\n",
    "    # avg\n",
    "    test_pred = test_pred / k_cnt\n",
    "    w_test_pred = w_test_pred / r_val_loss\n",
    "    \n",
    "    # train log loss\n",
    "    print('local average valid loss',val_loss,'val loss std',np.std(val_loss_list))\n",
    "    if save_flag:\n",
    "        test_df=pd.read_json('../input/test.json')\n",
    "        submission = pd.DataFrame()\n",
    "        submission['id']=test_df['id']\n",
    "        submission['is_iceberg']=test_pred\n",
    "        print(submission.head())\n",
    "        submission.to_csv('../results/all_xgb2nd_sub_fold_{}_rnd_{}.csv'.format(k_cnt,rnd), index=False)\n",
    "        \n",
    "\n",
    "\n",
    "    \n",
    "print('def done')"
   ]
  },
  {
   "cell_type": "code",
   "execution_count": 5,
   "metadata": {
    "scrolled": true
   },
   "outputs": [],
   "source": [
    "# find new rnd seed\n",
    "# for i in range(50):\n",
    "#     rnd = i*6\n",
    "#     print(rnd)\n",
    "#     cv_test(3,rnd,False)"
   ]
  },
  {
   "cell_type": "code",
   "execution_count": 7,
   "metadata": {
    "scrolled": true
   },
   "outputs": [],
   "source": [
    "# find new rnd seed\n",
    "#for i in range(50):\n",
    "#     rnd = i*6\n",
    "#     print(rnd)\n",
    "#     cv_test(5,rnd,False)"
   ]
  },
  {
   "cell_type": "code",
   "execution_count": 10,
   "metadata": {},
   "outputs": [
    {
     "name": "stdout",
     "output_type": "stream",
     "text": [
      "[0]\ttrain-logloss:0.635959\tvalid-logloss:0.639502\n",
      "Multiple eval metrics have been passed: 'valid-logloss' will be used for early stopping.\n",
      "\n",
      "Will train until valid-logloss hasn't improved in 20 rounds.\n",
      "Stopping. Best iteration:\n",
      "[163]\ttrain-logloss:0.022057\tvalid-logloss:0.12258\n",
      "\n",
      "[0]\ttrain-logloss:0.635409\tvalid-logloss:0.637822\n",
      "Multiple eval metrics have been passed: 'valid-logloss' will be used for early stopping.\n",
      "\n",
      "Will train until valid-logloss hasn't improved in 20 rounds.\n",
      "Stopping. Best iteration:\n",
      "[113]\ttrain-logloss:0.036094\tvalid-logloss:0.137409\n",
      "\n",
      "[0]\ttrain-logloss:0.635145\tvalid-logloss:0.638074\n",
      "Multiple eval metrics have been passed: 'valid-logloss' will be used for early stopping.\n",
      "\n",
      "Will train until valid-logloss hasn't improved in 20 rounds.\n",
      "Stopping. Best iteration:\n",
      "[80]\ttrain-logloss:0.054254\tvalid-logloss:0.144867\n",
      "\n",
      "local average valid loss 0.136257547104 val loss std 0.00872506165801\n",
      "         id  is_iceberg\n",
      "0  5941774d    0.018934\n",
      "1  4023181e    0.908467\n",
      "2  b20200e4    0.095994\n",
      "3  e7f018bb    0.998202\n",
      "4  4371c8c3    0.170803\n"
     ]
    }
   ],
   "source": [
    "cv_test(3,42,True,500)"
   ]
  },
  {
   "cell_type": "code",
   "execution_count": 8,
   "metadata": {
    "scrolled": false
   },
   "outputs": [
    {
     "name": "stdout",
     "output_type": "stream",
     "text": [
      "[0]\ttrain-logloss:0.634653\tvalid-logloss:0.638591\n",
      "Multiple eval metrics have been passed: 'valid-logloss' will be used for early stopping.\n",
      "\n",
      "Will train until valid-logloss hasn't improved in 20 rounds.\n",
      "Stopping. Best iteration:\n",
      "[95]\ttrain-logloss:0.047384\tvalid-logloss:0.132299\n",
      "\n",
      "[0]\ttrain-logloss:0.635776\tvalid-logloss:0.637622\n",
      "Multiple eval metrics have been passed: 'valid-logloss' will be used for early stopping.\n",
      "\n",
      "Will train until valid-logloss hasn't improved in 20 rounds.\n",
      "Stopping. Best iteration:\n",
      "[73]\ttrain-logloss:0.057514\tvalid-logloss:0.150218\n",
      "\n",
      "[0]\ttrain-logloss:0.63577\tvalid-logloss:0.638985\n",
      "Multiple eval metrics have been passed: 'valid-logloss' will be used for early stopping.\n",
      "\n",
      "Will train until valid-logloss hasn't improved in 20 rounds.\n",
      "Stopping. Best iteration:\n",
      "[84]\ttrain-logloss:0.053877\tvalid-logloss:0.135554\n",
      "\n",
      "local average valid loss 0.140004914885 val loss std 0.0081001101715\n",
      "         id  is_iceberg\n",
      "0  5941774d    0.029824\n",
      "1  4023181e    0.872617\n",
      "2  b20200e4    0.058897\n",
      "3  e7f018bb    0.997516\n",
      "4  4371c8c3    0.188035\n"
     ]
    }
   ],
   "source": [
    "cv_test(3,252,True,500)"
   ]
  },
  {
   "cell_type": "code",
   "execution_count": 9,
   "metadata": {},
   "outputs": [
    {
     "name": "stdout",
     "output_type": "stream",
     "text": [
      "[0]\ttrain-logloss:0.636274\tvalid-logloss:0.640419\n",
      "Multiple eval metrics have been passed: 'valid-logloss' will be used for early stopping.\n",
      "\n",
      "Will train until valid-logloss hasn't improved in 20 rounds.\n",
      "Stopping. Best iteration:\n",
      "[120]\ttrain-logloss:0.041879\tvalid-logloss:0.121948\n",
      "\n",
      "[0]\ttrain-logloss:0.635221\tvalid-logloss:0.63957\n",
      "Multiple eval metrics have been passed: 'valid-logloss' will be used for early stopping.\n",
      "\n",
      "Will train until valid-logloss hasn't improved in 20 rounds.\n",
      "Stopping. Best iteration:\n",
      "[114]\ttrain-logloss:0.039663\tvalid-logloss:0.157246\n",
      "\n",
      "[0]\ttrain-logloss:0.635814\tvalid-logloss:0.636901\n",
      "Multiple eval metrics have been passed: 'valid-logloss' will be used for early stopping.\n",
      "\n",
      "Will train until valid-logloss hasn't improved in 20 rounds.\n",
      "Stopping. Best iteration:\n",
      "[63]\ttrain-logloss:0.073822\tvalid-logloss:0.137635\n",
      "\n",
      "[0]\ttrain-logloss:0.635556\tvalid-logloss:0.638941\n",
      "Multiple eval metrics have been passed: 'valid-logloss' will be used for early stopping.\n",
      "\n",
      "Will train until valid-logloss hasn't improved in 20 rounds.\n",
      "Stopping. Best iteration:\n",
      "[134]\ttrain-logloss:0.033299\tvalid-logloss:0.131831\n",
      "\n",
      "[0]\ttrain-logloss:0.636355\tvalid-logloss:0.637189\n",
      "Multiple eval metrics have been passed: 'valid-logloss' will be used for early stopping.\n",
      "\n",
      "Will train until valid-logloss hasn't improved in 20 rounds.\n",
      "Stopping. Best iteration:\n",
      "[130]\ttrain-logloss:0.036281\tvalid-logloss:0.1123\n",
      "\n",
      "local average valid loss 0.133812272856 val loss std 0.0157243342747\n",
      "         id  is_iceberg\n",
      "0  5941774d    0.029173\n",
      "1  4023181e    0.864534\n",
      "2  b20200e4    0.063556\n",
      "3  e7f018bb    0.998010\n",
      "4  4371c8c3    0.105535\n"
     ]
    }
   ],
   "source": [
    "cv_test(5,66,True,500)"
   ]
  },
  {
   "cell_type": "code",
   "execution_count": null,
   "metadata": {},
   "outputs": [],
   "source": []
  },
  {
   "cell_type": "code",
   "execution_count": null,
   "metadata": {},
   "outputs": [],
   "source": []
  }
 ],
 "metadata": {
  "kernelspec": {
   "display_name": "Python 3",
   "language": "python",
   "name": "python3"
  },
  "language_info": {
   "codemirror_mode": {
    "name": "ipython",
    "version": 3
   },
   "file_extension": ".py",
   "mimetype": "text/x-python",
   "name": "python",
   "nbconvert_exporter": "python",
   "pygments_lexer": "ipython3",
   "version": "3.5.2"
  }
 },
 "nbformat": 4,
 "nbformat_minor": 2
}
