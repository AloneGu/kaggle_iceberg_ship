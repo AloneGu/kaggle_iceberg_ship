{
 "cells": [
  {
   "cell_type": "code",
   "execution_count": 1,
   "metadata": {
    "scrolled": true
   },
   "outputs": [
    {
     "name": "stdout",
     "output_type": "stream",
     "text": [
      "'../features/cnn_1_aug1_feat.pkl'\n",
      "'../features/cnn_1_aug_1_fold8_feat.pkl'\n",
      "'../features/cnn_1_aug_rescale_preprocess_feat.pkl'\n",
      "'../features/cnn_1_aug_skimage_denoise_feat.pkl'\n",
      "'../features/cnn_1_aug_skimage_preprocess_feat.pkl'\n",
      "'../features/cnn_1_feat.pkl'\n",
      "'../features/cnn_2_aug1_feat.pkl'\n",
      "'../features/cnn_2_aug_1_fold8_feat.pkl'\n",
      "'../features/cnn_2_aug_denoise_preprocess_feat.pkl'\n",
      "'../features/cnn_2_aug_rescale_preprocess_feat.pkl'\n",
      "'../features/cnn_2_aug_skimage_preprocess_feat.pkl'\n",
      "'../features/cnn_2_feat.pkl'\n",
      "'../features/cnn_3_aug1_feat.pkl'\n",
      "'../features/cnn_3_aug_1_fold8_feat.pkl'\n",
      "'../features/cnn_3_aug_denoise_preprocess_feat.pkl'\n",
      "'../features/cnn_3_aug_rescale_preprocess_feat.pkl'\n",
      "'../features/cnn_3_aug_skimage_preprocess_feat.pkl'\n",
      "'../features/cnn_4_aug1_feat.pkl'\n",
      "'../features/cnn_4_aug1_feat_add_early.pkl'\n",
      "'../features/cnn_4_aug_1_fold8_feat.pkl'\n",
      "'../features/cnn_4_aug_denoise_preprocess_feat.pkl'\n",
      "'../features/cnn_4_aug_rescale_preprocess_feat.pkl'\n",
      "'../features/cnn_4_aug_skimage_preprocess_feat.pkl'\n",
      "'../features/cnn_5_aug1_feat.pkl'\n",
      "'../features/cnn_5_aug_1_fold8_feat.pkl'\n",
      "'../features/cnn_5_aug_denoise_preprocess_feat.pkl'\n",
      "'../features/cnn_5_aug_rescale_preprocess_feat.pkl'\n",
      "'../features/cnn_5_aug_skimage_preprocess_feat.pkl'\n",
      "'../features/incept_1_feat.pkl'\n",
      "'../features/incept_aug1_feat.pkl'\n",
      "'../features/incept_aug1_fold8_feat.pkl'\n",
      "'../features/incept_aug2_feat.pkl'\n",
      "'../features/incept_aug3_feat.pkl'\n",
      "'../features/incept_aug4_feat.pkl'\n",
      "'../features/other_feat.pkl'\n",
      "'../features/other_model_gbrt.pkl'\n",
      "'../features/other_model_gbrt2.pkl'\n",
      "'../features/other_model_gbrt4.pkl'\n",
      "'../features/other_model_gbrt5.pkl'\n",
      "'../features/other_model_gbrt6.pkl'\n",
      "'../features/other_model_lgb.pkl'\n",
      "'../features/other_model_lgb2.pkl'\n",
      "'../features/other_model_lgb4.pkl'\n",
      "'../features/other_model_lgb5.pkl'\n",
      "'../features/other_model_lgb6.pkl'\n",
      "'../features/other_model_lr.pkl'\n",
      "'../features/other_model_lr2.pkl'\n",
      "'../features/other_model_lr4.pkl'\n",
      "'../features/other_model_lr5.pkl'\n",
      "'../features/other_model_lr6.pkl'\n",
      "'../features/other_model_rf.pkl'\n",
      "'../features/other_model_rf2.pkl'\n",
      "'../features/other_model_rf4.pkl'\n",
      "'../features/other_model_rf5.pkl'\n",
      "'../features/other_model_rf6.pkl'\n",
      "'../features/other_model_xgb.pkl'\n",
      "'../features/other_model_xgb2.pkl'\n",
      "'../features/other_model_xgb4.pkl'\n",
      "'../features/other_model_xgb5.pkl'\n",
      "'../features/other_model_xgb6.pkl'\n",
      "'../features/resnet_1_feat.pkl'\n",
      "'../features/resnet_aug1_feat.pkl'\n",
      "'../features/resnet_aug1_fold8_feat.pkl'\n",
      "'../features/resnet_aug2_feat.pkl'\n",
      "'../features/resnet_aug3_feat.pkl'\n",
      "'../features/resnet_aug4_feat.pkl'\n",
      "'../features/vgg16_1_feat.pkl'\n",
      "'../features/vgg_aug1_feat.pkl'\n",
      "'../features/vgg_aug1_fold8_feat.pkl'\n",
      "'../features/vgg_aug1_new_feat.pkl'\n",
      "'../features/xception_aug1_feat.pkl'\n"
     ]
    }
   ],
   "source": [
    "import pickle\n",
    "import numpy as np\n",
    "import xgboost as xgb\n",
    "import glob\n",
    "import pandas as pd\n",
    "\n",
    "fl = list(glob.glob('../features/*.pkl'))\n",
    "for l in sorted(fl):\n",
    "    print(\"'{}'\".format(l))\n",
    "    \n",
    "# no other feat7 "
   ]
  },
  {
   "cell_type": "code",
   "execution_count": 2,
   "metadata": {},
   "outputs": [
    {
     "name": "stdout",
     "output_type": "stream",
     "text": [
      "(1604, 81) (8424, 81) (1604,)\n"
     ]
    }
   ],
   "source": [
    "def load_x_y():\n",
    "    train_x,test_x=[],[]\n",
    "    for f in fl:\n",
    "        with open(f,'rb') as fin:\n",
    "            a,b = pickle.load(fin)\n",
    "            train_x.append(a)\n",
    "            test_x.append(b)\n",
    "    train_x = np.hstack(train_x)\n",
    "    test_x = np.hstack(test_x)\n",
    "    train_df = pd.read_json('../input/train.json')\n",
    "    y = train_df.is_iceberg.values\n",
    "    return train_x,test_x,y\n",
    "\n",
    "train_x,test_x,train_y = load_x_y()\n",
    "print(train_x.shape,test_x.shape,train_y.shape)"
   ]
  },
  {
   "cell_type": "code",
   "execution_count": 3,
   "metadata": {},
   "outputs": [
    {
     "name": "stdout",
     "output_type": "stream",
     "text": [
      "def done\n"
     ]
    }
   ],
   "source": [
    "from sklearn.model_selection import StratifiedKFold\n",
    "from sklearn.metrics import log_loss\n",
    "def cv_test(k_cnt=3,rnd=42,save_flag=False,verbose_cnt=False):\n",
    "    kf = StratifiedKFold(n_splits=k_cnt, shuffle=True, random_state=rnd*2)\n",
    "    w_test_pred = None\n",
    "    r_val_loss = 0\n",
    "    test_pred = None\n",
    "    val_loss = 0\n",
    "    val_loss_list = []\n",
    "    for train_index, test_index in kf.split(train_x,train_y):\n",
    "        X_train, X_test = train_x[train_index], train_x[test_index]\n",
    "        y_train, y_test = train_y[train_index], train_y[test_index]\n",
    "        params = {\n",
    "                'colsample_bytree': 0.75,\n",
    "                'colsample_bylevel':0.95,\n",
    "                'gamma':0.2,\n",
    "                'subsample': 0.9,\n",
    "                'eta': 0.07,\n",
    "                'max_depth': 3,\n",
    "                'eval_metric':'logloss',\n",
    "                'objective':'binary:logistic',\n",
    "                'scale_pos_weight': 0.85,\n",
    "                \n",
    "                }\n",
    "        \n",
    "        # def mat\n",
    "        d_train = xgb.DMatrix(X_train, y_train)\n",
    "        d_valid = xgb.DMatrix(X_test, y_test)\n",
    "        d_test = xgb.DMatrix(test_x)\n",
    "        \n",
    "        watchlist = [(d_train, 'train'), (d_valid, 'valid')]\n",
    "        # train model\n",
    "        m = xgb.train(params, d_train, 500, watchlist, \n",
    "                        early_stopping_rounds=20,\n",
    "                        verbose_eval=verbose_cnt\n",
    "                        )\n",
    "        \n",
    "        # cal val loss\n",
    "        curr_val_loss = log_loss(y_test,m.predict(d_valid))\n",
    "        val_loss += curr_val_loss/k_cnt\n",
    "        val_loss_list.append(curr_val_loss)\n",
    "        curr_r_val_loss = 1.0 / curr_val_loss\n",
    "        r_val_loss += curr_r_val_loss\n",
    "        \n",
    "        if test_pred is None:\n",
    "            test_pred = m.predict(d_test)\n",
    "            w_test_pred = m.predict(d_test)*curr_r_val_loss\n",
    "        else:\n",
    "            curr_pred = m.predict(d_test)\n",
    "            test_pred += curr_pred\n",
    "            w_test_pred = w_test_pred + curr_pred*curr_r_val_loss\n",
    "\n",
    "    # avg\n",
    "    test_pred = test_pred / k_cnt\n",
    "    w_test_pred = w_test_pred / r_val_loss\n",
    "    \n",
    "    # train log loss\n",
    "    print('local average valid loss',val_loss,'val loss std',np.std(val_loss_list))\n",
    "    if save_flag:\n",
    "        test_df=pd.read_json('../input/test.json')\n",
    "        submission = pd.DataFrame()\n",
    "        submission['id']=test_df['id']\n",
    "        submission['is_iceberg']=test_pred\n",
    "        print(submission.head())\n",
    "        submission.to_csv('../results/all_xgb_sub_fold_{}_rnd_{}.csv'.format(k_cnt,rnd), index=False)\n",
    "        \n",
    "        submission = pd.DataFrame()\n",
    "        submission['id']=test_df['id']\n",
    "        submission['is_iceberg']=w_test_pred\n",
    "        print(submission.head())\n",
    "        submission.to_csv('../results/weighted_all_xgb_sub_fold_{}_rnd_{}.csv'.format(k_cnt,rnd), index=False)\n",
    "\n",
    "    \n",
    "print('def done')"
   ]
  },
  {
   "cell_type": "code",
   "execution_count": 5,
   "metadata": {
    "scrolled": true
   },
   "outputs": [],
   "source": [
    "# find new rnd seed\n",
    "# for i in range(50):\n",
    "#     rnd = i*6\n",
    "#     print(rnd)\n",
    "#     cv_test(3,rnd,False)"
   ]
  },
  {
   "cell_type": "code",
   "execution_count": 6,
   "metadata": {
    "scrolled": true
   },
   "outputs": [],
   "source": [
    "# find new rnd seed\n",
    "# for i in range(50):\n",
    "#     rnd = i*6\n",
    "#     print(rnd)\n",
    "#     cv_test(5,rnd,False)"
   ]
  },
  {
   "cell_type": "code",
   "execution_count": 7,
   "metadata": {},
   "outputs": [
    {
     "name": "stdout",
     "output_type": "stream",
     "text": [
      "[0]\ttrain-logloss:0.63625\tvalid-logloss:0.639399\n",
      "Multiple eval metrics have been passed: 'valid-logloss' will be used for early stopping.\n",
      "\n",
      "Will train until valid-logloss hasn't improved in 20 rounds.\n",
      "Stopping. Best iteration:\n",
      "[131]\ttrain-logloss:0.033839\tvalid-logloss:0.123685\n",
      "\n",
      "[0]\ttrain-logloss:0.635978\tvalid-logloss:0.639525\n",
      "Multiple eval metrics have been passed: 'valid-logloss' will be used for early stopping.\n",
      "\n",
      "Will train until valid-logloss hasn't improved in 20 rounds.\n",
      "Stopping. Best iteration:\n",
      "[96]\ttrain-logloss:0.047042\tvalid-logloss:0.140829\n",
      "\n",
      "[0]\ttrain-logloss:0.635621\tvalid-logloss:0.639004\n",
      "Multiple eval metrics have been passed: 'valid-logloss' will be used for early stopping.\n",
      "\n",
      "Will train until valid-logloss hasn't improved in 20 rounds.\n",
      "Stopping. Best iteration:\n",
      "[75]\ttrain-logloss:0.059503\tvalid-logloss:0.151914\n",
      "\n",
      "local average valid loss 0.140732382995 val loss std 0.0117262843428\n",
      "         id  is_iceberg\n",
      "0  5941774d    0.020095\n",
      "1  4023181e    0.756191\n",
      "2  b20200e4    0.032498\n",
      "3  e7f018bb    0.997687\n",
      "4  4371c8c3    0.131924\n",
      "         id  is_iceberg\n",
      "0  5941774d    0.019497\n",
      "1  4023181e    0.743445\n",
      "2  b20200e4    0.030779\n",
      "3  e7f018bb    0.997727\n",
      "4  4371c8c3    0.130642\n"
     ]
    }
   ],
   "source": [
    "cv_test(3,42,True,500)"
   ]
  },
  {
   "cell_type": "code",
   "execution_count": 8,
   "metadata": {
    "scrolled": false
   },
   "outputs": [
    {
     "name": "stdout",
     "output_type": "stream",
     "text": [
      "[0]\ttrain-logloss:0.636166\tvalid-logloss:0.639833\n",
      "Multiple eval metrics have been passed: 'valid-logloss' will be used for early stopping.\n",
      "\n",
      "Will train until valid-logloss hasn't improved in 20 rounds.\n",
      "Stopping. Best iteration:\n",
      "[138]\ttrain-logloss:0.030478\tvalid-logloss:0.126177\n",
      "\n",
      "[0]\ttrain-logloss:0.636\tvalid-logloss:0.639144\n",
      "Multiple eval metrics have been passed: 'valid-logloss' will be used for early stopping.\n",
      "\n",
      "Will train until valid-logloss hasn't improved in 20 rounds.\n",
      "Stopping. Best iteration:\n",
      "[81]\ttrain-logloss:0.05569\tvalid-logloss:0.137791\n",
      "\n",
      "[0]\ttrain-logloss:0.635984\tvalid-logloss:0.64014\n",
      "Multiple eval metrics have been passed: 'valid-logloss' will be used for early stopping.\n",
      "\n",
      "Will train until valid-logloss hasn't improved in 20 rounds.\n",
      "Stopping. Best iteration:\n",
      "[101]\ttrain-logloss:0.045349\tvalid-logloss:0.144128\n",
      "\n",
      "local average valid loss 0.137414263225 val loss std 0.00780035335958\n",
      "         id  is_iceberg\n",
      "0  5941774d    0.026259\n",
      "1  4023181e    0.736732\n",
      "2  b20200e4    0.025662\n",
      "3  e7f018bb    0.998111\n",
      "4  4371c8c3    0.232601\n",
      "         id  is_iceberg\n",
      "0  5941774d    0.026265\n",
      "1  4023181e    0.736954\n",
      "2  b20200e4    0.025361\n",
      "3  e7f018bb    0.998147\n",
      "4  4371c8c3    0.231077\n"
     ]
    }
   ],
   "source": [
    "cv_test(3,252,True,500)"
   ]
  },
  {
   "cell_type": "code",
   "execution_count": 9,
   "metadata": {},
   "outputs": [
    {
     "name": "stdout",
     "output_type": "stream",
     "text": [
      "[0]\ttrain-logloss:0.636517\tvalid-logloss:0.637451\n",
      "Multiple eval metrics have been passed: 'valid-logloss' will be used for early stopping.\n",
      "\n",
      "Will train until valid-logloss hasn't improved in 20 rounds.\n",
      "Stopping. Best iteration:\n",
      "[125]\ttrain-logloss:0.039947\tvalid-logloss:0.123319\n",
      "\n",
      "[0]\ttrain-logloss:0.635833\tvalid-logloss:0.639346\n",
      "Multiple eval metrics have been passed: 'valid-logloss' will be used for early stopping.\n",
      "\n",
      "Will train until valid-logloss hasn't improved in 20 rounds.\n",
      "Stopping. Best iteration:\n",
      "[82]\ttrain-logloss:0.061432\tvalid-logloss:0.154324\n",
      "\n",
      "[0]\ttrain-logloss:0.636394\tvalid-logloss:0.636728\n",
      "Multiple eval metrics have been passed: 'valid-logloss' will be used for early stopping.\n",
      "\n",
      "Will train until valid-logloss hasn't improved in 20 rounds.\n",
      "Stopping. Best iteration:\n",
      "[68]\ttrain-logloss:0.073152\tvalid-logloss:0.134726\n",
      "\n",
      "[0]\ttrain-logloss:0.635661\tvalid-logloss:0.640291\n",
      "Multiple eval metrics have been passed: 'valid-logloss' will be used for early stopping.\n",
      "\n",
      "Will train until valid-logloss hasn't improved in 20 rounds.\n",
      "Stopping. Best iteration:\n",
      "[83]\ttrain-logloss:0.060267\tvalid-logloss:0.145153\n",
      "\n",
      "[0]\ttrain-logloss:0.636227\tvalid-logloss:0.636386\n",
      "Multiple eval metrics have been passed: 'valid-logloss' will be used for early stopping.\n",
      "\n",
      "Will train until valid-logloss hasn't improved in 20 rounds.\n",
      "Stopping. Best iteration:\n",
      "[97]\ttrain-logloss:0.054614\tvalid-logloss:0.11044\n",
      "\n",
      "local average valid loss 0.134508066085 val loss std 0.0151440443714\n",
      "         id  is_iceberg\n",
      "0  5941774d    0.032433\n",
      "1  4023181e    0.753860\n",
      "2  b20200e4    0.036962\n",
      "3  e7f018bb    0.997386\n",
      "4  4371c8c3    0.218156\n",
      "         id  is_iceberg\n",
      "0  5941774d    0.033289\n",
      "1  4023181e    0.746324\n",
      "2  b20200e4    0.037496\n",
      "3  e7f018bb    0.997494\n",
      "4  4371c8c3    0.222564\n"
     ]
    }
   ],
   "source": [
    "cv_test(5,66,True,500)"
   ]
  },
  {
   "cell_type": "code",
   "execution_count": null,
   "metadata": {},
   "outputs": [],
   "source": []
  },
  {
   "cell_type": "code",
   "execution_count": null,
   "metadata": {},
   "outputs": [],
   "source": []
  }
 ],
 "metadata": {
  "kernelspec": {
   "display_name": "Python 3",
   "language": "python",
   "name": "python3"
  },
  "language_info": {
   "codemirror_mode": {
    "name": "ipython",
    "version": 3
   },
   "file_extension": ".py",
   "mimetype": "text/x-python",
   "name": "python",
   "nbconvert_exporter": "python",
   "pygments_lexer": "ipython3",
   "version": "3.5.2"
  }
 },
 "nbformat": 4,
 "nbformat_minor": 2
}
