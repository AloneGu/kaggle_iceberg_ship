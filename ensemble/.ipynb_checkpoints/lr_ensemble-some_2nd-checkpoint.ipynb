{
 "cells": [
  {
   "cell_type": "code",
   "execution_count": 161,
   "metadata": {},
   "outputs": [
    {
     "name": "stdout",
     "output_type": "stream",
     "text": [
      "'../2nd_features/cnn_1_aug_1_fold5_feat.pkl',\n",
      "'../2nd_features/cnn_2_aug_1_fold5_feat.pkl',\n",
      "'../2nd_features/cnn_3_aug_1_fold5_feat.pkl',\n",
      "'../2nd_features/cnn_4_aug_1_fold5_feat.pkl',\n",
      "'../2nd_features/cnn_5_aug_1_fold5_feat.pkl',\n",
      "'../2nd_features/incept_aug2_feat.pkl',\n",
      "'../2nd_features/other_model_gbrt.pkl',\n",
      "'../2nd_features/other_model_gbrt2.pkl',\n",
      "'../2nd_features/other_model_gbrt4.pkl',\n",
      "'../2nd_features/other_model_gbrt5.pkl',\n",
      "'../2nd_features/other_model_gbrt6.pkl',\n",
      "'../2nd_features/other_model_gbrt7.pkl',\n",
      "'../2nd_features/other_model_lgb.pkl',\n",
      "'../2nd_features/other_model_lgb2.pkl',\n",
      "'../2nd_features/other_model_lgb4.pkl',\n",
      "'../2nd_features/other_model_lgb5.pkl',\n",
      "'../2nd_features/other_model_lgb6.pkl',\n",
      "'../2nd_features/other_model_lgb7.pkl',\n",
      "'../2nd_features/other_model_lr.pkl',\n",
      "'../2nd_features/other_model_lr2.pkl',\n",
      "'../2nd_features/other_model_lr4.pkl',\n",
      "'../2nd_features/other_model_lr7.pkl',\n",
      "'../2nd_features/other_model_rf.pkl',\n",
      "'../2nd_features/other_model_rf2.pkl',\n",
      "'../2nd_features/other_model_rf4.pkl',\n",
      "'../2nd_features/other_model_rf5.pkl',\n",
      "'../2nd_features/other_model_rf6.pkl',\n",
      "'../2nd_features/other_model_rf7.pkl',\n",
      "'../2nd_features/other_model_xgb.pkl',\n",
      "'../2nd_features/other_model_xgb2.pkl',\n",
      "'../2nd_features/other_model_xgb4.pkl',\n",
      "'../2nd_features/other_model_xgb5.pkl',\n",
      "'../2nd_features/other_model_xgb6.pkl',\n",
      "'../2nd_features/other_model_xgb7.pkl',\n",
      "'../2nd_features/resnet_aug2_feat.pkl',\n",
      "'../2nd_features/vgg_aug1_new_feat.pkl',\n",
      "'../2nd_features/xception_aug1_feat.pkl',\n"
     ]
    }
   ],
   "source": [
    "import pickle\n",
    "import numpy as np\n",
    "\n",
    "import glob\n",
    "import pandas as pd\n",
    "\n",
    "fl = sorted(glob.glob('../2nd_features/*.pkl'))\n",
    "for l in fl:\n",
    "    print(\"'{}',\".format(l))"
   ]
  },
  {
   "cell_type": "code",
   "execution_count": 162,
   "metadata": {},
   "outputs": [
    {
     "name": "stdout",
     "output_type": "stream",
     "text": [
      "(1604, 22) (8424, 22) (1604,)\n"
     ]
    }
   ],
   "source": [
    "fl=[\n",
    "'../2nd_features/cnn_1_aug_1_fold5_feat.pkl',\n",
    "'../2nd_features/cnn_2_aug_1_fold5_feat.pkl',\n",
    "'../2nd_features/cnn_3_aug_1_fold5_feat.pkl',\n",
    "'../2nd_features/cnn_4_aug_1_fold5_feat.pkl',\n",
    "'../2nd_features/cnn_5_aug_1_fold5_feat.pkl',\n",
    "'../2nd_features/incept_aug2_feat.pkl',\n",
    "#'../2nd_features/other_model_gbrt.pkl',\n",
    "#'../2nd_features/other_model_gbrt2.pkl',\n",
    "'../2nd_features/other_model_gbrt4.pkl',\n",
    "#'../2nd_features/other_model_gbrt5.pkl',\n",
    "'../2nd_features/other_model_gbrt6.pkl',\n",
    "#'../2nd_features/other_model_gbrt7.pkl',\n",
    "#'../2nd_features/other_model_lgb.pkl',\n",
    "#'../2nd_features/other_model_lgb2.pkl',\n",
    "#'../2nd_features/other_model_lgb4.pkl',\n",
    "#'../2nd_features/other_model_lgb5.pkl',\n",
    "#'../2nd_features/other_model_lgb6.pkl',\n",
    "'../2nd_features/other_model_lgb7.pkl',\n",
    "#'../2nd_features/other_model_lr.pkl',\n",
    "#'../2nd_features/other_model_lr2.pkl',\n",
    "#'../2nd_features/other_model_lr4.pkl',\n",
    "#'../2nd_features/other_model_lr7.pkl',\n",
    "#'../2nd_features/other_model_rf.pkl',\n",
    "#'../2nd_features/other_model_rf2.pkl',\n",
    "'../2nd_features/other_model_rf4.pkl',\n",
    "'../2nd_features/other_model_rf5.pkl',\n",
    "'../2nd_features/other_model_rf6.pkl',\n",
    "'../2nd_features/other_model_rf7.pkl',\n",
    "#'../2nd_features/other_model_xgb.pkl',\n",
    "#'../2nd_features/other_model_xgb2.pkl',\n",
    "'../2nd_features/other_model_xgb4.pkl',\n",
    "'../2nd_features/other_model_xgb5.pkl',\n",
    "#'../2nd_features/other_model_xgb6.pkl',\n",
    "'../2nd_features/other_model_xgb7.pkl',\n",
    "'../2nd_features/resnet_aug2_feat.pkl',\n",
    "'../2nd_features/xception_aug1_feat.pkl',\n",
    "'../2nd_features/vgg_aug1_new_feat.pkl',\n",
    "\n",
    "    \n",
    "# '../features/cnn_1_aug1_feat.pkl',\n",
    "# '../features/cnn_1_aug_1_fold8_feat.pkl',\n",
    "# '../features/cnn_1_aug_rescale_preprocess_feat.pkl',\n",
    "# '../features/cnn_1_aug_skimage_denoise_feat.pkl',\n",
    "# '../features/cnn_1_aug_skimage_preprocess_feat.pkl',\n",
    " '../features/cnn_1_feat.pkl',\n",
    "# '../features/cnn_2_aug1_feat.pkl',\n",
    "# '../features/cnn_2_aug_1_fold8_feat.pkl',\n",
    "# '../features/cnn_2_aug_denoise_preprocess_feat.pkl',\n",
    "# '../features/cnn_2_aug_rescale_preprocess_feat.pkl',\n",
    "# '../features/cnn_2_aug_skimage_preprocess_feat.pkl',\n",
    "# '../features/cnn_2_feat.pkl',\n",
    "# '../features/cnn_3_aug1_feat.pkl',\n",
    "# '../features/cnn_3_aug_1_fold8_feat.pkl',\n",
    "# '../features/cnn_3_aug_denoise_preprocess_feat.pkl',\n",
    "# '../features/cnn_3_aug_rescale_preprocess_feat.pkl',\n",
    "# '../features/cnn_3_aug_skimage_preprocess_feat.pkl',\n",
    "# '../features/cnn_4_aug1_feat.pkl',\n",
    "# '../features/cnn_4_aug1_feat_add_early.pkl',\n",
    "# '../features/cnn_4_aug_1_fold8_feat.pkl',\n",
    "# '../features/cnn_4_aug_denoise_preprocess_feat.pkl',\n",
    "# '../features/cnn_4_aug_rescale_preprocess_feat.pkl',\n",
    "# '../features/cnn_4_aug_skimage_preprocess_feat.pkl',\n",
    "# '../features/cnn_5_aug1_feat.pkl',\n",
    "# '../features/cnn_5_aug_1_fold8_feat.pkl',\n",
    "# '../features/cnn_5_aug_denoise_preprocess_feat.pkl',\n",
    "# '../features/cnn_5_aug_rescale_preprocess_feat.pkl',\n",
    "# '../features/cnn_5_aug_skimage_preprocess_feat.pkl',\n",
    "# '../features/incept_1_feat.pkl',\n",
    "# '../features/incept_aug1_feat.pkl',\n",
    " '../features/incept_aug1_fold8_feat.pkl',\n",
    "# '../features/incept_aug2_feat.pkl',\n",
    "# '../features/incept_aug3_feat.pkl',\n",
    "# '../features/incept_aug4_feat.pkl',\n",
    "# '../features/other_feat.pkl',\n",
    "# '../features/other_model_gbrt.pkl',\n",
    "# '../features/other_model_gbrt2.pkl',\n",
    "# '../features/other_model_gbrt4.pkl',\n",
    "# '../features/other_model_gbrt5.pkl',\n",
    "# '../features/other_model_gbrt6.pkl',\n",
    "# '../features/other_model_lgb.pkl',\n",
    "# '../features/other_model_lgb2.pkl',\n",
    "# '../features/other_model_lgb4.pkl',\n",
    "# '../features/other_model_lgb5.pkl',\n",
    "# '../features/other_model_lgb6.pkl',\n",
    "# '../features/other_model_lr.pkl',\n",
    "# '../features/other_model_lr2.pkl',\n",
    "# '../features/other_model_lr4.pkl',\n",
    "# '../features/other_model_lr5.pkl',\n",
    "# '../features/other_model_lr6.pkl',\n",
    "# '../features/other_model_rf.pkl',\n",
    "# '../features/other_model_rf2.pkl',\n",
    "# '../features/other_model_rf4.pkl',\n",
    "# '../features/other_model_rf5.pkl',\n",
    "# '../features/other_model_rf6.pkl',\n",
    "# '../features/other_model_xgb.pkl',\n",
    "# '../features/other_model_xgb2.pkl',\n",
    "# '../features/other_model_xgb4.pkl',\n",
    "# '../features/other_model_xgb5.pkl',\n",
    "# '../features/other_model_xgb6.pkl',\n",
    "# '../features/resnet_1_feat.pkl',\n",
    "# '../features/resnet_aug1_feat.pkl',\n",
    "# '../features/resnet_aug1_fold8_feat.pkl',\n",
    "# '../features/resnet_aug2_feat.pkl',\n",
    "# '../features/resnet_aug3_feat.pkl',\n",
    "# '../features/resnet_aug4_feat.pkl',\n",
    "# '../features/vgg16_1_feat.pkl',\n",
    "# '../features/vgg_aug1_feat.pkl',\n",
    " '../features/vgg_aug1_fold8_feat.pkl',\n",
    "# '../features/vgg_aug1_new_feat.pkl',\n",
    "# '../features/xception_aug1_feat.pkl',\n",
    "]\n",
    "\n",
    "def load_x_y():\n",
    "    train_x,test_x=[],[]\n",
    "    for f in fl:\n",
    "        #print(f)\n",
    "        with open(f,'rb') as fin:\n",
    "            a,b = pickle.load(fin)\n",
    "            train_x.append(a)\n",
    "            test_x.append(b)\n",
    "    train_x = np.hstack(train_x)\n",
    "    test_x = np.hstack(test_x)\n",
    "    train_df = pd.read_json('../input/train.json')\n",
    "    y = train_df.is_iceberg.values\n",
    "    return train_x,test_x,y\n",
    "\n",
    "train_x,test_x,train_y = load_x_y()\n",
    "print(train_x.shape,test_x.shape,train_y.shape)"
   ]
  },
  {
   "cell_type": "code",
   "execution_count": 163,
   "metadata": {},
   "outputs": [],
   "source": [
    "from sklearn.linear_model import LogisticRegression\n",
    "from sklearn.metrics import log_loss\n",
    "from sklearn.model_selection import StratifiedKFold\n",
    "from sklearn.metrics import log_loss\n",
    "def cv_test(k_cnt=3,rnd=42,save_flag=False):\n",
    "    kf = StratifiedKFold(n_splits=k_cnt, shuffle=True, random_state=rnd*2)\n",
    "    w_test_pred = None\n",
    "    r_val_loss = 0\n",
    "    test_pred = None\n",
    "    val_loss = 0\n",
    "    val_loss_list = []\n",
    "    for train_index, test_index in kf.split(train_x,train_y):\n",
    "        X_train, X_test = train_x[train_index], train_x[test_index]\n",
    "        y_train, y_test = train_y[train_index], train_y[test_index]\n",
    "\n",
    "        # train model\n",
    "        m = LogisticRegression(C=2.0,max_iter=100)\n",
    "        m.fit(X_train,y_train)\n",
    "        \n",
    "        # cal val loss\n",
    "        curr_val_loss = log_loss(y_test,m.predict_proba(X_test))\n",
    "        curr_tr_loss = log_loss(y_train,m.predict_proba(X_train))\n",
    "        val_loss += curr_val_loss/k_cnt\n",
    "        val_loss_list.append(curr_val_loss)\n",
    "        curr_r_val_loss = 1.0 / curr_val_loss\n",
    "        r_val_loss += curr_r_val_loss\n",
    "        print('curr train loss',curr_tr_loss,'curr val loss', curr_val_loss)\n",
    "        \n",
    "        if test_pred is None:\n",
    "            test_pred = m.predict_proba(test_x)\n",
    "            w_test_pred = m.predict_proba(test_x)*curr_r_val_loss\n",
    "        else:\n",
    "            curr_pred = m.predict_proba(test_x)\n",
    "            test_pred += curr_pred\n",
    "            w_test_pred = w_test_pred + curr_pred*curr_r_val_loss\n",
    "\n",
    "    # avg\n",
    "    test_pred = test_pred / k_cnt\n",
    "    w_test_pred = w_test_pred / r_val_loss\n",
    "    \n",
    "    # train log loss\n",
    "    print('local average valid loss',val_loss,'val loss std',np.std(val_loss_list))\n",
    "    print(test_pred.shape)\n",
    "    if save_flag:\n",
    "        test_df=pd.read_json('../input/test.json')\n",
    "        submission = pd.DataFrame(columns=['id','is_iceberg'])\n",
    "        submission['id']=test_df['id']\n",
    "        submission['is_iceberg']=test_pred[:,1]\n",
    "        print(submission.head())\n",
    "        submission.to_csv('../results/all_lr_2nd_fold_{}_rnd_{}.csv'.format(k_cnt,rnd), index=False)"
   ]
  },
  {
   "cell_type": "code",
   "execution_count": 164,
   "metadata": {},
   "outputs": [
    {
     "name": "stdout",
     "output_type": "stream",
     "text": [
      "curr train loss 0.130819098982 curr val loss 0.14094013374\n",
      "curr train loss 0.132157941725 curr val loss 0.134170319386\n",
      "curr train loss 0.129126509163 curr val loss 0.147269388688\n",
      "local average valid loss 0.140793280605 val loss std 0.00534868074248\n",
      "(8424, 2)\n",
      "         id  is_iceberg\n",
      "0  5941774d    0.026726\n",
      "1  4023181e    0.813989\n",
      "2  b20200e4    0.117601\n",
      "3  e7f018bb    0.990050\n",
      "4  4371c8c3    0.130318\n"
     ]
    }
   ],
   "source": [
    "cv_test(3,42,True)"
   ]
  },
  {
   "cell_type": "code",
   "execution_count": 165,
   "metadata": {},
   "outputs": [
    {
     "name": "stdout",
     "output_type": "stream",
     "text": [
      "curr train loss 0.128409040984 curr val loss 0.149627982299\n",
      "curr train loss 0.134509922691 curr val loss 0.126345188281\n",
      "curr train loss 0.131055095629 curr val loss 0.139684244654\n",
      "curr train loss 0.134042433663 curr val loss 0.129446686909\n",
      "curr train loss 0.127407098043 curr val loss 0.150518983286\n",
      "local average valid loss 0.139124617086 val loss std 0.00997438296847\n",
      "(8424, 2)\n",
      "         id  is_iceberg\n",
      "0  5941774d    0.025175\n",
      "1  4023181e    0.808625\n",
      "2  b20200e4    0.119268\n",
      "3  e7f018bb    0.990423\n",
      "4  4371c8c3    0.127302\n"
     ]
    }
   ],
   "source": [
    "cv_test(5,42,True)"
   ]
  },
  {
   "cell_type": "code",
   "execution_count": 169,
   "metadata": {},
   "outputs": [
    {
     "name": "stdout",
     "output_type": "stream",
     "text": [
      "curr train loss 0.128125464647 curr val loss 0.146074927894\n",
      "curr train loss 0.127265203089 curr val loss 0.147463707417\n",
      "curr train loss 0.136773194237 curr val loss 0.128471497231\n",
      "local average valid loss 0.140670044181 val loss std 0.00864428859225\n",
      "(8424, 2)\n",
      "         id  is_iceberg\n",
      "0  5941774d    0.025913\n",
      "1  4023181e    0.817105\n",
      "2  b20200e4    0.126885\n",
      "3  e7f018bb    0.990009\n",
      "4  4371c8c3    0.135909\n"
     ]
    }
   ],
   "source": [
    "cv_test(3,252,True)"
   ]
  },
  {
   "cell_type": "code",
   "execution_count": 170,
   "metadata": {},
   "outputs": [
    {
     "name": "stdout",
     "output_type": "stream",
     "text": [
      "curr train loss 0.131546957143 curr val loss 0.138400394069\n",
      "curr train loss 0.126856197016 curr val loss 0.158912982551\n",
      "curr train loss 0.12973876258 curr val loss 0.146348124425\n",
      "curr train loss 0.130190127623 curr val loss 0.141423024174\n",
      "curr train loss 0.135138464703 curr val loss 0.121927896162\n",
      "local average valid loss 0.141402484276 val loss std 0.0119945775752\n",
      "(8424, 2)\n",
      "         id  is_iceberg\n",
      "0  5941774d    0.025089\n",
      "1  4023181e    0.806896\n",
      "2  b20200e4    0.122358\n",
      "3  e7f018bb    0.990472\n",
      "4  4371c8c3    0.133711\n"
     ]
    }
   ],
   "source": [
    "cv_test(5,66,True)"
   ]
  },
  {
   "cell_type": "code",
   "execution_count": 171,
   "metadata": {},
   "outputs": [
    {
     "name": "stdout",
     "output_type": "stream",
     "text": [
      "curr train loss 0.128804384463 curr val loss 0.162093323354\n",
      "curr train loss 0.131092538876 curr val loss 0.139106284564\n",
      "curr train loss 0.131703955852 curr val loss 0.136747449909\n",
      "curr train loss 0.133662263734 curr val loss 0.115138039418\n",
      "curr train loss 0.126932196777 curr val loss 0.173195345683\n",
      "curr train loss 0.135415588901 curr val loss 0.10449805907\n",
      "curr train loss 0.128233331101 curr val loss 0.164991880345\n",
      "curr train loss 0.136385702102 curr val loss 0.0976475319703\n",
      "curr train loss 0.129175992222 curr val loss 0.155989126457\n",
      "curr train loss 0.129443867111 curr val loss 0.152648469679\n",
      "local average valid loss 0.140205551045 val loss std 0.0251266147423\n",
      "(8424, 2)\n",
      "         id  is_iceberg\n",
      "0  5941774d    0.024968\n",
      "1  4023181e    0.807101\n",
      "2  b20200e4    0.116320\n",
      "3  e7f018bb    0.990698\n",
      "4  4371c8c3    0.124977\n"
     ]
    }
   ],
   "source": [
    "cv_test(10,42,True)"
   ]
  }
 ],
 "metadata": {
  "kernelspec": {
   "display_name": "Python 3",
   "language": "python",
   "name": "python3"
  },
  "language_info": {
   "codemirror_mode": {
    "name": "ipython",
    "version": 3
   },
   "file_extension": ".py",
   "mimetype": "text/x-python",
   "name": "python",
   "nbconvert_exporter": "python",
   "pygments_lexer": "ipython3",
   "version": "3.5.2"
  }
 },
 "nbformat": 4,
 "nbformat_minor": 2
}
