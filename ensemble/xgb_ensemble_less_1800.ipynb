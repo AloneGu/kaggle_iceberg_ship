{
 "cells": [
  {
   "cell_type": "code",
   "execution_count": 13,
   "metadata": {},
   "outputs": [],
   "source": [
    "import pickle\n",
    "import numpy as np\n",
    "import xgboost as xgb\n",
    "import glob\n",
    "import pandas as pd\n"
   ]
  },
  {
   "cell_type": "code",
   "execution_count": 14,
   "metadata": {},
   "outputs": [
    {
     "name": "stdout",
     "output_type": "stream",
     "text": [
      "../features/cnn_4_aug1_feat.pkl\n",
      "../features/incept_aug1_feat.pkl\n",
      "../features/other_feat.pkl\n",
      "../features/resnet_aug1_feat.pkl\n",
      "../features/xception_aug1_feat.pkl\n",
      "(1604, 15) (8424, 15) (1604,)\n"
     ]
    }
   ],
   "source": [
    "choose_fl = [\n",
    "  '../features/cnn_4_aug1_feat.pkl',\n",
    " '../features/incept_aug1_feat.pkl',\n",
    " '../features/other_feat.pkl',\n",
    " '../features/resnet_aug1_feat.pkl',\n",
    " '../features/xception_aug1_feat.pkl',\n",
    "\n",
    "]\n",
    "\n",
    "def load_x_y():\n",
    "    train_x,test_x=[],[]\n",
    "    for f in choose_fl:\n",
    "        print(f)\n",
    "        with open(f,'rb') as fin:\n",
    "            a,b = pickle.load(fin)\n",
    "            train_x.append(a)\n",
    "            test_x.append(b)\n",
    "    train_x = np.hstack(train_x)\n",
    "    test_x = np.hstack(test_x)\n",
    "    train_df = pd.read_json('../input/train.json')\n",
    "    y = train_df.is_iceberg.values\n",
    "    return train_x,test_x,y\n",
    "\n",
    "train_x,test_x,train_y = load_x_y()\n",
    "print(train_x.shape,test_x.shape,train_y.shape)"
   ]
  },
  {
   "cell_type": "code",
   "execution_count": 15,
   "metadata": {},
   "outputs": [
    {
     "name": "stdout",
     "output_type": "stream",
     "text": [
      "def done\n"
     ]
    }
   ],
   "source": [
    "from sklearn.model_selection import StratifiedKFold\n",
    "from sklearn.metrics import log_loss\n",
    "def cv_test(k_cnt=3,rnd=42,save_flag=False):\n",
    "    kf = StratifiedKFold(n_splits=k_cnt, shuffle=True, random_state=rnd*2)\n",
    "    w_test_pred = None\n",
    "    r_val_loss = 0\n",
    "    test_pred = None\n",
    "    val_loss = 0\n",
    "    val_loss_list = []\n",
    "    for train_index, test_index in kf.split(train_x,train_y):\n",
    "        X_train, X_test = train_x[train_index], train_x[test_index]\n",
    "        y_train, y_test = train_y[train_index], train_y[test_index]\n",
    "        params = {\n",
    "                'colsample_bytree': 0.75,\n",
    "                'colsample_bylevel':0.95,\n",
    "                'gamma':0.2,\n",
    "                'subsample': 0.9,\n",
    "                'eta': 0.07,\n",
    "                'max_depth': 3,\n",
    "                'eval_metric':'logloss',\n",
    "                'objective':'binary:logistic',\n",
    "                'scale_pos_weight': 0.85\n",
    "                }\n",
    "        \n",
    "        # def mat\n",
    "        d_train = xgb.DMatrix(X_train, y_train)\n",
    "        d_valid = xgb.DMatrix(X_test, y_test)\n",
    "        d_test = xgb.DMatrix(test_x)\n",
    "        \n",
    "        watchlist = [(d_train, 'train'), (d_valid, 'valid')]\n",
    "        # train model\n",
    "        m = xgb.train(params, d_train, 500, watchlist, \n",
    "                        early_stopping_rounds=30,\n",
    "                        verbose_eval=1009)\n",
    "        \n",
    "        # cal val loss\n",
    "        curr_val_loss = log_loss(y_test,m.predict(d_valid))\n",
    "        val_loss += curr_val_loss/k_cnt\n",
    "        val_loss_list.append(curr_val_loss)\n",
    "        curr_r_val_loss = 1.0 / curr_val_loss\n",
    "        r_val_loss += curr_r_val_loss\n",
    "        \n",
    "        if test_pred is None:\n",
    "            test_pred = m.predict(d_test)\n",
    "            w_test_pred = m.predict(d_test)*curr_r_val_loss\n",
    "        else:\n",
    "            curr_pred = m.predict(d_test)\n",
    "            test_pred += curr_pred\n",
    "            w_test_pred = w_test_pred + curr_pred*curr_r_val_loss\n",
    "\n",
    "    # avg\n",
    "    test_pred = test_pred / k_cnt\n",
    "    w_test_pred = w_test_pred / r_val_loss\n",
    "    \n",
    "    # train log loss\n",
    "    print('local average valid loss',val_loss,'val loss std',np.std(val_loss_list))\n",
    "    if save_flag:\n",
    "        test_df=pd.read_json('../input/test.json')\n",
    "        submission = pd.DataFrame()\n",
    "        submission['id']=test_df['id']\n",
    "        submission['is_iceberg']=test_pred\n",
    "        print(submission.head(20))\n",
    "        submission.to_csv('../results/less_1800_xgb_sub_fold_{}_rnd_{}.csv'.format(k_cnt,rnd), index=False)\n",
    "        \n",
    "        submission['is_iceberg']=np.clip(test_pred,0.001,0.999)\n",
    "        print(submission.head(20))\n",
    "        submission.to_csv('../results/clip_less_1800_xgb_sub_fold_{}_rnd_{}.csv'.format(k_cnt,rnd), index=False)\n",
    "        \n",
    "#         submission = pd.DataFrame()\n",
    "#         submission['id']=test_df['id']\n",
    "#         submission['is_iceberg']=w_test_pred\n",
    "#         print(submission.head())\n",
    "#         submission.to_csv('../results/weighted_xgb_sub_fold_{}_rnd_{}.csv'.format(k_cnt,rnd), index=False)\n",
    "\n",
    "    \n",
    "print('def done')"
   ]
  },
  {
   "cell_type": "code",
   "execution_count": 16,
   "metadata": {},
   "outputs": [
    {
     "name": "stdout",
     "output_type": "stream",
     "text": [
      "[0]\ttrain-logloss:0.640999\tvalid-logloss:0.643458\n",
      "Multiple eval metrics have been passed: 'valid-logloss' will be used for early stopping.\n",
      "\n",
      "Will train until valid-logloss hasn't improved in 30 rounds.\n",
      "Stopping. Best iteration:\n",
      "[105]\ttrain-logloss:0.097947\tvalid-logloss:0.165277\n",
      "\n",
      "[0]\ttrain-logloss:0.640639\tvalid-logloss:0.641882\n",
      "Multiple eval metrics have been passed: 'valid-logloss' will be used for early stopping.\n",
      "\n",
      "Will train until valid-logloss hasn't improved in 30 rounds.\n",
      "Stopping. Best iteration:\n",
      "[116]\ttrain-logloss:0.089403\tvalid-logloss:0.170795\n",
      "\n",
      "[0]\ttrain-logloss:0.639686\tvalid-logloss:0.639934\n",
      "Multiple eval metrics have been passed: 'valid-logloss' will be used for early stopping.\n",
      "\n",
      "Will train until valid-logloss hasn't improved in 30 rounds.\n",
      "Stopping. Best iteration:\n",
      "[69]\ttrain-logloss:0.114263\tvalid-logloss:0.172664\n",
      "\n",
      "local average valid loss 0.171946785403 val loss std 0.00449227604147\n",
      "          id  is_iceberg\n",
      "0   5941774d    0.017403\n",
      "1   4023181e    0.948221\n",
      "2   b20200e4    0.223526\n",
      "3   e7f018bb    0.996388\n",
      "4   4371c8c3    0.627766\n",
      "5   a8d9b1fd    0.122139\n",
      "6   29e7727e    0.014160\n",
      "7   92a51ffb    0.995766\n",
      "8   c769ac97    0.003461\n",
      "9   aee0547d    0.002561\n",
      "10  565b28ac    0.003149\n",
      "11  e04e9775    0.489617\n",
      "12  8e8161d1    0.003488\n",
      "13  4cf4d256    0.938315\n",
      "14  139e5324    0.014537\n",
      "15  f156976f    0.015799\n",
      "16  68a117cc    0.049716\n",
      "17  d9aa7a56    0.745056\n",
      "18  9005b143    0.684782\n",
      "19  5f6d3988    0.990639\n",
      "          id  is_iceberg\n",
      "0   5941774d    0.017403\n",
      "1   4023181e    0.948221\n",
      "2   b20200e4    0.223526\n",
      "3   e7f018bb    0.996388\n",
      "4   4371c8c3    0.627766\n",
      "5   a8d9b1fd    0.122139\n",
      "6   29e7727e    0.014160\n",
      "7   92a51ffb    0.995766\n",
      "8   c769ac97    0.003461\n",
      "9   aee0547d    0.002561\n",
      "10  565b28ac    0.003149\n",
      "11  e04e9775    0.489617\n",
      "12  8e8161d1    0.003488\n",
      "13  4cf4d256    0.938315\n",
      "14  139e5324    0.014537\n",
      "15  f156976f    0.015799\n",
      "16  68a117cc    0.049716\n",
      "17  d9aa7a56    0.745056\n",
      "18  9005b143    0.684782\n",
      "19  5f6d3988    0.990639\n"
     ]
    }
   ],
   "source": [
    "cv_test(3,42,True)"
   ]
  },
  {
   "cell_type": "code",
   "execution_count": 17,
   "metadata": {
    "collapsed": true,
    "scrolled": false
   },
   "outputs": [],
   "source": [
    "#cv_test(5,42,True)"
   ]
  },
  {
   "cell_type": "code",
   "execution_count": 18,
   "metadata": {
    "collapsed": true
   },
   "outputs": [],
   "source": [
    "#cv_test(10,42,True)"
   ]
  }
 ],
 "metadata": {
  "kernelspec": {
   "display_name": "Python 3",
   "language": "python",
   "name": "python3"
  },
  "language_info": {
   "codemirror_mode": {
    "name": "ipython",
    "version": 3
   },
   "file_extension": ".py",
   "mimetype": "text/x-python",
   "name": "python",
   "nbconvert_exporter": "python",
   "pygments_lexer": "ipython3",
   "version": "3.5.2"
  }
 },
 "nbformat": 4,
 "nbformat_minor": 2
}
