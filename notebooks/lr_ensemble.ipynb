{
 "cells": [
  {
   "cell_type": "code",
   "execution_count": 1,
   "metadata": {},
   "outputs": [
    {
     "name": "stdout",
     "output_type": "stream",
     "text": [
      "'../features/cnn_1_aug1_feat.pkl',\n",
      "'../features/cnn_1_aug_rescale_preprocess_feat.pkl',\n",
      "'../features/cnn_1_aug_skimage_preprocess_feat.pkl',\n",
      "'../features/cnn_1_feat.pkl',\n",
      "'../features/cnn_2_aug1_feat.pkl',\n",
      "'../features/cnn_2_aug_rescale_preprocess_feat.pkl',\n",
      "'../features/cnn_2_aug_skimage_preprocess_feat.pkl',\n",
      "'../features/cnn_2_feat.pkl',\n",
      "'../features/cnn_3_aug1_feat.pkl',\n",
      "'../features/cnn_3_aug_rescale_preprocess_feat.pkl',\n",
      "'../features/cnn_3_aug_skimage_preprocess_feat.pkl',\n",
      "'../features/cnn_4_aug1_feat.pkl',\n",
      "'../features/cnn_4_aug1_feat_add_early.pkl',\n",
      "'../features/cnn_4_aug_rescale_preprocess_feat.pkl',\n",
      "'../features/cnn_4_aug_skimage_preprocess_feat.pkl',\n",
      "'../features/cnn_5_aug1_feat.pkl',\n",
      "'../features/cnn_5_aug_rescale_preprocess_feat.pkl',\n",
      "'../features/cnn_5_aug_skimage_preprocess_feat.pkl',\n",
      "'../features/incept_1_feat.pkl',\n",
      "'../features/incept_aug1_feat.pkl',\n",
      "'../features/incept_aug2_feat.pkl',\n",
      "'../features/incept_aug3_feat.pkl',\n",
      "'../features/incept_aug4_feat.pkl',\n",
      "'../features/other_feat.pkl',\n",
      "'../features/resnet_1_feat.pkl',\n",
      "'../features/resnet_aug1_feat.pkl',\n",
      "'../features/resnet_aug2_feat.pkl',\n",
      "'../features/resnet_aug3_feat.pkl',\n",
      "'../features/resnet_aug4_feat.pkl',\n",
      "'../features/vgg16_1_feat.pkl',\n",
      "'../features/vgg_aug1_feat.pkl',\n",
      "'../features/xception_aug1_feat.pkl',\n"
     ]
    }
   ],
   "source": [
    "import pickle\n",
    "import numpy as np\n",
    "import xgboost as xgb\n",
    "import glob\n",
    "import pandas as pd\n",
    "\n",
    "fl = sorted(glob.glob('../features/*.pkl'))\n",
    "for l in fl:\n",
    "    print(\"'{}',\".format(l))"
   ]
  },
  {
   "cell_type": "code",
   "execution_count": 2,
   "metadata": {},
   "outputs": [
    {
     "name": "stdout",
     "output_type": "stream",
     "text": [
      "../features/cnn_1_aug1_feat.pkl\n",
      "../features/cnn_1_aug_rescale_preprocess_feat.pkl\n",
      "../features/cnn_1_aug_skimage_preprocess_feat.pkl\n",
      "../features/cnn_1_feat.pkl\n",
      "../features/cnn_2_aug1_feat.pkl\n",
      "../features/cnn_3_aug_skimage_preprocess_feat.pkl\n",
      "../features/cnn_4_aug1_feat.pkl\n",
      "../features/cnn_4_aug_skimage_preprocess_feat.pkl\n",
      "../features/cnn_5_aug_skimage_preprocess_feat.pkl\n",
      "../features/incept_1_feat.pkl\n",
      "../features/incept_aug1_feat.pkl\n",
      "../features/other_feat.pkl\n",
      "../features/resnet_1_feat.pkl\n",
      "../features/resnet_aug1_feat.pkl\n",
      "../features/resnet_aug4_feat.pkl\n",
      "../features/vgg_aug1_feat.pkl\n",
      "../features/xception_aug1_feat.pkl\n",
      "(1604, 27) (8424, 27) (1604,)\n"
     ]
    }
   ],
   "source": [
    "choose_fl = [\n",
    " '../features/cnn_1_aug1_feat.pkl',\n",
    " '../features/cnn_1_aug_rescale_preprocess_feat.pkl',\n",
    " '../features/cnn_1_aug_skimage_preprocess_feat.pkl',\n",
    " '../features/cnn_1_feat.pkl',\n",
    " '../features/cnn_2_aug1_feat.pkl',\n",
    "# '../features/cnn_2_aug_rescale_preprocess_feat.pkl',\n",
    "# '../features/cnn_2_aug_skimage_preprocess_feat.pkl',\n",
    "# '../features/cnn_2_feat.pkl',\n",
    "# '../features/cnn_3_aug1_feat.pkl',\n",
    "# '../features/cnn_3_aug_rescale_preprocess_feat.pkl',\n",
    " '../features/cnn_3_aug_skimage_preprocess_feat.pkl',\n",
    " '../features/cnn_4_aug1_feat.pkl',\n",
    "# '../features/cnn_4_aug1_feat_add_early.pkl',\n",
    "# '../features/cnn_4_aug_rescale_preprocess_feat.pkl',\n",
    " '../features/cnn_4_aug_skimage_preprocess_feat.pkl',\n",
    "# '../features/cnn_5_aug1_feat.pkl',\n",
    "# '../features/cnn_5_aug_rescale_preprocess_feat.pkl',\n",
    " '../features/cnn_5_aug_skimage_preprocess_feat.pkl',\n",
    " '../features/incept_1_feat.pkl',\n",
    " '../features/incept_aug1_feat.pkl',\n",
    "# '../features/incept_aug2_feat.pkl',\n",
    "# '../features/incept_aug3_feat.pkl',\n",
    "# '../features/incept_aug4_feat.pkl',\n",
    " '../features/other_feat.pkl',\n",
    " '../features/resnet_1_feat.pkl',\n",
    " '../features/resnet_aug1_feat.pkl',\n",
    "# '../features/resnet_aug2_feat.pkl',\n",
    "# '../features/resnet_aug3_feat.pkl',\n",
    " '../features/resnet_aug4_feat.pkl',\n",
    "# '../features/vgg16_1_feat.pkl',\n",
    " '../features/vgg_aug1_feat.pkl',\n",
    " '../features/xception_aug1_feat.pkl',\n",
    "]\n",
    "\n",
    "def load_x_y():\n",
    "    train_x,test_x=[],[]\n",
    "    for f in choose_fl:\n",
    "        print(f)\n",
    "        with open(f,'rb') as fin:\n",
    "            a,b = pickle.load(fin)\n",
    "            train_x.append(a)\n",
    "            test_x.append(b)\n",
    "    train_x = np.hstack(train_x)\n",
    "    test_x = np.hstack(test_x)\n",
    "    train_df = pd.read_json('../input/train.json')\n",
    "    y = train_df.is_iceberg.values\n",
    "    return train_x,test_x,y\n",
    "\n",
    "train_x,test_x,train_y = load_x_y()\n",
    "print(train_x.shape,test_x.shape,train_y.shape)"
   ]
  },
  {
   "cell_type": "code",
   "execution_count": 5,
   "metadata": {},
   "outputs": [
    {
     "name": "stdout",
     "output_type": "stream",
     "text": [
      "0.150869880584\n",
      "0.150912477172\n",
      "0.151255727198\n"
     ]
    }
   ],
   "source": [
    "from sklearn.linear_model import LogisticRegression\n",
    "lr_m = LogisticRegression()\n",
    "lr_m.fit(train_x,train_y)\n",
    "train_pred = lr_m.predict_proba(train_x)\n",
    "from sklearn.metrics import log_loss\n",
    "print(log_loss(train_y,train_pred))\n",
    "print(log_loss(train_y,np.clip(train_pred,0.001,0.999)))\n",
    "print(log_loss(train_y,np.clip(train_pred,0.005,0.995)))"
   ]
  },
  {
   "cell_type": "code",
   "execution_count": 4,
   "metadata": {},
   "outputs": [
    {
     "name": "stdout",
     "output_type": "stream",
     "text": [
      "         id  is_iceberg\n",
      "0  5941774d    0.018219\n",
      "1  4023181e    0.933798\n",
      "2  b20200e4    0.020080\n",
      "3  e7f018bb    0.990468\n",
      "4  4371c8c3    0.899914\n"
     ]
    }
   ],
   "source": [
    "test_df=pd.read_json('../input/test.json')\n",
    "submission = pd.DataFrame()\n",
    "submission['id']=test_df['id']\n",
    "test_pred = lr_m.predict_proba(test_x)[:,1]\n",
    "submission['is_iceberg']=test_pred\n",
    "print(submission.head())\n",
    "submission.to_csv('../results/lr_ens_some.csv', index=False)"
   ]
  }
 ],
 "metadata": {
  "kernelspec": {
   "display_name": "Python 3",
   "language": "python",
   "name": "python3"
  },
  "language_info": {
   "codemirror_mode": {
    "name": "ipython",
    "version": 3
   },
   "file_extension": ".py",
   "mimetype": "text/x-python",
   "name": "python",
   "nbconvert_exporter": "python",
   "pygments_lexer": "ipython3",
   "version": "3.5.2"
  }
 },
 "nbformat": 4,
 "nbformat_minor": 2
}
