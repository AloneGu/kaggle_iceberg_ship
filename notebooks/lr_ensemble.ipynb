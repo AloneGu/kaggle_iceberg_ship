{
 "cells": [
  {
   "cell_type": "code",
   "execution_count": null,
   "metadata": {},
   "outputs": [],
   "source": [
    "import pickle\n",
    "import numpy as np\n",
    "import xgboost as xgb\n",
    "import glob\n",
    "import pandas as pd\n",
    "\n",
    "fl = sorted(glob.glob('../features/*.pkl'))\n",
    "for l in fl:\n",
    "    print(\"'{}',\".format(l))"
   ]
  },
  {
   "cell_type": "code",
   "execution_count": null,
   "metadata": {},
   "outputs": [],
   "source": [
    "choose_fl = [\n",
    "'../features/other_feat.pkl',\n",
    "'../features/cnn_4_aug1_feat_add_early.pkl',\n",
    "'../features/cnn_5_aug1_feat.pkl',\n",
    "'../features/incept_aug1_feat.pkl',\n",
    "'../features/cnn_1_aug1_feat.pkl',\n",
    "\n",
    "]\n",
    "\n",
    "def load_x_y():\n",
    "    train_x,test_x=[],[]\n",
    "    for f in choose_fl:\n",
    "        print(f)\n",
    "        with open(f,'rb') as fin:\n",
    "            a,b = pickle.load(fin)\n",
    "            train_x.append(a)\n",
    "            test_x.append(b)\n",
    "    train_x = np.hstack(train_x)\n",
    "    test_x = np.hstack(test_x)\n",
    "    train_df = pd.read_json('../input/train.json')\n",
    "    y = train_df.is_iceberg.values\n",
    "    return train_x,test_x,y\n",
    "\n",
    "train_x,test_x,train_y = load_x_y()\n",
    "print(train_x.shape,test_x.shape,train_y.shape)"
   ]
  },
  {
   "cell_type": "code",
   "execution_count": null,
   "metadata": {},
   "outputs": [],
   "source": [
    "from sklearn.linear_model import LogisticRegression\n",
    "lr_m = LogisticRegression()\n",
    "lr_m.fit(train_x,train_y)\n",
    "train_pred = lr_m.predict_proba(train_x)\n",
    "from sklearn.metrics import log_loss\n",
    "print(log_loss(train_y,train_pred))"
   ]
  },
  {
   "cell_type": "code",
   "execution_count": null,
   "metadata": {
    "collapsed": true
   },
   "outputs": [],
   "source": [
    "test_df=pd.read_json('../input/test.json')\n",
    "submission = pd.DataFrame()\n",
    "submission['id']=test_df['id']\n",
    "test_pred = lr_m.predict_proba(test_x)[:,1]\n",
    "submission['is_iceberg']=test_pred\n",
    "print(submission.head())\n",
    "submission.to_csv('../results/lr_ens_some.csv', index=False)"
   ]
  }
 ],
 "metadata": {
  "kernelspec": {
   "display_name": "Python 3",
   "language": "python",
   "name": "python3"
  },
  "language_info": {
   "codemirror_mode": {
    "name": "ipython",
    "version": 3
   },
   "file_extension": ".py",
   "mimetype": "text/x-python",
   "name": "python",
   "nbconvert_exporter": "python",
   "pygments_lexer": "ipython3",
   "version": "3.5.2"
  }
 },
 "nbformat": 4,
 "nbformat_minor": 2
}
