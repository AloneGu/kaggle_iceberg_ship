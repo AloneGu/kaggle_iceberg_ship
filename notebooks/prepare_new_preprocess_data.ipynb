{
 "cells": [
  {
   "cell_type": "code",
   "execution_count": 2,
   "metadata": {},
   "outputs": [
    {
     "name": "stdout",
     "output_type": "stream",
     "text": [
      "[-20.65583096 -26.3207018  -23.48826638] [ 3.10693167  2.64817097  2.36388569]\n"
     ]
    }
   ],
   "source": [
    "import numpy as np # linear algebra\n",
    "import pandas as pd # data processing, CSV file I/O (e.g. pd.read_csv)\n",
    "\n",
    "train_df = pd.read_json('../input/train.json')\n",
    "test_df = pd.read_json('../input/test.json')\n",
    "\n",
    "def get_mean_std(df):\n",
    "    mean_l = [0,0,0]\n",
    "    std_l = [0,0,0]\n",
    "    for i, row in df.iterrows():\n",
    "        # Formulate the bands as 75x75 arrays\n",
    "        band_1 = np.array(row['band_1'])\n",
    "        band_2 = np.array(row['band_2'])\n",
    "        band_3 = (band_1 + band_2)/2\n",
    "        mean_l[0] += np.mean(band_1)\n",
    "        mean_l[1] += np.mean(band_2)\n",
    "        mean_l[2] += np.mean(band_3)\n",
    "        std_l[0] += np.std(band_1)\n",
    "        std_l[1] += np.std(band_2)\n",
    "        std_l[2] += np.std(band_3)\n",
    "    mean_l = np.array(mean_l)/len(df)\n",
    "    std_l = np.array(std_l)/len(df)\n",
    "    return mean_l,std_l\n",
    "\n",
    "mean_l,std_l = get_mean_std(train_df)\n",
    "print(mean_l,std_l)"
   ]
  },
  {
   "cell_type": "code",
   "execution_count": null,
   "metadata": {
    "collapsed": true
   },
   "outputs": [],
   "source": [
    "def get_image(df,mean_l,std_l):\n",
    "    '''Create 3-channel 'images'. Return rescale-normalised images.'''\n",
    "    images = []\n",
    "    for i, row in df.iterrows():\n",
    "        # Formulate the bands as 75x75 arrays\n",
    "        band_1 = np.array(row['band_1']).reshape(75, 75)\n",
    "        band_2 = np.array(row['band_2']).reshape(75, 75)\n",
    "        band_3 = (band_1 + band_2)/2\n",
    "        \n",
    "        # preprocess\n",
    "        band_1 = (band_1 - mean_l[0])/std_l[0]\n",
    "        band_2 = (band_2 - mean_l[1])/std_l[1]\n",
    "        band_3 = (band_3 - mean_l[2])/std_l[2]\n",
    "        \n",
    "\n",
    "        # Rescale\n",
    "        img = np.dstack([band_1,band_2,band_3])\n",
    "        images.append(img)\n",
    "    return np.array(images)\n",
    "\n",
    "\n",
    "train_x = get_image(train_df,mean_l,std_l)\n",
    "test_x = get_image(test_df,mean_l,std_l)\n",
    "\n",
    "print(train_x.shape,test_x.shape)\n",
    "y = train_df.is_iceberg.values"
   ]
  },
  {
   "cell_type": "code",
   "execution_count": 5,
   "metadata": {},
   "outputs": [
    {
     "name": "stdout",
     "output_type": "stream",
     "text": [
      "done\n"
     ]
    }
   ],
   "source": [
    "import pickle\n",
    "with open('new_preprocess_x_y.pkl','wb') as fout:\n",
    "    pickle.dump([train_x,y,test_x],fout)\n",
    "    print('done')"
   ]
  }
 ],
 "metadata": {
  "kernelspec": {
   "display_name": "Python 3",
   "language": "python",
   "name": "python3"
  },
  "language_info": {
   "codemirror_mode": {
    "name": "ipython",
    "version": 3
   },
   "file_extension": ".py",
   "mimetype": "text/x-python",
   "name": "python",
   "nbconvert_exporter": "python",
   "pygments_lexer": "ipython3",
   "version": "3.5.2"
  }
 },
 "nbformat": 4,
 "nbformat_minor": 2
}
