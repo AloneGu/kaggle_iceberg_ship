{
 "cells": [
  {
   "cell_type": "code",
   "execution_count": 21,
   "metadata": {},
   "outputs": [
    {
     "name": "stdout",
     "output_type": "stream",
     "text": [
      "'../features/vgg16_1_feat.pkl'\n",
      "'../features/cnn_1_feat.pkl'\n",
      "'../features/resnet_aug1_feat.pkl'\n",
      "'../features/incept_aug1_feat.pkl'\n",
      "'../features/other_feat.pkl'\n",
      "'../features/incept_aug2_feat.pkl'\n",
      "'../features/cnn_1_aug1_feat.pkl'\n",
      "'../features/resnet_1_feat.pkl'\n",
      "'../features/cnn_2_aug1_feat_new_preprocess.pkl'\n",
      "'../features/cnn_2_aug1_feat.pkl'\n",
      "'../features/cnn_2_feat.pkl'\n",
      "'../features/cnn_4_aug1_feat.pkl'\n",
      "'../features/cnn_2_feat_adjust.pkl'\n",
      "'../features/incept_1_feat.pkl'\n",
      "'../features/vgg_aug1_feat.pkl'\n",
      "'../features/resnet_aug2_feat.pkl'\n",
      "'../features/cnn_2_aug2_feat.pkl'\n",
      "'../features/cnn_3_aug2_feat.pkl'\n",
      "'../features/cnn_4_aug2_feat.pkl'\n"
     ]
    }
   ],
   "source": [
    "import pickle\n",
    "import numpy as np\n",
    "import xgboost as xgb\n",
    "import glob\n",
    "import pandas as pd\n",
    "\n",
    "fl = glob.glob('../features/*.pkl')\n",
    "for l in fl:\n",
    "    print(\"'{}'\".format(l))"
   ]
  },
  {
   "cell_type": "code",
   "execution_count": 22,
   "metadata": {},
   "outputs": [
    {
     "name": "stdout",
     "output_type": "stream",
     "text": [
      "(1604, 29) (8424, 29) (1604,)\n"
     ]
    }
   ],
   "source": [
    "def load_x_y():\n",
    "    train_x,test_x=[],[]\n",
    "    for f in fl:\n",
    "        with open(f,'rb') as fin:\n",
    "            a,b = pickle.load(fin)\n",
    "            train_x.append(a)\n",
    "            test_x.append(b)\n",
    "    train_x = np.hstack(train_x)\n",
    "    test_x = np.hstack(test_x)\n",
    "    train_df = pd.read_json('../input/train.json')\n",
    "    y = train_df.is_iceberg.values\n",
    "    return train_x,test_x,y\n",
    "\n",
    "train_x,test_x,train_y = load_x_y()\n",
    "print(train_x.shape,test_x.shape,train_y.shape)"
   ]
  },
  {
   "cell_type": "code",
   "execution_count": 23,
   "metadata": {},
   "outputs": [
    {
     "name": "stdout",
     "output_type": "stream",
     "text": [
      "def done\n"
     ]
    }
   ],
   "source": [
    "from sklearn.model_selection import StratifiedKFold\n",
    "from sklearn.metrics import log_loss\n",
    "def cv_test(k_cnt=3,rnd=42,save_flag=False):\n",
    "    kf = StratifiedKFold(n_splits=k_cnt, shuffle=True, random_state=rnd*2)\n",
    "    test_pred = None\n",
    "    val_loss = 0\n",
    "    for train_index, test_index in kf.split(train_x,train_y):\n",
    "        X_train, X_test = train_x[train_index], train_x[test_index]\n",
    "        y_train, y_test = train_y[train_index], train_y[test_index]\n",
    "        params = {\n",
    "                'colsample_bytree': 0.75,\n",
    "                'colsample_bylevel':0.95,\n",
    "                'gamma':0.2,\n",
    "                'subsample': 0.9,\n",
    "                'eta': 0.07,\n",
    "                'max_depth': 3,\n",
    "                'eval_metric':'logloss',\n",
    "                'objective':'binary:logistic',\n",
    "                'scale_pos_weight': 1.0\n",
    "                }\n",
    "        \n",
    "        # def mat\n",
    "        d_train = xgb.DMatrix(X_train, y_train)\n",
    "        d_valid = xgb.DMatrix(X_test, y_test)\n",
    "        d_test = xgb.DMatrix(test_x)\n",
    "        \n",
    "        watchlist = [(d_train, 'train'), (d_valid, 'valid')]\n",
    "        # train model\n",
    "        m = xgb.train(params, d_train, 500, watchlist, \n",
    "                        early_stopping_rounds=30,\n",
    "                        verbose_eval=100)\n",
    "        \n",
    "        # cal val loss\n",
    "        val_loss += log_loss(y_test,m.predict(d_valid))/k_cnt\n",
    "        \n",
    "        if test_pred is None:\n",
    "            test_pred = m.predict(d_test)\n",
    "        else:\n",
    "            curr_pred = m.predict(d_test)\n",
    "            test_pred += curr_pred\n",
    "\n",
    "    # avg\n",
    "    test_pred = test_pred / k_cnt\n",
    "    \n",
    "    # train log loss\n",
    "    print('local average valid loss',val_loss)\n",
    "    if save_flag:\n",
    "        test_df=pd.read_json('../input/test.json')\n",
    "        submission = pd.DataFrame()\n",
    "        submission['id']=test_df['id']\n",
    "        submission['is_iceberg']=test_pred\n",
    "        print(submission.head())\n",
    "        submission.to_csv('../results/all_xgb_ens_sub.csv', index=False)\n",
    "\n",
    "    \n",
    "print('def done')"
   ]
  },
  {
   "cell_type": "code",
   "execution_count": 24,
   "metadata": {
    "scrolled": false
   },
   "outputs": [
    {
     "name": "stdout",
     "output_type": "stream",
     "text": [
      "[0]\ttrain-logloss:0.640042\tvalid-logloss:0.642126\n",
      "Multiple eval metrics have been passed: 'valid-logloss' will be used for early stopping.\n",
      "\n",
      "Will train until valid-logloss hasn't improved in 30 rounds.\n",
      "[100]\ttrain-logloss:0.086096\tvalid-logloss:0.156393\n",
      "Stopping. Best iteration:\n",
      "[101]\ttrain-logloss:0.085634\tvalid-logloss:0.155999\n",
      "\n",
      "[0]\ttrain-logloss:0.641179\tvalid-logloss:0.63845\n",
      "Multiple eval metrics have been passed: 'valid-logloss' will be used for early stopping.\n",
      "\n",
      "Will train until valid-logloss hasn't improved in 30 rounds.\n",
      "[100]\ttrain-logloss:0.096896\tvalid-logloss:0.099025\n",
      "[200]\ttrain-logloss:0.050041\tvalid-logloss:0.087509\n",
      "[300]\ttrain-logloss:0.029917\tvalid-logloss:0.084156\n",
      "Stopping. Best iteration:\n",
      "[336]\ttrain-logloss:0.025262\tvalid-logloss:0.082671\n",
      "\n",
      "[0]\ttrain-logloss:0.63927\tvalid-logloss:0.643324\n",
      "Multiple eval metrics have been passed: 'valid-logloss' will be used for early stopping.\n",
      "\n",
      "Will train until valid-logloss hasn't improved in 30 rounds.\n",
      "[100]\ttrain-logloss:0.083739\tvalid-logloss:0.153239\n",
      "Stopping. Best iteration:\n",
      "[128]\ttrain-logloss:0.067715\tvalid-logloss:0.145371\n",
      "\n",
      "[0]\ttrain-logloss:0.638706\tvalid-logloss:0.643772\n",
      "Multiple eval metrics have been passed: 'valid-logloss' will be used for early stopping.\n",
      "\n",
      "Will train until valid-logloss hasn't improved in 30 rounds.\n",
      "[100]\ttrain-logloss:0.077281\tvalid-logloss:0.207163\n",
      "Stopping. Best iteration:\n",
      "[117]\ttrain-logloss:0.067173\tvalid-logloss:0.20559\n",
      "\n",
      "[0]\ttrain-logloss:0.639972\tvalid-logloss:0.642274\n",
      "Multiple eval metrics have been passed: 'valid-logloss' will be used for early stopping.\n",
      "\n",
      "Will train until valid-logloss hasn't improved in 30 rounds.\n",
      "[100]\ttrain-logloss:0.077236\tvalid-logloss:0.184874\n",
      "Stopping. Best iteration:\n",
      "[80]\ttrain-logloss:0.090547\tvalid-logloss:0.182505\n",
      "\n",
      "local average valid loss 0.156802353807\n",
      "         id  is_iceberg\n",
      "0  5941774d    0.013395\n",
      "1  4023181e    0.803265\n",
      "2  b20200e4    0.020527\n",
      "3  e7f018bb    0.997600\n",
      "4  4371c8c3    0.106976\n"
     ]
    }
   ],
   "source": [
    "cv_test(5,233,True)"
   ]
  }
 ],
 "metadata": {
  "kernelspec": {
   "display_name": "Python 3",
   "language": "python",
   "name": "python3"
  },
  "language_info": {
   "codemirror_mode": {
    "name": "ipython",
    "version": 3
   },
   "file_extension": ".py",
   "mimetype": "text/x-python",
   "name": "python",
   "nbconvert_exporter": "python",
   "pygments_lexer": "ipython3",
   "version": "3.5.2"
  }
 },
 "nbformat": 4,
 "nbformat_minor": 2
}
