{
 "cells": [
  {
   "cell_type": "code",
   "execution_count": 1,
   "metadata": {},
   "outputs": [
    {
     "name": "stdout",
     "output_type": "stream",
     "text": [
      "../features/vgg16_1_feat.pkl\n",
      "../features/cnn_1_feat.pkl\n",
      "../features/other_feat.pkl\n",
      "../features/cnn_1_aug1_feat.pkl\n",
      "../features/resnet_1_feat.pkl\n",
      "../features/cnn_2_aug1_feat.pkl\n",
      "../features/cnn_2_feat.pkl\n",
      "../features/cnn_2_feat_adjust.pkl\n",
      "../features/incept_1_feat.pkl\n",
      "../features/cnn_2_aug2_feat.pkl\n",
      "(1604, 20) (8424, 20) (1604,)\n"
     ]
    }
   ],
   "source": [
    "import pickle\n",
    "import numpy as np\n",
    "import xgboost as xgb\n",
    "import glob\n",
    "import pandas as pd\n",
    "\n",
    "def load_x_y():\n",
    "    train_x,test_x=[],[]\n",
    "    for f in glob.glob('../features/*.pkl'):\n",
    "        print(f)\n",
    "        with open(f,'rb') as fin:\n",
    "            a,b = pickle.load(fin)\n",
    "            train_x.append(a)\n",
    "            test_x.append(b)\n",
    "    train_x = np.hstack(train_x)\n",
    "    test_x = np.hstack(test_x)\n",
    "    train_df = pd.read_json('../input/train.json')\n",
    "    y = train_df.is_iceberg.values\n",
    "    return train_x,test_x,y\n",
    "\n",
    "train_x,test_x,train_y = load_x_y()\n",
    "print(train_x.shape,test_x.shape,train_y.shape)"
   ]
  },
  {
   "cell_type": "code",
   "execution_count": 11,
   "metadata": {},
   "outputs": [
    {
     "name": "stdout",
     "output_type": "stream",
     "text": [
      "def done\n"
     ]
    }
   ],
   "source": [
    "from sklearn.model_selection import StratifiedKFold\n",
    "from sklearn.metrics import log_loss\n",
    "def cv_test(k_cnt=3,rnd=42,save_flag=False):\n",
    "    kf = StratifiedKFold(n_splits=k_cnt, shuffle=True, random_state=rnd*2)\n",
    "    test_pred = None\n",
    "    val_loss = 0\n",
    "    for train_index, test_index in kf.split(train_x,train_y):\n",
    "        X_train, X_test = train_x[train_index], train_x[test_index]\n",
    "        y_train, y_test = train_y[train_index], train_y[test_index]\n",
    "        params = {\n",
    "                'colsample_bytree': 0.75,\n",
    "                'colsample_bylevel':0.95,\n",
    "                'gamma':0.2,\n",
    "                'subsample': 0.9,\n",
    "                'eta': 0.07,\n",
    "                'max_depth': 3,\n",
    "                'eval_metric':'logloss',\n",
    "                'objective':'binary:logistic',\n",
    "                'scale_pos_weight': 1.0\n",
    "                }\n",
    "        \n",
    "        # def mat\n",
    "        d_train = xgb.DMatrix(X_train, y_train)\n",
    "        d_valid = xgb.DMatrix(X_test, y_test)\n",
    "        d_test = xgb.DMatrix(test_x)\n",
    "        \n",
    "        watchlist = [(d_train, 'train'), (d_valid, 'valid')]\n",
    "        # train model\n",
    "        m = xgb.train(params, d_train, 500, watchlist, \n",
    "                        early_stopping_rounds=20,\n",
    "                        verbose_eval=50)\n",
    "        \n",
    "        # cal val loss\n",
    "        val_loss += log_loss(y_test,m.predict(d_valid))/k_cnt\n",
    "        \n",
    "        if test_pred is None:\n",
    "            test_pred = m.predict(d_test)\n",
    "        else:\n",
    "            curr_pred = m.predict(d_test)\n",
    "            test_pred += curr_pred\n",
    "\n",
    "    # avg\n",
    "    test_pred = test_pred / k_cnt\n",
    "    \n",
    "    # train log loss\n",
    "    print('local average valid loss',val_loss)\n",
    "    if save_flag:\n",
    "        test_df=pd.read_json('../input/test.json')\n",
    "        submission = pd.DataFrame()\n",
    "        submission['id']=test_df['id']\n",
    "        submission['is_iceberg']=test_pred\n",
    "        print(submission.head())\n",
    "        submission.to_csv('../results/xgb_sub.csv', index=False)\n",
    "\n",
    "    \n",
    "print('def done')"
   ]
  },
  {
   "cell_type": "code",
   "execution_count": 12,
   "metadata": {
    "scrolled": false
   },
   "outputs": [
    {
     "name": "stdout",
     "output_type": "stream",
     "text": [
      "[0]\ttrain-logloss:0.641657\tvalid-logloss:0.642664\n",
      "Multiple eval metrics have been passed: 'valid-logloss' will be used for early stopping.\n",
      "\n",
      "Will train until valid-logloss hasn't improved in 20 rounds.\n",
      "[50]\ttrain-logloss:0.143012\tvalid-logloss:0.166868\n",
      "[100]\ttrain-logloss:0.102703\tvalid-logloss:0.148911\n",
      "Stopping. Best iteration:\n",
      "[124]\ttrain-logloss:0.087908\tvalid-logloss:0.143337\n",
      "\n",
      "[0]\ttrain-logloss:0.641701\tvalid-logloss:0.641994\n",
      "Multiple eval metrics have been passed: 'valid-logloss' will be used for early stopping.\n",
      "\n",
      "Will train until valid-logloss hasn't improved in 20 rounds.\n",
      "[50]\ttrain-logloss:0.15182\tvalid-logloss:0.138679\n",
      "[100]\ttrain-logloss:0.110653\tvalid-logloss:0.114605\n",
      "[150]\ttrain-logloss:0.082439\tvalid-logloss:0.103618\n",
      "[200]\ttrain-logloss:0.064478\tvalid-logloss:0.099232\n",
      "[250]\ttrain-logloss:0.049489\tvalid-logloss:0.094989\n",
      "[300]\ttrain-logloss:0.039072\tvalid-logloss:0.093102\n",
      "[350]\ttrain-logloss:0.031946\tvalid-logloss:0.091654\n",
      "Stopping. Best iteration:\n",
      "[353]\ttrain-logloss:0.031409\tvalid-logloss:0.091419\n",
      "\n",
      "[0]\ttrain-logloss:0.640707\tvalid-logloss:0.646273\n",
      "Multiple eval metrics have been passed: 'valid-logloss' will be used for early stopping.\n",
      "\n",
      "Will train until valid-logloss hasn't improved in 20 rounds.\n",
      "[50]\ttrain-logloss:0.140978\tvalid-logloss:0.186465\n",
      "[100]\ttrain-logloss:0.101041\tvalid-logloss:0.159658\n",
      "[150]\ttrain-logloss:0.072823\tvalid-logloss:0.15397\n",
      "Stopping. Best iteration:\n",
      "[154]\ttrain-logloss:0.071208\tvalid-logloss:0.153778\n",
      "\n",
      "[0]\ttrain-logloss:0.640365\tvalid-logloss:0.64706\n",
      "Multiple eval metrics have been passed: 'valid-logloss' will be used for early stopping.\n",
      "\n",
      "Will train until valid-logloss hasn't improved in 20 rounds.\n",
      "[50]\ttrain-logloss:0.1274\tvalid-logloss:0.237371\n",
      "Stopping. Best iteration:\n",
      "[79]\ttrain-logloss:0.100901\tvalid-logloss:0.228761\n",
      "\n",
      "[0]\ttrain-logloss:0.641461\tvalid-logloss:0.643568\n",
      "Multiple eval metrics have been passed: 'valid-logloss' will be used for early stopping.\n",
      "\n",
      "Will train until valid-logloss hasn't improved in 20 rounds.\n",
      "[50]\ttrain-logloss:0.138149\tvalid-logloss:0.193079\n",
      "[100]\ttrain-logloss:0.093739\tvalid-logloss:0.188598\n",
      "Stopping. Best iteration:\n",
      "[80]\ttrain-logloss:0.107499\tvalid-logloss:0.187341\n",
      "\n",
      "local average valid loss 0.162347653567\n",
      "         id  is_iceberg\n",
      "0  5941774d    0.013617\n",
      "1  4023181e    0.744657\n",
      "2  b20200e4    0.076167\n",
      "3  e7f018bb    0.997479\n",
      "4  4371c8c3    0.210373\n"
     ]
    }
   ],
   "source": [
    "cv_test(5,233,True)"
   ]
  }
 ],
 "metadata": {
  "kernelspec": {
   "display_name": "Python 3",
   "language": "python",
   "name": "python3"
  },
  "language_info": {
   "codemirror_mode": {
    "name": "ipython",
    "version": 3
   },
   "file_extension": ".py",
   "mimetype": "text/x-python",
   "name": "python",
   "nbconvert_exporter": "python",
   "pygments_lexer": "ipython3",
   "version": "3.5.2"
  }
 },
 "nbformat": 4,
 "nbformat_minor": 2
}
