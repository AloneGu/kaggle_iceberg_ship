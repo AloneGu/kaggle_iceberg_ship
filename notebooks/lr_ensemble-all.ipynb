{
 "cells": [
  {
   "cell_type": "code",
   "execution_count": 53,
   "metadata": {},
   "outputs": [
    {
     "name": "stdout",
     "output_type": "stream",
     "text": [
      "'../features/cnn_1_aug1_feat.pkl',\n",
      "'../features/cnn_1_aug_1_fold8_feat.pkl',\n",
      "'../features/cnn_1_aug_rescale_preprocess_feat.pkl',\n",
      "'../features/cnn_1_aug_skimage_denoise_feat.pkl',\n",
      "'../features/cnn_1_aug_skimage_preprocess_feat.pkl',\n",
      "'../features/cnn_1_feat.pkl',\n",
      "'../features/cnn_2_aug1_feat.pkl',\n",
      "'../features/cnn_2_aug_1_fold8_feat.pkl',\n",
      "'../features/cnn_2_aug_denoise_preprocess_feat.pkl',\n",
      "'../features/cnn_2_aug_rescale_preprocess_feat.pkl',\n",
      "'../features/cnn_2_aug_skimage_preprocess_feat.pkl',\n",
      "'../features/cnn_2_feat.pkl',\n",
      "'../features/cnn_3_aug1_feat.pkl',\n",
      "'../features/cnn_3_aug_1_fold8_feat.pkl',\n",
      "'../features/cnn_3_aug_denoise_preprocess_feat.pkl',\n",
      "'../features/cnn_3_aug_rescale_preprocess_feat.pkl',\n",
      "'../features/cnn_3_aug_skimage_preprocess_feat.pkl',\n",
      "'../features/cnn_4_aug1_feat.pkl',\n",
      "'../features/cnn_4_aug1_feat_add_early.pkl',\n",
      "'../features/cnn_4_aug_1_fold8_feat.pkl',\n",
      "'../features/cnn_4_aug_denoise_preprocess_feat.pkl',\n",
      "'../features/cnn_4_aug_rescale_preprocess_feat.pkl',\n",
      "'../features/cnn_4_aug_skimage_preprocess_feat.pkl',\n",
      "'../features/cnn_5_aug1_feat.pkl',\n",
      "'../features/cnn_5_aug_1_fold8_feat.pkl',\n",
      "'../features/cnn_5_aug_denoise_preprocess_feat.pkl',\n",
      "'../features/cnn_5_aug_rescale_preprocess_feat.pkl',\n",
      "'../features/cnn_5_aug_skimage_preprocess_feat.pkl',\n",
      "'../features/incept_1_feat.pkl',\n",
      "'../features/incept_aug1_feat.pkl',\n",
      "'../features/incept_aug1_fold8_feat.pkl',\n",
      "'../features/incept_aug2_feat.pkl',\n",
      "'../features/incept_aug3_feat.pkl',\n",
      "'../features/incept_aug4_feat.pkl',\n",
      "'../features/other_feat.pkl',\n",
      "'../features/resnet_1_feat.pkl',\n",
      "'../features/resnet_aug1_feat.pkl',\n",
      "'../features/resnet_aug1_fold8_feat.pkl',\n",
      "'../features/resnet_aug2_feat.pkl',\n",
      "'../features/resnet_aug3_feat.pkl',\n",
      "'../features/resnet_aug4_feat.pkl',\n",
      "'../features/vgg16_1_feat.pkl',\n",
      "'../features/vgg_aug1_feat.pkl',\n",
      "'../features/vgg_aug1_fold8_feat.pkl',\n",
      "'../features/vgg_aug1_new_feat.pkl',\n",
      "'../features/xception_aug1_feat.pkl',\n"
     ]
    }
   ],
   "source": [
    "import pickle\n",
    "import numpy as np\n",
    "\n",
    "import glob\n",
    "import pandas as pd\n",
    "\n",
    "fl = sorted(glob.glob('../features/*.pkl'))\n",
    "for l in fl:\n",
    "    print(\"'{}',\".format(l))"
   ]
  },
  {
   "cell_type": "code",
   "execution_count": 54,
   "metadata": {},
   "outputs": [
    {
     "name": "stdout",
     "output_type": "stream",
     "text": [
      "(1604, 56) (8424, 56) (1604,)\n"
     ]
    }
   ],
   "source": [
    "def load_x_y():\n",
    "    train_x,test_x=[],[]\n",
    "    for f in fl:\n",
    "        #print(f)\n",
    "        with open(f,'rb') as fin:\n",
    "            a,b = pickle.load(fin)\n",
    "            train_x.append(a)\n",
    "            test_x.append(b)\n",
    "    train_x = np.hstack(train_x)\n",
    "    test_x = np.hstack(test_x)\n",
    "    train_df = pd.read_json('../input/train.json')\n",
    "    y = train_df.is_iceberg.values\n",
    "    return train_x,test_x,y\n",
    "\n",
    "train_x,test_x,train_y = load_x_y()\n",
    "print(train_x.shape,test_x.shape,train_y.shape)"
   ]
  },
  {
   "cell_type": "code",
   "execution_count": 55,
   "metadata": {},
   "outputs": [],
   "source": [
    "from sklearn.linear_model import LogisticRegression\n",
    "from sklearn.metrics import log_loss\n",
    "from sklearn.model_selection import StratifiedKFold\n",
    "from sklearn.metrics import log_loss\n",
    "def cv_test(k_cnt=3,rnd=42,save_flag=False):\n",
    "    kf = StratifiedKFold(n_splits=k_cnt, shuffle=True, random_state=rnd*2)\n",
    "    w_test_pred = None\n",
    "    r_val_loss = 0\n",
    "    test_pred = None\n",
    "    val_loss = 0\n",
    "    val_loss_list = []\n",
    "    for train_index, test_index in kf.split(train_x,train_y):\n",
    "        X_train, X_test = train_x[train_index], train_x[test_index]\n",
    "        y_train, y_test = train_y[train_index], train_y[test_index]\n",
    "\n",
    "        # train model\n",
    "        m = LogisticRegression()\n",
    "        m.fit(X_train,y_train)\n",
    "        \n",
    "        # cal val loss\n",
    "        curr_val_loss = log_loss(y_test,m.predict_proba(X_test))\n",
    "        val_loss += curr_val_loss/k_cnt\n",
    "        val_loss_list.append(curr_val_loss)\n",
    "        curr_r_val_loss = 1.0 / curr_val_loss\n",
    "        r_val_loss += curr_r_val_loss\n",
    "        print('curr val loss', curr_val_loss)\n",
    "        \n",
    "        if test_pred is None:\n",
    "            test_pred = m.predict_proba(test_x)\n",
    "            w_test_pred = m.predict_proba(test_x)*curr_r_val_loss\n",
    "        else:\n",
    "            curr_pred = m.predict_proba(test_x)\n",
    "            test_pred += curr_pred\n",
    "            w_test_pred = w_test_pred + curr_pred*curr_r_val_loss\n",
    "\n",
    "    # avg\n",
    "    test_pred = test_pred / k_cnt\n",
    "    w_test_pred = w_test_pred / r_val_loss\n",
    "    \n",
    "    # train log loss\n",
    "    print('local average valid loss',val_loss,'val loss std',np.std(val_loss_list))\n",
    "    print(test_pred.shape)\n",
    "    if save_flag:\n",
    "        test_df=pd.read_json('../input/test.json')\n",
    "        submission = pd.DataFrame(columns=['id','is_iceberg'])\n",
    "        submission['id']=test_df['id']\n",
    "        submission['is_iceberg']=test_pred[:,1]\n",
    "        print(submission.head())\n",
    "        submission.to_csv('../results/all_lr_sub_fold_{}_rnd_{}.csv'.format(k_cnt,rnd), index=False)\n",
    "        \n",
    "        submission['is_iceberg']=w_test_pred[:,1]\n",
    "        print(submission.head())\n",
    "        submission.to_csv('../results/weighted_lr_xgb_sub_fold_{}_rnd_{}.csv'.format(k_cnt,rnd), index=False)"
   ]
  },
  {
   "cell_type": "code",
   "execution_count": 56,
   "metadata": {},
   "outputs": [
    {
     "name": "stdout",
     "output_type": "stream",
     "text": [
      "curr val loss 0.17250514\n",
      "curr val loss 0.149592336871\n",
      "curr val loss 0.167521660113\n",
      "local average valid loss 0.163206378995 val loss std 0.00983921999488\n",
      "(8424, 2)\n",
      "         id  is_iceberg\n",
      "0  5941774d    0.015250\n",
      "1  4023181e    0.927541\n",
      "2  b20200e4    0.013871\n",
      "3  e7f018bb    0.986836\n",
      "4  4371c8c3    0.751995\n",
      "         id  is_iceberg\n",
      "0  5941774d    0.015251\n",
      "1  4023181e    0.927438\n",
      "2  b20200e4    0.014212\n",
      "3  e7f018bb    0.987066\n",
      "4  4371c8c3    0.748066\n"
     ]
    }
   ],
   "source": [
    "cv_test(3,42,True)"
   ]
  },
  {
   "cell_type": "code",
   "execution_count": 57,
   "metadata": {},
   "outputs": [
    {
     "name": "stdout",
     "output_type": "stream",
     "text": [
      "curr val loss 0.185458156671\n",
      "curr val loss 0.147440206936\n",
      "curr val loss 0.172896028422\n",
      "curr val loss 0.156557219055\n",
      "curr val loss 0.167101765428\n",
      "local average valid loss 0.165890675302 val loss std 0.0131222042904\n",
      "(8424, 2)\n",
      "         id  is_iceberg\n",
      "0  5941774d    0.015231\n",
      "1  4023181e    0.933889\n",
      "2  b20200e4    0.008210\n",
      "3  e7f018bb    0.987327\n",
      "4  4371c8c3    0.753284\n",
      "         id  is_iceberg\n",
      "0  5941774d    0.015128\n",
      "1  4023181e    0.934645\n",
      "2  b20200e4    0.008315\n",
      "3  e7f018bb    0.987441\n",
      "4  4371c8c3    0.754875\n"
     ]
    }
   ],
   "source": [
    "cv_test(5,42,True)"
   ]
  },
  {
   "cell_type": "code",
   "execution_count": 58,
   "metadata": {},
   "outputs": [
    {
     "name": "stdout",
     "output_type": "stream",
     "text": [
      "curr val loss 0.185523119869\n",
      "curr val loss 0.178969519124\n",
      "curr val loss 0.173288988705\n",
      "curr val loss 0.119992681865\n",
      "curr val loss 0.1947546428\n",
      "curr val loss 0.138849813311\n",
      "curr val loss 0.164255325512\n",
      "curr val loss 0.151445730826\n",
      "curr val loss 0.165693066272\n",
      "curr val loss 0.175401543369\n",
      "local average valid loss 0.164817443165 val loss std 0.0213833928399\n",
      "(8424, 2)\n",
      "         id  is_iceberg\n",
      "0  5941774d    0.014748\n",
      "1  4023181e    0.935957\n",
      "2  b20200e4    0.006748\n",
      "3  e7f018bb    0.987536\n",
      "4  4371c8c3    0.757940\n",
      "         id  is_iceberg\n",
      "0  5941774d    0.014599\n",
      "1  4023181e    0.936214\n",
      "2  b20200e4    0.006698\n",
      "3  e7f018bb    0.987591\n",
      "4  4371c8c3    0.758685\n"
     ]
    }
   ],
   "source": [
    "cv_test(10,42,True)"
   ]
  }
 ],
 "metadata": {
  "kernelspec": {
   "display_name": "Python 3",
   "language": "python",
   "name": "python3"
  },
  "language_info": {
   "codemirror_mode": {
    "name": "ipython",
    "version": 3
   },
   "file_extension": ".py",
   "mimetype": "text/x-python",
   "name": "python",
   "nbconvert_exporter": "python",
   "pygments_lexer": "ipython3",
   "version": "3.5.2"
  }
 },
 "nbformat": 4,
 "nbformat_minor": 2
}
