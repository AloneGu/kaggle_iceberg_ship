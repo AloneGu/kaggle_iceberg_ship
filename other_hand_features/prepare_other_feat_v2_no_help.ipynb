{
 "cells": [
  {
   "cell_type": "code",
   "execution_count": 1,
   "metadata": {
    "collapsed": false
   },
   "outputs": [
    {
     "name": "stdout",
     "output_type": "stream",
     "text": [
      "                                              band_1  \\\n",
      "0  [-27.878360999999998, -27.15416, -28.668615, -...   \n",
      "1  [-12.242375, -14.920304999999999, -14.920363, ...   \n",
      "2  [-24.603676, -24.603714, -24.871029, -23.15277...   \n",
      "3  [-22.454607, -23.082819, -23.998013, -23.99805...   \n",
      "4  [-26.006956, -23.164886, -23.164886, -26.89116...   \n",
      "\n",
      "                                              band_2        id inc_angle  \\\n",
      "0  [-27.154118, -29.537888, -31.0306, -32.190483,...  dfd5f913   43.9239   \n",
      "1  [-31.506321, -27.984554, -26.645678, -23.76760...  e25388fd   38.1562   \n",
      "2  [-24.870956, -24.092632, -20.653963, -19.41104...  58b2aaa0   45.2859   \n",
      "3  [-27.889421, -27.519794, -27.165262, -29.10350...  4cfc3a18   43.8306   \n",
      "4  [-27.206915, -30.259186, -30.259186, -23.16495...  271f93f4   35.6256   \n",
      "\n",
      "   is_iceberg  \n",
      "0           0  \n",
      "1           0  \n",
      "2           1  \n",
      "3           0  \n",
      "4           0  \n"
     ]
    }
   ],
   "source": [
    "import pandas as pd\n",
    "train_df = pd.read_json('../input/train.json')\n",
    "test_df = pd.read_json('../input/test.json')\n",
    "print(train_df.head())\n",
    "\n",
    "import numpy as np\n",
    "import cv2\n",
    "from itertools import combinations\n",
    "from scipy.ndimage import laplace, sobel\n",
    "from scipy.stats import kurtosis, skew"
   ]
  },
  {
   "cell_type": "code",
   "execution_count": 4,
   "metadata": {
    "collapsed": false
   },
   "outputs": [
    {
     "name": "stdout",
     "output_type": "stream",
     "text": [
      "raw feats\n"
     ]
    }
   ],
   "source": [
    "\n",
    "\n",
    "def get_img_feat(img):\n",
    "    feats = [np.mean(img),np.std(img),np.median(img),np.max(img),np.min(img)]\n",
    "    return feats\n",
    "    \n",
    "def get_other_feat(df):\n",
    "    feats = []\n",
    "    band1,band2,band3,band4 = [],[],[],[]\n",
    "    for i, row in df.iterrows():\n",
    "        tmp_feat = []\n",
    "        img1 = np.array(row['band_1']).reshape(75, 75).astype('float32')\n",
    "        img2 = np.array(row['band_2']).reshape(75, 75).astype('float32')\n",
    "        if row['inc_angle'] == 'na':\n",
    "            ang = 0\n",
    "        else:\n",
    "            ang = float(row['inc_angle'])\n",
    "        img3 = (img1+img2)*ang/2.0\n",
    "        img4 = (img1-img2)*ang/2.0\n",
    "        band1.append(img1.ravel())\n",
    "        band2.append(img2.ravel())\n",
    "        band3.append(img3.ravel())\n",
    "        band4.append(img4.ravel())\n",
    "            \n",
    "        # base\n",
    "        st_trans = get_img_feat(img1) + get_img_feat(img2) + [ang] \n",
    "        tmp_feat += st_trans\n",
    "        tmp_feat += [x * y for x, y in combinations(st_trans, 2)]\n",
    "        tmp_feat += [x + y for x, y in combinations(st_trans, 2)]\n",
    "        tmp_feat += [x - y for x, y in combinations(st_trans, 2)]\n",
    "        \n",
    "        # lap\n",
    "        lap_1 = laplace(img1, mode='reflect', cval=0.0)\n",
    "        lap_2 = laplace(img2, mode='reflect', cval=0.0)\n",
    "        st_trans = get_img_feat(lap_1) + get_img_feat(lap_2)\n",
    "        \n",
    "        # sob\n",
    "        sob1 = sobel(img1, axis=0, mode='reflect', cval=0.0)\n",
    "        sob2 = sobel(img1, axis=1, mode='reflect', cval=0.0)\n",
    "        sob3 = sobel(img2, axis=0, mode='reflect', cval=0.0)\n",
    "        sob4 = sobel(img2, axis=1, mode='reflect', cval=0.0)\n",
    "        st_trans = st_trans + get_img_feat(sob1) + get_img_feat(sob2) + get_img_feat(sob3) + get_img_feat(sob4)\n",
    "        tmp_feat += st_trans\n",
    "        \n",
    "        # hist\n",
    "        hist = list(np.histogram(img1, bins=20)[0])\n",
    "        tmp_feat += hist\n",
    "        tmp_feat += [np.std(hist), np.max(hist), np.median(hist), (np.max(hist) - np.median(hist))]\n",
    "        \n",
    "        hist = list(np.histogram(img2, bins=20)[0])\n",
    "        tmp_feat += hist\n",
    "        tmp_feat += [np.std(hist), np.max(hist), np.median(hist), (np.max(hist) - np.median(hist))]\n",
    "        \n",
    "        tmp_feat += get_img_feat(img3) + get_img_feat(img4)\n",
    "        feats.append(tmp_feat)\n",
    "    return band1,band2,band3,band4,feats\n",
    "\n",
    "a_band1,a_band2,a_band3,a_band4,a_angs = get_other_feat(train_df)\n",
    "b_band1,b_band2,b_band3,b_band4,b_angs = get_other_feat(test_df)\n",
    "print('raw feats')"
   ]
  },
  {
   "cell_type": "code",
   "execution_count": 5,
   "metadata": {
    "collapsed": false
   },
   "outputs": [
    {
     "name": "stdout",
     "output_type": "stream",
     "text": [
      "pca done (1604, 50)\n"
     ]
    }
   ],
   "source": [
    "from sklearn import decomposition\n",
    "comp = 50\n",
    "pca_b1 = decomposition.PCA(n_components=comp, whiten=True, random_state=15)\n",
    "pca_b2 = decomposition.PCA(n_components=comp, whiten=True, random_state=16)\n",
    "pca_b3 = decomposition.PCA(n_components=comp, whiten=True, random_state=17)\n",
    "pca_b4 = decomposition.PCA(n_components=comp, whiten=True, random_state=18)\n",
    "\n",
    "a_band1_feat = pca_b1.fit_transform(np.array(a_band1))\n",
    "a_band2_feat = pca_b2.fit_transform(np.array(a_band2))\n",
    "a_band3_feat = pca_b3.fit_transform(np.array(a_band3))\n",
    "a_band4_feat = pca_b4.fit_transform(np.array(a_band4))\n",
    "\n",
    "b_band1_feat = pca_b1.transform(np.array(b_band1))\n",
    "b_band2_feat = pca_b2.transform(np.array(b_band2))\n",
    "b_band3_feat = pca_b3.transform(np.array(b_band3))\n",
    "b_band4_feat = pca_b4.transform(np.array(b_band4))\n",
    "\n",
    "print('pca done',a_band1_feat.shape)"
   ]
  },
  {
   "cell_type": "code",
   "execution_count": 6,
   "metadata": {
    "collapsed": false
   },
   "outputs": [
    {
     "name": "stdout",
     "output_type": "stream",
     "text": [
      "pca done (1604, 60)\n"
     ]
    }
   ],
   "source": [
    "a_bands = np.hstack([a_band1,a_band2,a_band3,a_band4])\n",
    "b_bands = np.hstack([b_band1,b_band2,b_band3,b_band4])\n",
    "pca_bx = decomposition.PCA(n_components=60, whiten=True, random_state=15)\n",
    "a_band_feat = pca_bx.fit_transform(np.array(a_bands))\n",
    "b_band_feat = pca_bx.transform(np.array(b_bands))\n",
    "print('pca done',a_band_feat.shape)"
   ]
  },
  {
   "cell_type": "code",
   "execution_count": 7,
   "metadata": {
    "collapsed": false
   },
   "outputs": [
    {
     "name": "stdout",
     "output_type": "stream",
     "text": [
      "(1604, 524) (8424, 524)\n"
     ]
    }
   ],
   "source": [
    "train_feat = np.hstack([a_band1_feat,a_band2_feat,a_band3_feat,a_band4_feat,a_band_feat,np.array(a_angs)])\n",
    "test_feat = np.hstack([b_band1_feat,b_band2_feat,b_band3_feat,b_band4_feat,b_band_feat,np.array(b_angs)])\n",
    "\n",
    "print(train_feat.shape,test_feat.shape)"
   ]
  },
  {
   "cell_type": "code",
   "execution_count": 8,
   "metadata": {
    "collapsed": false
   },
   "outputs": [
    {
     "name": "stdout",
     "output_type": "stream",
     "text": [
      "done\n"
     ]
    }
   ],
   "source": [
    "import pickle\n",
    "with open('other_feat_v2.pkl','wb') as fout:\n",
    "    pickle.dump([train_feat,test_feat],fout)\n",
    "print('done')"
   ]
  }
 ],
 "metadata": {
  "kernelspec": {
   "display_name": "Python 3",
   "language": "python",
   "name": "python3"
  },
  "language_info": {
   "codemirror_mode": {
    "name": "ipython",
    "version": 3
   },
   "file_extension": ".py",
   "mimetype": "text/x-python",
   "name": "python",
   "nbconvert_exporter": "python",
   "pygments_lexer": "ipython3",
   "version": "3.5.2"
  }
 },
 "nbformat": 4,
 "nbformat_minor": 2
}
