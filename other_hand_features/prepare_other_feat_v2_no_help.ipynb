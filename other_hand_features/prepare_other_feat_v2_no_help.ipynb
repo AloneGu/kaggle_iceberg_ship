{
 "cells": [
  {
   "cell_type": "code",
   "execution_count": 20,
   "metadata": {},
   "outputs": [
    {
     "name": "stdout",
     "output_type": "stream",
     "text": [
      "                                              band_1  \\\n",
      "0  [-27.878360999999998, -27.15416, -28.668615, -...   \n",
      "1  [-12.242375, -14.920304999999999, -14.920363, ...   \n",
      "2  [-24.603676, -24.603714, -24.871029, -23.15277...   \n",
      "3  [-22.454607, -23.082819, -23.998013, -23.99805...   \n",
      "4  [-26.006956, -23.164886, -23.164886, -26.89116...   \n",
      "\n",
      "                                              band_2        id inc_angle  \\\n",
      "0  [-27.154118, -29.537888, -31.0306, -32.190483,...  dfd5f913   43.9239   \n",
      "1  [-31.506321, -27.984554, -26.645678, -23.76760...  e25388fd   38.1562   \n",
      "2  [-24.870956, -24.092632, -20.653963, -19.41104...  58b2aaa0   45.2859   \n",
      "3  [-27.889421, -27.519794, -27.165262, -29.10350...  4cfc3a18   43.8306   \n",
      "4  [-27.206915, -30.259186, -30.259186, -23.16495...  271f93f4   35.6256   \n",
      "\n",
      "   is_iceberg  \n",
      "0           0  \n",
      "1           0  \n",
      "2           1  \n",
      "3           0  \n",
      "4           0  \n"
     ]
    }
   ],
   "source": [
    "import pandas as pd\n",
    "train_df = pd.read_json('../input/train.json')\n",
    "test_df = pd.read_json('../input/test.json')\n",
    "print(train_df.head())\n",
    "\n",
    "import numpy as np\n",
    "import cv2\n",
    "from itertools import combinations\n",
    "from scipy.ndimage import laplace, sobel\n",
    "from scipy.stats import kurtosis, skew"
   ]
  },
  {
   "cell_type": "code",
   "execution_count": 21,
   "metadata": {},
   "outputs": [
    {
     "name": "stdout",
     "output_type": "stream",
     "text": [
      "raw feats\n"
     ]
    }
   ],
   "source": [
    "def get_img_feat(img_org):\n",
    "    img = img_org.ravel()\n",
    "    feats = [np.mean(img),np.std(img),np.median(img),np.max(img),np.min(img)]\n",
    "    return feats\n",
    "\n",
    "    \n",
    "def get_other_feat(df):\n",
    "    band1,band2,band3,angs = [],[],[],[]\n",
    "    for i, row in df.iterrows():\n",
    "        tmp_feat = []\n",
    "        img1 = np.array(row['band_1']).astype('float32')\n",
    "        img2 = np.array(row['band_2']).astype('float32')\n",
    "        \n",
    "        if row['inc_angle'] == 'na':\n",
    "            ang = -1\n",
    "        else:\n",
    "            ang = float(row['inc_angle'])\n",
    "            \n",
    "\n",
    "        img3 = (img1-img2)*ang/2.0\n",
    "        band1.append(img1)\n",
    "        band2.append(img2)\n",
    "        band3.append(img3)\n",
    "        tmp_feat = [ang] + get_img_feat(img1) + get_img_feat(img2)\n",
    "        angs.append(tmp_feat)\n",
    "    return band1,band2,band3,angs\n",
    "        \n",
    "        \n",
    "\n",
    "a_band1,a_band2,a_band3,a_angs = get_other_feat(train_df)\n",
    "a_bands = np.hstack([a_band1,a_band2,a_band3])\n",
    "b_band1,b_band2,b_band3,b_angs = get_other_feat(test_df)\n",
    "b_bands = np.hstack([b_band1,b_band2,b_band3])\n",
    "print('raw feats')"
   ]
  },
  {
   "cell_type": "code",
   "execution_count": 28,
   "metadata": {},
   "outputs": [
    {
     "name": "stdout",
     "output_type": "stream",
     "text": [
      "pca done (1604, 20)\n"
     ]
    }
   ],
   "source": [
    "from sklearn import decomposition\n",
    "pca_b1 = decomposition.PCA(n_components=20, whiten=True, random_state=15)\n",
    "a_band_feat = pca_b1.fit_transform(np.array(a_bands))\n",
    "b_band_feat = pca_b1.transform(np.array(b_bands))\n",
    "print('pca done',a_band_feat.shape)"
   ]
  },
  {
   "cell_type": "code",
   "execution_count": 29,
   "metadata": {},
   "outputs": [
    {
     "name": "stdout",
     "output_type": "stream",
     "text": [
      "(1604, 31) (8424, 31)\n"
     ]
    }
   ],
   "source": [
    "train_feat = np.hstack([a_band_feat,np.array(a_angs)])\n",
    "test_feat = np.hstack([b_band_feat,np.array(b_angs)])\n",
    "\n",
    "print(train_feat.shape,test_feat.shape)"
   ]
  },
  {
   "cell_type": "code",
   "execution_count": 30,
   "metadata": {},
   "outputs": [
    {
     "name": "stdout",
     "output_type": "stream",
     "text": [
      "done\n"
     ]
    }
   ],
   "source": [
    "import pickle\n",
    "with open('../features/other_feat.pkl','wb') as fout:\n",
    "    pickle.dump([train_feat,test_feat],fout)\n",
    "print('done')"
   ]
  }
 ],
 "metadata": {
  "kernelspec": {
   "display_name": "Python 3",
   "language": "python",
   "name": "python3"
  },
  "language_info": {
   "codemirror_mode": {
    "name": "ipython",
    "version": 3
   },
   "file_extension": ".py",
   "mimetype": "text/x-python",
   "name": "python",
   "nbconvert_exporter": "python",
   "pygments_lexer": "ipython3",
   "version": "3.5.2"
  }
 },
 "nbformat": 4,
 "nbformat_minor": 2
}
