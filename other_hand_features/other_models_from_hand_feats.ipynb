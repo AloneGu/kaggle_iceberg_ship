{
 "cells": [
  {
   "cell_type": "code",
   "execution_count": 1,
   "metadata": {},
   "outputs": [
    {
     "name": "stdout",
     "output_type": "stream",
     "text": [
      "                                              band_1  \\\n",
      "0  [-27.878360999999998, -27.15416, -28.668615, -...   \n",
      "1  [-12.242375, -14.920304999999999, -14.920363, ...   \n",
      "2  [-24.603676, -24.603714, -24.871029, -23.15277...   \n",
      "3  [-22.454607, -23.082819, -23.998013, -23.99805...   \n",
      "4  [-26.006956, -23.164886, -23.164886, -26.89116...   \n",
      "\n",
      "                                              band_2        id inc_angle  \\\n",
      "0  [-27.154118, -29.537888, -31.0306, -32.190483,...  dfd5f913   43.9239   \n",
      "1  [-31.506321, -27.984554, -26.645678, -23.76760...  e25388fd   38.1562   \n",
      "2  [-24.870956, -24.092632, -20.653963, -19.41104...  58b2aaa0   45.2859   \n",
      "3  [-27.889421, -27.519794, -27.165262, -29.10350...  4cfc3a18   43.8306   \n",
      "4  [-27.206915, -30.259186, -30.259186, -23.16495...  271f93f4   35.6256   \n",
      "\n",
      "   is_iceberg  \n",
      "0           0  \n",
      "1           0  \n",
      "2           1  \n",
      "3           0  \n",
      "4           0  \n"
     ]
    }
   ],
   "source": [
    "import pandas as pd\n",
    "train_df = pd.read_json('../input/train.json')\n",
    "test_df = pd.read_json('../input/test.json')\n",
    "print(train_df.head())\n",
    "\n",
    "import numpy as np\n",
    "import cv2\n",
    "from itertools import combinations\n",
    "from scipy.ndimage import laplace, sobel\n",
    "\n",
    "def get_img_feat(img):\n",
    "    feats = [np.mean(img),np.std(img),np.median(img),np.max(img),np.min(img)]\n",
    "    return feats\n",
    "    \n",
    "def get_other_feat(df):\n",
    "    feats = []\n",
    "    for i, row in df.iterrows():\n",
    "        tmp_feat = []\n",
    "        img1 = np.array(row['band_1']).reshape(75, 75).astype('float32')\n",
    "        img2 = np.array(row['band_2']).reshape(75, 75).astype('float32')\n",
    "        if row['inc_angle'] == 'na':\n",
    "            ang = 0\n",
    "        else:\n",
    "            ang = float(row['inc_angle'])\n",
    "            \n",
    "        # base\n",
    "        st_trans = get_img_feat(img1) + get_img_feat(img2) + [ang] \n",
    "        tmp_feat += st_trans\n",
    "        tmp_feat += [x * y for x, y in combinations(st_trans, 2)]\n",
    "        tmp_feat += [x + y for x, y in combinations(st_trans, 2)]\n",
    "        tmp_feat += [x - y for x, y in combinations(st_trans, 2)]\n",
    "        \n",
    "        # lap\n",
    "        lap_1 = laplace(img1, mode='reflect', cval=0.0)\n",
    "        lap_2 = laplace(img2, mode='reflect', cval=0.0)\n",
    "        st_trans = get_img_feat(lap_1) + get_img_feat(lap_2)\n",
    "        \n",
    "        # sob\n",
    "        sob1 = sobel(img1, axis=0, mode='reflect', cval=0.0)\n",
    "        sob2 = sobel(img1, axis=1, mode='reflect', cval=0.0)\n",
    "        sob3 = sobel(img2, axis=0, mode='reflect', cval=0.0)\n",
    "        sob4 = sobel(img2, axis=1, mode='reflect', cval=0.0)\n",
    "        st_trans = st_trans + get_img_feat(sob1) + get_img_feat(sob2) + get_img_feat(sob3) + get_img_feat(sob4)\n",
    "        tmp_feat += st_trans\n",
    "        \n",
    "        # hist\n",
    "        hist = list(np.histogram(img1, bins=20)[0])\n",
    "        tmp_feat += hist\n",
    "        tmp_feat += [np.std(hist), np.max(hist), np.median(hist), (np.max(hist) - np.median(hist))]\n",
    "        \n",
    "        hist = list(np.histogram(img2, bins=20)[0])\n",
    "        tmp_feat += hist\n",
    "        tmp_feat += [np.std(hist), np.max(hist), np.median(hist), (np.max(hist) - np.median(hist))]\n",
    "        feats.append(tmp_feat)\n",
    "        \n",
    "    return np.array(feats).astype('float32')\n",
    "\n",
    "train_feat = get_other_feat(train_df)\n",
    "test_feat = get_other_feat(test_df)"
   ]
  },
  {
   "cell_type": "code",
   "execution_count": 2,
   "metadata": {},
   "outputs": [
    {
     "name": "stdout",
     "output_type": "stream",
     "text": [
      "(1604, 254) (8424, 254)\n"
     ]
    }
   ],
   "source": [
    "print(train_feat.shape,test_feat.shape)"
   ]
  },
  {
   "cell_type": "code",
   "execution_count": 3,
   "metadata": {},
   "outputs": [
    {
     "name": "stdout",
     "output_type": "stream",
     "text": [
      "[0 0 1 0 0]\n"
     ]
    }
   ],
   "source": [
    "y = train_df.is_iceberg.values\n",
    "print(y[:5])"
   ]
  },
  {
   "cell_type": "code",
   "execution_count": 4,
   "metadata": {},
   "outputs": [
    {
     "name": "stdout",
     "output_type": "stream",
     "text": [
      "def done\n"
     ]
    }
   ],
   "source": [
    "from sklearn.model_selection import KFold\n",
    "from sklearn.metrics import log_loss\n",
    "def cv_feat(model_f,fold_cnt=3,rnd=1,params={}):\n",
    "    train_pred, test_pred = np.zeros((1604,1)),np.zeros((8424,1))\n",
    "    kf = KFold(n_splits=fold_cnt, shuffle=True, random_state=2*rnd)\n",
    "    avg_train_l,avg_val_l = 0,0\n",
    "    print(model_f(**params))\n",
    "    for train_index, test_index in kf.split(train_feat):\n",
    "        curr_x,curr_y = train_feat[train_index],y[train_index]\n",
    "        val_x,val_y = train_feat[test_index],y[test_index]\n",
    "        \n",
    "        model = model_f(**params)\n",
    "        model.fit(curr_x,curr_y)\n",
    "        \n",
    "        curr_train_pred = model.predict_proba(curr_x)\n",
    "        curr_val_pred = model.predict_proba(val_x)\n",
    "        train_pred[test_index] = curr_val_pred[:,1].reshape(-1,1)\n",
    "        curr_test_pred = model.predict_proba(test_feat)/fold_cnt\n",
    "        test_pred = test_pred + curr_test_pred[:,1].reshape(-1,1)\n",
    "        \n",
    "        loss1 = log_loss(curr_y,curr_train_pred)\n",
    "        loss2 = log_loss(val_y,curr_val_pred)\n",
    "        avg_train_l += loss1/fold_cnt\n",
    "        avg_val_l += loss2/fold_cnt\n",
    "        print('this fold train loss',loss1,'val loss',loss2)\n",
    "        print('============================')\n",
    "    print('all avg',avg_train_l,avg_val_l)\n",
    "    return train_pred,test_pred\n",
    "print('def done')"
   ]
  },
  {
   "cell_type": "code",
   "execution_count": 5,
   "metadata": {},
   "outputs": [
    {
     "name": "stdout",
     "output_type": "stream",
     "text": [
      "LogisticRegression(C=2.0, class_weight=None, dual=False, fit_intercept=True,\n",
      "          intercept_scaling=1, max_iter=100, multi_class='ovr', n_jobs=1,\n",
      "          penalty='l2', random_state=None, solver='liblinear', tol=0.0001,\n",
      "          verbose=0, warm_start=False)\n",
      "this fold train loss 0.180966323624 val loss 0.329216192016\n",
      "============================\n",
      "this fold train loss 0.188142816379 val loss 0.285170914233\n",
      "============================\n",
      "this fold train loss 0.20906384857 val loss 0.220144765721\n",
      "============================\n",
      "this fold train loss 0.182953303423 val loss 0.341894300145\n",
      "============================\n",
      "this fold train loss 0.177372438065 val loss 0.374177912546\n",
      "============================\n",
      "all avg 0.187699746012 0.310120816932\n"
     ]
    }
   ],
   "source": [
    "# lr\n",
    "from sklearn.linear_model import LogisticRegression\n",
    "lr_train,lr_pred = cv_feat(LogisticRegression,fold_cnt=5,params={'C':2.0,'max_iter':100})\n",
    "import pickle\n",
    "with open('../features/other_model_lr.pkl','wb') as fout:\n",
    "    pickle.dump([lr_train,lr_pred],fout)"
   ]
  },
  {
   "cell_type": "code",
   "execution_count": 6,
   "metadata": {},
   "outputs": [
    {
     "name": "stdout",
     "output_type": "stream",
     "text": [
      "LogisticRegression(C=2.0, class_weight=None, dual=False, fit_intercept=True,\n",
      "          intercept_scaling=1, max_iter=100, multi_class='ovr', n_jobs=1,\n",
      "          penalty='l2', random_state=None, solver='liblinear', tol=0.0001,\n",
      "          verbose=0, warm_start=False)\n",
      "this fold train loss 0.1817577529 val loss 0.32636115369\n",
      "============================\n",
      "this fold train loss 0.188339761051 val loss 0.314083621684\n",
      "============================\n",
      "this fold train loss 0.194014942436 val loss 0.273811640208\n",
      "============================\n",
      "this fold train loss 0.200925988034 val loss 0.212427522396\n",
      "============================\n",
      "this fold train loss 0.197475350445 val loss 0.251545040817\n",
      "============================\n",
      "this fold train loss 0.188923753015 val loss 0.310593163259\n",
      "============================\n",
      "this fold train loss 0.186670807515 val loss 0.400552753954\n",
      "============================\n",
      "this fold train loss 0.189890993294 val loss 0.316867828402\n",
      "============================\n",
      "all avg 0.190999918586 0.300780340551\n"
     ]
    }
   ],
   "source": [
    "lr_train,lr_pred = cv_feat(LogisticRegression,fold_cnt=8,params={'C':2.0,'max_iter':100})\n",
    "import pickle\n",
    "with open('../features/other_model_lr2.pkl','wb') as fout:\n",
    "    pickle.dump([lr_train,lr_pred],fout)"
   ]
  },
  {
   "cell_type": "code",
   "execution_count": 7,
   "metadata": {},
   "outputs": [
    {
     "name": "stdout",
     "output_type": "stream",
     "text": [
      "RandomForestClassifier(bootstrap=True, class_weight=None, criterion='gini',\n",
      "            max_depth=10, max_features='auto', max_leaf_nodes=None,\n",
      "            min_impurity_decrease=0.0, min_impurity_split=None,\n",
      "            min_samples_leaf=1, min_samples_split=2,\n",
      "            min_weight_fraction_leaf=0.0, n_estimators=50, n_jobs=1,\n",
      "            oob_score=False, random_state=42, verbose=0, warm_start=False)\n",
      "this fold train loss 0.135653483359 val loss 0.311216376663\n",
      "============================\n",
      "this fold train loss 0.133297060247 val loss 0.311198371769\n",
      "============================\n",
      "this fold train loss 0.133823272904 val loss 0.263660888302\n",
      "============================\n",
      "this fold train loss 0.132259572624 val loss 0.291543367585\n",
      "============================\n",
      "this fold train loss 0.13219652879 val loss 0.312446838588\n",
      "============================\n",
      "all avg 0.133445983585 0.298013168581\n"
     ]
    }
   ],
   "source": [
    "from sklearn.ensemble import RandomForestClassifier,GradientBoostingClassifier,AdaBoostClassifier\n",
    "tmp_params = {\n",
    "    'n_estimators':50,\n",
    "    'max_depth':10,\n",
    "    'random_state':42\n",
    "}\n",
    "lr_train,lr_pred = cv_feat(RandomForestClassifier,fold_cnt=5,params=tmp_params)\n",
    "with open('../features/other_model_rf.pkl','wb') as fout:\n",
    "    pickle.dump([lr_train,lr_pred],fout)"
   ]
  },
  {
   "cell_type": "code",
   "execution_count": 9,
   "metadata": {
    "collapsed": true
   },
   "outputs": [],
   "source": [
    "tmp_params = {\n",
    "    'n_estimators':200,\n",
    "    'learning_rate':0.01,\n",
    "    'random_state':42\n",
    "}\n",
    "#lr_train,lr_pred = cv_feat(AdaBoostClassifier,fold_cnt=5,params=tmp_params)\n",
    "# with open('../features/other_model_ada.pkl','wb') as fout:\n",
    "#     pickle.dump([lr_train,lr_pred],fout)"
   ]
  },
  {
   "cell_type": "code",
   "execution_count": 10,
   "metadata": {},
   "outputs": [
    {
     "name": "stdout",
     "output_type": "stream",
     "text": [
      "GradientBoostingClassifier(criterion='friedman_mse', init=None,\n",
      "              learning_rate=0.1, loss='deviance', max_depth=3,\n",
      "              max_features=None, max_leaf_nodes=None,\n",
      "              min_impurity_decrease=0.0, min_impurity_split=None,\n",
      "              min_samples_leaf=1, min_samples_split=2,\n",
      "              min_weight_fraction_leaf=0.0, n_estimators=200,\n",
      "              presort='auto', random_state=42, subsample=1.0, verbose=0,\n",
      "              warm_start=False)\n",
      "this fold train loss 0.0461023351939 val loss 0.276414295972\n",
      "============================\n",
      "this fold train loss 0.0462700352087 val loss 0.226782313074\n",
      "============================\n",
      "this fold train loss 0.0501460697509 val loss 0.177643602599\n",
      "============================\n",
      "this fold train loss 0.0405660354358 val loss 0.225972714838\n",
      "============================\n",
      "this fold train loss 0.0420577994417 val loss 0.253901706754\n",
      "============================\n",
      "all avg 0.0450284550062 0.232142926647\n"
     ]
    }
   ],
   "source": [
    "tmp_params = {\n",
    "    'n_estimators':200,\n",
    "    'learning_rate':0.1,\n",
    "    'random_state':42,\n",
    "}\n",
    "lr_train,lr_pred = cv_feat(GradientBoostingClassifier,fold_cnt=5,params=tmp_params)\n",
    "with open('../features/other_model_gbrt.pkl','wb') as fout:\n",
    "    pickle.dump([lr_train,lr_pred],fout)"
   ]
  },
  {
   "cell_type": "code",
   "execution_count": 12,
   "metadata": {},
   "outputs": [
    {
     "name": "stdout",
     "output_type": "stream",
     "text": [
      "XGBClassifier(base_score=0.5, booster='gbtree', colsample_bylevel=1,\n",
      "       colsample_bytree=1, gamma=0, learning_rate=0.1, max_delta_step=0,\n",
      "       max_depth=3, min_child_weight=1, missing=None, n_estimators=200,\n",
      "       n_jobs=1, nthread=None, objective='binary:logistic', random_state=0,\n",
      "       reg_alpha=0, reg_lambda=1, scale_pos_weight=1, seed=None,\n",
      "       silent=True, subsample=1)\n",
      "this fold train loss 0.0449788980772 val loss 0.273746081482\n",
      "============================\n",
      "this fold train loss 0.0476104208943 val loss 0.237838637325\n",
      "============================\n",
      "this fold train loss 0.0492733710688 val loss 0.175999403349\n",
      "============================\n",
      "this fold train loss 0.0444674012068 val loss 0.222329032978\n",
      "============================\n",
      "this fold train loss 0.0417808146803 val loss 0.258001860328\n",
      "============================\n",
      "all avg 0.0456221811855 0.233583003093\n"
     ]
    }
   ],
   "source": [
    "from xgboost import XGBClassifier\n",
    "tmp_params = {\n",
    "    'n_estimators':200,\n",
    "    'colsample_bytree':1,\n",
    "    'min_child_weight':1,\n",
    "    \n",
    "}\n",
    "lr_train,lr_pred = cv_feat(XGBClassifier,fold_cnt=5,params=tmp_params)\n",
    "with open('../features/other_model_xgb.pkl','wb') as fout:\n",
    "    pickle.dump([lr_train,lr_pred],fout)"
   ]
  },
  {
   "cell_type": "code",
   "execution_count": 14,
   "metadata": {
    "scrolled": false
   },
   "outputs": [
    {
     "name": "stdout",
     "output_type": "stream",
     "text": [
      "LGBMClassifier(boosting_type='gbdt', colsample_bytree=1.0, learning_rate=0.1,\n",
      "        max_bin=255, max_depth=3, min_child_samples=20,\n",
      "        min_child_weight=0.001, min_split_gain=0.0, n_estimators=200,\n",
      "        n_jobs=-1, num_leaves=31, objective=None, random_state=None,\n",
      "        reg_alpha=0.0, reg_lambda=0.0, silent=True, subsample=1.0,\n",
      "        subsample_for_bin=200000, subsample_freq=1)\n"
     ]
    },
    {
     "name": "stderr",
     "output_type": "stream",
     "text": [
      "/usr/local/lib/python3.5/dist-packages/lightgbm/basic.py:642: UserWarning: max_bin keyword has been found in `params` and will be ignored. Please use max_bin argument of the Dataset constructor to pass this parameter.\n",
      "  'Please use {0} argument of the Dataset constructor to pass this parameter.'.format(key))\n",
      "/usr/local/lib/python3.5/dist-packages/lightgbm/basic.py:648: LGBMDeprecationWarning: The `max_bin` parameter is deprecated and will be removed in 2.0.12 version. Please use `params` to pass this parameter.\n",
      "  'Please use `params` to pass this parameter.', LGBMDeprecationWarning)\n"
     ]
    },
    {
     "name": "stdout",
     "output_type": "stream",
     "text": [
      "this fold train loss 0.0377554572441 val loss 0.275012603487\n",
      "============================\n"
     ]
    },
    {
     "name": "stderr",
     "output_type": "stream",
     "text": [
      "/usr/local/lib/python3.5/dist-packages/lightgbm/basic.py:642: UserWarning: max_bin keyword has been found in `params` and will be ignored. Please use max_bin argument of the Dataset constructor to pass this parameter.\n",
      "  'Please use {0} argument of the Dataset constructor to pass this parameter.'.format(key))\n",
      "/usr/local/lib/python3.5/dist-packages/lightgbm/basic.py:648: LGBMDeprecationWarning: The `max_bin` parameter is deprecated and will be removed in 2.0.12 version. Please use `params` to pass this parameter.\n",
      "  'Please use `params` to pass this parameter.', LGBMDeprecationWarning)\n"
     ]
    },
    {
     "name": "stdout",
     "output_type": "stream",
     "text": [
      "this fold train loss 0.0432435846384 val loss 0.246748842208\n",
      "============================\n"
     ]
    },
    {
     "name": "stderr",
     "output_type": "stream",
     "text": [
      "/usr/local/lib/python3.5/dist-packages/lightgbm/basic.py:642: UserWarning: max_bin keyword has been found in `params` and will be ignored. Please use max_bin argument of the Dataset constructor to pass this parameter.\n",
      "  'Please use {0} argument of the Dataset constructor to pass this parameter.'.format(key))\n",
      "/usr/local/lib/python3.5/dist-packages/lightgbm/basic.py:648: LGBMDeprecationWarning: The `max_bin` parameter is deprecated and will be removed in 2.0.12 version. Please use `params` to pass this parameter.\n",
      "  'Please use `params` to pass this parameter.', LGBMDeprecationWarning)\n"
     ]
    },
    {
     "name": "stdout",
     "output_type": "stream",
     "text": [
      "this fold train loss 0.0463302324343 val loss 0.175802338359\n",
      "============================\n"
     ]
    },
    {
     "name": "stderr",
     "output_type": "stream",
     "text": [
      "/usr/local/lib/python3.5/dist-packages/lightgbm/basic.py:642: UserWarning: max_bin keyword has been found in `params` and will be ignored. Please use max_bin argument of the Dataset constructor to pass this parameter.\n",
      "  'Please use {0} argument of the Dataset constructor to pass this parameter.'.format(key))\n",
      "/usr/local/lib/python3.5/dist-packages/lightgbm/basic.py:648: LGBMDeprecationWarning: The `max_bin` parameter is deprecated and will be removed in 2.0.12 version. Please use `params` to pass this parameter.\n",
      "  'Please use `params` to pass this parameter.', LGBMDeprecationWarning)\n"
     ]
    },
    {
     "name": "stdout",
     "output_type": "stream",
     "text": [
      "this fold train loss 0.0398835506922 val loss 0.221377169162\n",
      "============================\n"
     ]
    },
    {
     "name": "stderr",
     "output_type": "stream",
     "text": [
      "/usr/local/lib/python3.5/dist-packages/lightgbm/basic.py:642: UserWarning: max_bin keyword has been found in `params` and will be ignored. Please use max_bin argument of the Dataset constructor to pass this parameter.\n",
      "  'Please use {0} argument of the Dataset constructor to pass this parameter.'.format(key))\n",
      "/usr/local/lib/python3.5/dist-packages/lightgbm/basic.py:648: LGBMDeprecationWarning: The `max_bin` parameter is deprecated and will be removed in 2.0.12 version. Please use `params` to pass this parameter.\n",
      "  'Please use `params` to pass this parameter.', LGBMDeprecationWarning)\n"
     ]
    },
    {
     "name": "stdout",
     "output_type": "stream",
     "text": [
      "this fold train loss 0.0382147769205 val loss 0.26299724135\n",
      "============================\n",
      "all avg 0.0410855203859 0.236387638913\n"
     ]
    }
   ],
   "source": [
    "from lightgbm import LGBMClassifier\n",
    "tmp_params = {\n",
    "    'max_depth':3,  \n",
    "    'n_estimators':200\n",
    "}\n",
    "lr_train,lr_pred = cv_feat(LGBMClassifier,fold_cnt=5,params=tmp_params)\n",
    "with open('../features/other_model_lgb.pkl','wb') as fout:\n",
    "    pickle.dump([lr_train,lr_pred],fout)"
   ]
  }
 ],
 "metadata": {
  "kernelspec": {
   "display_name": "Python 3",
   "language": "python",
   "name": "python3"
  },
  "language_info": {
   "codemirror_mode": {
    "name": "ipython",
    "version": 3
   },
   "file_extension": ".py",
   "mimetype": "text/x-python",
   "name": "python",
   "nbconvert_exporter": "python",
   "pygments_lexer": "ipython3",
   "version": "3.5.2"
  }
 },
 "nbformat": 4,
 "nbformat_minor": 2
}
