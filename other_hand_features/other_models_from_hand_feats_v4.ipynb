{
 "cells": [
  {
   "cell_type": "code",
   "execution_count": 1,
   "metadata": {},
   "outputs": [
    {
     "name": "stdout",
     "output_type": "stream",
     "text": [
      "                                              band_1  \\\n",
      "0  [-27.878360999999998, -27.15416, -28.668615, -...   \n",
      "1  [-12.242375, -14.920304999999999, -14.920363, ...   \n",
      "2  [-24.603676, -24.603714, -24.871029, -23.15277...   \n",
      "3  [-22.454607, -23.082819, -23.998013, -23.99805...   \n",
      "4  [-26.006956, -23.164886, -23.164886, -26.89116...   \n",
      "\n",
      "                                              band_2        id inc_angle  \\\n",
      "0  [-27.154118, -29.537888, -31.0306, -32.190483,...  dfd5f913   43.9239   \n",
      "1  [-31.506321, -27.984554, -26.645678, -23.76760...  e25388fd   38.1562   \n",
      "2  [-24.870956, -24.092632, -20.653963, -19.41104...  58b2aaa0   45.2859   \n",
      "3  [-27.889421, -27.519794, -27.165262, -29.10350...  4cfc3a18   43.8306   \n",
      "4  [-27.206915, -30.259186, -30.259186, -23.16495...  271f93f4   35.6256   \n",
      "\n",
      "   is_iceberg  \n",
      "0           0  \n",
      "1           0  \n",
      "2           1  \n",
      "3           0  \n",
      "4           0  \n"
     ]
    }
   ],
   "source": [
    "import pandas as pd\n",
    "train_df = pd.read_json('../input/train.json')\n",
    "test_df = pd.read_json('../input/test.json')\n",
    "print(train_df.head())\n",
    "\n",
    "import numpy as np\n",
    "\n",
    "from itertools import combinations\n",
    "from scipy.ndimage import laplace, sobel\n",
    "from scipy.stats import kurtosis, skew"
   ]
  },
  {
   "cell_type": "code",
   "execution_count": 2,
   "metadata": {},
   "outputs": [],
   "source": [
    "def get_img_feat(img_org):\n",
    "    img = img_org.ravel()\n",
    "    feats = [np.mean(img),np.std(img),np.median(img),np.max(img),np.min(img),\n",
    "             kurtosis(img),skew(img),np.max(img)-np.min(img)]\n",
    "    return feats\n",
    "\n",
    "def sob_feat(img):\n",
    "    img = img.ravel()\n",
    "    feats = [img.var()]#,img.mean(),img.max()]\n",
    "    return feats\n",
    "    \n",
    "def get_other_feat(df):\n",
    "    feats = []\n",
    "    for i, row in df.iterrows():\n",
    "        tmp_feat = []\n",
    "        img1 = np.array(row['band_1']).reshape(75, 75).astype('float32')\n",
    "        img2 = np.array(row['band_2']).reshape(75, 75).astype('float32')\n",
    "        \n",
    "        if row['inc_angle'] == 'na':\n",
    "            ang = -1\n",
    "        else:\n",
    "            ang = float(row['inc_angle'])\n",
    "        \n",
    "        feat1 = get_img_feat(img1)\n",
    "        feat2 = get_img_feat(img2)\n",
    "        feat_len = len(feat1)\n",
    "        tmp_feat += feat1 + feat2 + [ang]\n",
    "        for i in range(feat_len):\n",
    "            tmp_feat.append(feat1[i]-feat2[i])\n",
    "            tmp_feat.append(feat1[i]+feat2[i])\n",
    "        \n",
    "        lap_1 = laplace(img1, mode='reflect', cval=0.0)\n",
    "        lap_2 = laplace(img2, mode='reflect', cval=0.0)\n",
    "        \n",
    "        # sob\n",
    "        sob1 = sobel(img1, axis=0, mode='reflect', cval=0.0)\n",
    "        sob2 = sobel(img1, axis=1, mode='reflect', cval=0.0)\n",
    "        sob3 = sobel(img2, axis=0, mode='reflect', cval=0.0)\n",
    "        sob4 = sobel(img2, axis=1, mode='reflect', cval=0.0)\n",
    "        \n",
    "        tmp_feat += [lap_1.var(),lap_2.var(),\n",
    "                     lap_1.mean(),lap_2.mean(),\n",
    "                     np.median(lap_1),np.median(lap_2),\n",
    "                     lap_1.min(),lap_2.min(),\n",
    "                     lap_1.max(),lap_2.max()]\n",
    "        tmp_feat +=  sob_feat(sob1)\n",
    "        tmp_feat +=  sob_feat(sob2)\n",
    "        tmp_feat +=  sob_feat(sob3)\n",
    "        tmp_feat +=  sob_feat(sob4)\n",
    "                     \n",
    "        \n",
    "        feats.append(tmp_feat)\n",
    "        \n",
    "    return np.array(feats).astype('float32')\n",
    "\n",
    "train_feat = get_other_feat(train_df)\n",
    "test_feat = get_other_feat(test_df)"
   ]
  },
  {
   "cell_type": "code",
   "execution_count": 3,
   "metadata": {},
   "outputs": [
    {
     "name": "stdout",
     "output_type": "stream",
     "text": [
      "(1604, 47) (8424, 47)\n"
     ]
    }
   ],
   "source": [
    "print(train_feat.shape,test_feat.shape)"
   ]
  },
  {
   "cell_type": "code",
   "execution_count": 4,
   "metadata": {},
   "outputs": [
    {
     "name": "stdout",
     "output_type": "stream",
     "text": [
      "[0 0 1 0 0]\n"
     ]
    }
   ],
   "source": [
    "y = train_df.is_iceberg.values\n",
    "print(y[:5])"
   ]
  },
  {
   "cell_type": "code",
   "execution_count": 5,
   "metadata": {},
   "outputs": [
    {
     "name": "stdout",
     "output_type": "stream",
     "text": [
      "def done\n"
     ]
    }
   ],
   "source": [
    "from sklearn.model_selection import KFold\n",
    "from sklearn.metrics import log_loss\n",
    "def cv_feat(model_f,fold_cnt=3,rnd=1,params={}):\n",
    "    train_pred, test_pred = np.zeros((1604,1)),np.zeros((8424,1))\n",
    "    kf = KFold(n_splits=fold_cnt, shuffle=True, random_state=2*rnd)\n",
    "    avg_train_l,avg_val_l = 0,0\n",
    "    print(model_f(**params))\n",
    "    for train_index, test_index in kf.split(train_feat):\n",
    "        curr_x,curr_y = train_feat[train_index],y[train_index]\n",
    "        val_x,val_y = train_feat[test_index],y[test_index]\n",
    "        \n",
    "        model = model_f(**params)\n",
    "        model.fit(curr_x,curr_y)\n",
    "        \n",
    "        curr_train_pred = model.predict_proba(curr_x)\n",
    "        curr_val_pred = model.predict_proba(val_x)\n",
    "        train_pred[test_index] = curr_val_pred[:,1].reshape(-1,1)\n",
    "        curr_test_pred = model.predict_proba(test_feat)/fold_cnt\n",
    "        test_pred = test_pred + curr_test_pred[:,1].reshape(-1,1)\n",
    "        \n",
    "        loss1 = log_loss(curr_y,curr_train_pred)\n",
    "        loss2 = log_loss(val_y,curr_val_pred)\n",
    "        avg_train_l += loss1/fold_cnt\n",
    "        avg_val_l += loss2/fold_cnt\n",
    "        print('this fold train loss',loss1,'val loss',loss2)\n",
    "        print('============================')\n",
    "    print('all avg',avg_train_l,avg_val_l)\n",
    "    return train_pred,test_pred\n",
    "print('def done')"
   ]
  },
  {
   "cell_type": "code",
   "execution_count": 6,
   "metadata": {},
   "outputs": [
    {
     "name": "stdout",
     "output_type": "stream",
     "text": [
      "LogisticRegression(C=2.0, class_weight=None, dual=False, fit_intercept=True,\n",
      "          intercept_scaling=1, max_iter=100, multi_class='ovr', n_jobs=1,\n",
      "          penalty='l2', random_state=None, solver='liblinear', tol=0.0001,\n",
      "          verbose=0, warm_start=False)\n",
      "this fold train loss 0.28346680734 val loss 0.269383982705\n",
      "============================\n",
      "this fold train loss 0.266844250564 val loss 0.342750661321\n",
      "============================\n",
      "this fold train loss 0.283986089517 val loss 0.263473158322\n",
      "============================\n",
      "this fold train loss 0.271168136823 val loss 0.316982235079\n",
      "============================\n",
      "this fold train loss 0.279891935227 val loss 0.284484611506\n",
      "============================\n",
      "all avg 0.277071443894 0.295414929787\n"
     ]
    }
   ],
   "source": [
    "# lr\n",
    "from sklearn.linear_model import LogisticRegression\n",
    "lr_train,lr_pred = cv_feat(LogisticRegression,\n",
    "                           fold_cnt=5,\n",
    "                           params={'C':2.0,'max_iter':100},rnd=2)\n",
    "import pickle\n",
    "with open('../features/other_model_lr4.pkl','wb') as fout:\n",
    "    pickle.dump([lr_train,lr_pred],fout)"
   ]
  },
  {
   "cell_type": "code",
   "execution_count": 7,
   "metadata": {},
   "outputs": [
    {
     "name": "stdout",
     "output_type": "stream",
     "text": [
      "RandomForestClassifier(bootstrap=True, class_weight=None, criterion='gini',\n",
      "            max_depth=5, max_features='auto', max_leaf_nodes=None,\n",
      "            min_impurity_decrease=0.0, min_impurity_split=None,\n",
      "            min_samples_leaf=1, min_samples_split=2,\n",
      "            min_weight_fraction_leaf=0.0, n_estimators=20, n_jobs=1,\n",
      "            oob_score=False, random_state=42, verbose=0, warm_start=False)\n",
      "this fold train loss 0.332741966762 val loss 0.395147960132\n",
      "============================\n",
      "this fold train loss 0.324608489944 val loss 0.414022266324\n",
      "============================\n",
      "this fold train loss 0.337654477224 val loss 0.370658694911\n",
      "============================\n",
      "this fold train loss 0.338918728628 val loss 0.367910521598\n",
      "============================\n",
      "this fold train loss 0.329491481291 val loss 0.364845784461\n",
      "============================\n",
      "this fold train loss 0.32708683367 val loss 0.405368963986\n",
      "============================\n",
      "this fold train loss 0.333871719534 val loss 0.370725549828\n",
      "============================\n",
      "all avg 0.332053385293 0.384097105891\n"
     ]
    }
   ],
   "source": [
    "from sklearn.ensemble import RandomForestClassifier,GradientBoostingClassifier,AdaBoostClassifier\n",
    "tmp_params = {\n",
    "    'n_estimators':20,\n",
    "    'max_depth':5,\n",
    "    'random_state':42\n",
    "}\n",
    "lr_train,lr_pred = cv_feat(RandomForestClassifier,fold_cnt=7,params=tmp_params)\n",
    "with open('../features/other_model_rf4.pkl','wb') as fout:\n",
    "    pickle.dump([lr_train,lr_pred],fout)"
   ]
  },
  {
   "cell_type": "code",
   "execution_count": 8,
   "metadata": {},
   "outputs": [],
   "source": [
    "# tmp_params = {\n",
    "#     'n_estimators':20,\n",
    "#     'learning_rate':0.01,\n",
    "#     'random_state':42\n",
    "# }\n",
    "# lr_train,lr_pred = cv_feat(AdaBoostClassifier,fold_cnt=5,params=tmp_params)\n",
    "# with open('../features/other_model_ada4.pkl','wb') as fout:\n",
    "#     pickle.dump([lr_train,lr_pred],fout)"
   ]
  },
  {
   "cell_type": "code",
   "execution_count": 9,
   "metadata": {},
   "outputs": [
    {
     "name": "stdout",
     "output_type": "stream",
     "text": [
      "GradientBoostingClassifier(criterion='friedman_mse', init=None,\n",
      "              learning_rate=0.1, loss='deviance', max_depth=3,\n",
      "              max_features=None, max_leaf_nodes=None,\n",
      "              min_impurity_decrease=0.0, min_impurity_split=None,\n",
      "              min_samples_leaf=1, min_samples_split=2,\n",
      "              min_weight_fraction_leaf=0.0, n_estimators=230,\n",
      "              presort='auto', random_state=42, subsample=1.0, verbose=0,\n",
      "              warm_start=False)\n",
      "this fold train loss 0.0484457957525 val loss 0.260340096733\n",
      "============================\n",
      "this fold train loss 0.0518920103925 val loss 0.23600689074\n",
      "============================\n",
      "this fold train loss 0.0536541821668 val loss 0.190907007327\n",
      "============================\n",
      "this fold train loss 0.0543177994383 val loss 0.20983728902\n",
      "============================\n",
      "this fold train loss 0.0485981545413 val loss 0.24498760639\n",
      "============================\n",
      "all avg 0.0513815884583 0.228415778042\n"
     ]
    }
   ],
   "source": [
    "tmp_params = {\n",
    "    'n_estimators':230,\n",
    "    'learning_rate':0.1,\n",
    "    'random_state':42,\n",
    "    'subsample':1.0,\n",
    "    'min_samples_leaf':1,\n",
    "    'max_depth':3\n",
    "}\n",
    "lr_train,lr_pred = cv_feat(GradientBoostingClassifier,fold_cnt=5,\n",
    "                           params=tmp_params,\n",
    "                           rnd=1\n",
    "                          )\n",
    "with open('../features/other_model_gbrt4.pkl','wb') as fout:\n",
    "    pickle.dump([lr_train,lr_pred],fout)"
   ]
  },
  {
   "cell_type": "code",
   "execution_count": 10,
   "metadata": {},
   "outputs": [
    {
     "name": "stdout",
     "output_type": "stream",
     "text": [
      "XGBClassifier(base_score=0.5, booster='gbtree', colsample_bylevel=1,\n",
      "       colsample_bytree=1, gamma=0, learning_rate=0.1, max_delta_step=0,\n",
      "       max_depth=3, min_child_weight=1, missing=None, n_estimators=200,\n",
      "       n_jobs=1, nthread=None, objective='binary:logistic', random_state=0,\n",
      "       reg_alpha=0, reg_lambda=1, scale_pos_weight=1, seed=None,\n",
      "       silent=True, subsample=1)\n",
      "this fold train loss 0.0707619651157 val loss 0.244624168607\n",
      "============================\n",
      "this fold train loss 0.0771160590047 val loss 0.236731505637\n",
      "============================\n",
      "this fold train loss 0.0818905922132 val loss 0.188375400413\n",
      "============================\n",
      "this fold train loss 0.0781106261424 val loss 0.209318274038\n",
      "============================\n",
      "this fold train loss 0.0739296283551 val loss 0.248443547755\n",
      "============================\n",
      "all avg 0.0763617741662 0.22549857929\n"
     ]
    }
   ],
   "source": [
    "from xgboost import XGBClassifier\n",
    "tmp_params = {\n",
    "    'n_estimators':200,\n",
    "    'colsample_bytree':1,\n",
    "    'min_child_weight':1,\n",
    "    'learning_rate':0.1,\n",
    "\n",
    "    \n",
    "}\n",
    "lr_train,lr_pred = cv_feat(XGBClassifier,fold_cnt=5,\n",
    "                           params=tmp_params,rnd=1)\n",
    "with open('../features/other_model_xgb4.pkl','wb') as fout:\n",
    "    pickle.dump([lr_train,lr_pred],fout)"
   ]
  },
  {
   "cell_type": "code",
   "execution_count": 11,
   "metadata": {
    "scrolled": false
   },
   "outputs": [
    {
     "name": "stdout",
     "output_type": "stream",
     "text": [
      "LGBMClassifier(boosting_type='gbdt', colsample_bytree=1.0, learning_rate=0.1,\n",
      "        max_bin=255, max_depth=3, min_child_samples=20,\n",
      "        min_child_weight=0.001, min_split_gain=0.0, n_estimators=200,\n",
      "        n_jobs=-1, num_leaves=31, objective=None, random_state=None,\n",
      "        reg_alpha=0.0, reg_lambda=0.0, silent=True, subsample=1.0,\n",
      "        subsample_for_bin=200000, subsample_freq=1)\n"
     ]
    },
    {
     "name": "stderr",
     "output_type": "stream",
     "text": [
      "/usr/local/lib/python3.5/dist-packages/lightgbm/basic.py:642: UserWarning: max_bin keyword has been found in `params` and will be ignored. Please use max_bin argument of the Dataset constructor to pass this parameter.\n",
      "  'Please use {0} argument of the Dataset constructor to pass this parameter.'.format(key))\n",
      "/usr/local/lib/python3.5/dist-packages/lightgbm/basic.py:648: LGBMDeprecationWarning: The `max_bin` parameter is deprecated and will be removed in 2.0.12 version. Please use `params` to pass this parameter.\n",
      "  'Please use `params` to pass this parameter.', LGBMDeprecationWarning)\n"
     ]
    },
    {
     "name": "stdout",
     "output_type": "stream",
     "text": [
      "this fold train loss 0.0653782255222 val loss 0.263467525753\n",
      "============================\n"
     ]
    },
    {
     "name": "stderr",
     "output_type": "stream",
     "text": [
      "/usr/local/lib/python3.5/dist-packages/lightgbm/basic.py:642: UserWarning: max_bin keyword has been found in `params` and will be ignored. Please use max_bin argument of the Dataset constructor to pass this parameter.\n",
      "  'Please use {0} argument of the Dataset constructor to pass this parameter.'.format(key))\n",
      "/usr/local/lib/python3.5/dist-packages/lightgbm/basic.py:648: LGBMDeprecationWarning: The `max_bin` parameter is deprecated and will be removed in 2.0.12 version. Please use `params` to pass this parameter.\n",
      "  'Please use `params` to pass this parameter.', LGBMDeprecationWarning)\n"
     ]
    },
    {
     "name": "stdout",
     "output_type": "stream",
     "text": [
      "this fold train loss 0.0779592295279 val loss 0.22497207784\n",
      "============================\n"
     ]
    },
    {
     "name": "stderr",
     "output_type": "stream",
     "text": [
      "/usr/local/lib/python3.5/dist-packages/lightgbm/basic.py:642: UserWarning: max_bin keyword has been found in `params` and will be ignored. Please use max_bin argument of the Dataset constructor to pass this parameter.\n",
      "  'Please use {0} argument of the Dataset constructor to pass this parameter.'.format(key))\n",
      "/usr/local/lib/python3.5/dist-packages/lightgbm/basic.py:648: LGBMDeprecationWarning: The `max_bin` parameter is deprecated and will be removed in 2.0.12 version. Please use `params` to pass this parameter.\n",
      "  'Please use `params` to pass this parameter.', LGBMDeprecationWarning)\n"
     ]
    },
    {
     "name": "stdout",
     "output_type": "stream",
     "text": [
      "this fold train loss 0.0779151253656 val loss 0.18646074989\n",
      "============================\n"
     ]
    },
    {
     "name": "stderr",
     "output_type": "stream",
     "text": [
      "/usr/local/lib/python3.5/dist-packages/lightgbm/basic.py:642: UserWarning: max_bin keyword has been found in `params` and will be ignored. Please use max_bin argument of the Dataset constructor to pass this parameter.\n",
      "  'Please use {0} argument of the Dataset constructor to pass this parameter.'.format(key))\n",
      "/usr/local/lib/python3.5/dist-packages/lightgbm/basic.py:648: LGBMDeprecationWarning: The `max_bin` parameter is deprecated and will be removed in 2.0.12 version. Please use `params` to pass this parameter.\n",
      "  'Please use `params` to pass this parameter.', LGBMDeprecationWarning)\n"
     ]
    },
    {
     "name": "stdout",
     "output_type": "stream",
     "text": [
      "this fold train loss 0.0764226885245 val loss 0.222260040529\n",
      "============================\n"
     ]
    },
    {
     "name": "stderr",
     "output_type": "stream",
     "text": [
      "/usr/local/lib/python3.5/dist-packages/lightgbm/basic.py:642: UserWarning: max_bin keyword has been found in `params` and will be ignored. Please use max_bin argument of the Dataset constructor to pass this parameter.\n",
      "  'Please use {0} argument of the Dataset constructor to pass this parameter.'.format(key))\n",
      "/usr/local/lib/python3.5/dist-packages/lightgbm/basic.py:648: LGBMDeprecationWarning: The `max_bin` parameter is deprecated and will be removed in 2.0.12 version. Please use `params` to pass this parameter.\n",
      "  'Please use `params` to pass this parameter.', LGBMDeprecationWarning)\n"
     ]
    },
    {
     "name": "stdout",
     "output_type": "stream",
     "text": [
      "this fold train loss 0.0697431038508 val loss 0.243907797654\n",
      "============================\n",
      "all avg 0.0734836745582 0.228213638333\n"
     ]
    }
   ],
   "source": [
    "from lightgbm import LGBMClassifier\n",
    "tmp_params = {\n",
    "    'max_depth':3,  \n",
    "    'n_estimators':200,\n",
    "    'min_child_samples':20,\n",
    "    #'reg_lambda':0.1,\n",
    "}\n",
    "lr_train,lr_pred = cv_feat(LGBMClassifier,fold_cnt=5,params=tmp_params)\n",
    "with open('../features/other_model_lgb4.pkl','wb') as fout:\n",
    "    pickle.dump([lr_train,lr_pred],fout)"
   ]
  }
 ],
 "metadata": {
  "kernelspec": {
   "display_name": "Python 3",
   "language": "python",
   "name": "python3"
  },
  "language_info": {
   "codemirror_mode": {
    "name": "ipython",
    "version": 3
   },
   "file_extension": ".py",
   "mimetype": "text/x-python",
   "name": "python",
   "nbconvert_exporter": "python",
   "pygments_lexer": "ipython3",
   "version": "3.5.2"
  }
 },
 "nbformat": 4,
 "nbformat_minor": 2
}
