{
 "cells": [
  {
   "cell_type": "code",
   "execution_count": 1,
   "metadata": {},
   "outputs": [
    {
     "name": "stdout",
     "output_type": "stream",
     "text": [
      "                                              band_1  \\\n",
      "0  [-27.878360999999998, -27.15416, -28.668615, -...   \n",
      "1  [-12.242375, -14.920304999999999, -14.920363, ...   \n",
      "2  [-24.603676, -24.603714, -24.871029, -23.15277...   \n",
      "3  [-22.454607, -23.082819, -23.998013, -23.99805...   \n",
      "4  [-26.006956, -23.164886, -23.164886, -26.89116...   \n",
      "\n",
      "                                              band_2        id inc_angle  \\\n",
      "0  [-27.154118, -29.537888, -31.0306, -32.190483,...  dfd5f913   43.9239   \n",
      "1  [-31.506321, -27.984554, -26.645678, -23.76760...  e25388fd   38.1562   \n",
      "2  [-24.870956, -24.092632, -20.653963, -19.41104...  58b2aaa0   45.2859   \n",
      "3  [-27.889421, -27.519794, -27.165262, -29.10350...  4cfc3a18   43.8306   \n",
      "4  [-27.206915, -30.259186, -30.259186, -23.16495...  271f93f4   35.6256   \n",
      "\n",
      "   is_iceberg  \n",
      "0           0  \n",
      "1           0  \n",
      "2           1  \n",
      "3           0  \n",
      "4           0  \n"
     ]
    }
   ],
   "source": [
    "import pandas as pd\n",
    "train_df = pd.read_json('../input/train.json')\n",
    "test_df = pd.read_json('../input/test.json')\n",
    "print(train_df.head())"
   ]
  },
  {
   "cell_type": "code",
   "execution_count": 3,
   "metadata": {},
   "outputs": [],
   "source": [
    "import numpy as np\n",
    "\n",
    "from scipy.ndimage import laplace, sobel\n",
    "from scipy.stats import kurtosis, skew\n",
    "\n",
    "def get_img_feat(img):\n",
    "    feats = [np.mean(img),np.std(img),np.median(img),np.max(img),np.min(img)]\n",
    "    \n",
    "    return feats\n",
    "    \n",
    "def get_other_feat(df):\n",
    "    feats = []\n",
    "    for i, row in df.iterrows():\n",
    "        tmp_feat = []\n",
    "        img1 = np.array(row['band_1']).reshape(75, 75).astype('float32')\n",
    "        img2 = np.array(row['band_2']).reshape(75, 75).astype('float32')\n",
    "        if row['inc_angle'] == 'na':\n",
    "            ang = 0\n",
    "        else:\n",
    "            ang = float(row['inc_angle'])\n",
    "        tmp_feat = get_img_feat(img1) + get_img_feat(img2) + [ang]\n",
    "        \n",
    "        \n",
    "        feats.append(tmp_feat)\n",
    "        \n",
    "    return np.array(feats).astype('float32')\n",
    "\n",
    "train_feat = get_other_feat(train_df)\n",
    "test_feat = get_other_feat(test_df)"
   ]
  },
  {
   "cell_type": "code",
   "execution_count": 4,
   "metadata": {},
   "outputs": [
    {
     "name": "stdout",
     "output_type": "stream",
     "text": [
      "[[-27.91104507   2.76453733 -27.87992096  -0.213149   -38.21137619\n",
      "  -29.9101162    2.381284   -30.00784683 -11.2521534  -41.13591766\n",
      "   43.9239006 ]\n",
      " [-13.56655312   3.14253163 -13.65419865  12.57040882 -23.12530899\n",
      "  -25.35910606   2.93409801 -25.48612976   0.044052   -34.76583099\n",
      "   38.15620041]]\n"
     ]
    }
   ],
   "source": [
    "print(train_feat[:2])  "
   ]
  },
  {
   "cell_type": "code",
   "execution_count": 5,
   "metadata": {},
   "outputs": [
    {
     "data": {
      "text/plain": [
       "(1604, 11)"
      ]
     },
     "execution_count": 5,
     "metadata": {},
     "output_type": "execute_result"
    }
   ],
   "source": [
    "train_feat.shape"
   ]
  },
  {
   "cell_type": "code",
   "execution_count": 6,
   "metadata": {},
   "outputs": [
    {
     "data": {
      "text/plain": [
       "dtype('float32')"
      ]
     },
     "execution_count": 6,
     "metadata": {},
     "output_type": "execute_result"
    }
   ],
   "source": [
    "train_feat.dtype"
   ]
  },
  {
   "cell_type": "code",
   "execution_count": 7,
   "metadata": {},
   "outputs": [],
   "source": [
    "import pickle\n",
    "with open('../features/other_feat.pkl','wb') as fout:\n",
    "    pickle.dump([train_feat,test_feat],fout)"
   ]
  }
 ],
 "metadata": {
  "kernelspec": {
   "display_name": "Python 3",
   "language": "python",
   "name": "python3"
  },
  "language_info": {
   "codemirror_mode": {
    "name": "ipython",
    "version": 3
   },
   "file_extension": ".py",
   "mimetype": "text/x-python",
   "name": "python",
   "nbconvert_exporter": "python",
   "pygments_lexer": "ipython3",
   "version": "3.5.2"
  }
 },
 "nbformat": 4,
 "nbformat_minor": 2
}
