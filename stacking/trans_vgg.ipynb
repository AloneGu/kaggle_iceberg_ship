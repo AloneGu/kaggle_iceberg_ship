{
 "cells": [
  {
   "cell_type": "code",
   "execution_count": 9,
   "metadata": {},
   "outputs": [
    {
     "name": "stdout",
     "output_type": "stream",
     "text": [
      "         id  is_iceberg\n",
      "0  000c65d7    0.969171\n",
      "1  001680af    0.319137\n",
      "2  00193999    0.975653\n",
      "3  00247e48    0.993207\n",
      "4  00503faa    0.001801\n",
      "         id  is_iceberg\n",
      "0  5941774d    0.005586\n",
      "1  4023181e    0.031688\n",
      "2  b20200e4    0.001000\n",
      "3  e7f018bb    0.999000\n",
      "4  4371c8c3    0.022151\n"
     ]
    }
   ],
   "source": [
    "import pandas as pd\n",
    "df1 = pd.read_csv('vggbnw_fcn_en.csv')\n",
    "print(df1.head())\n",
    "df2 = pd.read_csv('submission54.csv')\n",
    "print(df2.head())"
   ]
  },
  {
   "cell_type": "code",
   "execution_count": 14,
   "metadata": {},
   "outputs": [
    {
     "data": {
      "text/html": [
       "<div>\n",
       "<style scoped>\n",
       "    .dataframe tbody tr th:only-of-type {\n",
       "        vertical-align: middle;\n",
       "    }\n",
       "\n",
       "    .dataframe tbody tr th {\n",
       "        vertical-align: top;\n",
       "    }\n",
       "\n",
       "    .dataframe thead th {\n",
       "        text-align: right;\n",
       "    }\n",
       "</style>\n",
       "<table border=\"1\" class=\"dataframe\">\n",
       "  <thead>\n",
       "    <tr style=\"text-align: right;\">\n",
       "      <th></th>\n",
       "      <th>id</th>\n",
       "      <th>is_iceberg_x</th>\n",
       "      <th>is_iceberg_y</th>\n",
       "      <th>is_iceberg</th>\n",
       "    </tr>\n",
       "  </thead>\n",
       "  <tbody>\n",
       "    <tr>\n",
       "      <th>0</th>\n",
       "      <td>5941774d</td>\n",
       "      <td>0.005586</td>\n",
       "      <td>0.030369</td>\n",
       "      <td>0.030369</td>\n",
       "    </tr>\n",
       "    <tr>\n",
       "      <th>1</th>\n",
       "      <td>4023181e</td>\n",
       "      <td>0.031688</td>\n",
       "      <td>0.364333</td>\n",
       "      <td>0.364333</td>\n",
       "    </tr>\n",
       "    <tr>\n",
       "      <th>2</th>\n",
       "      <td>b20200e4</td>\n",
       "      <td>0.001000</td>\n",
       "      <td>0.017298</td>\n",
       "      <td>0.017298</td>\n",
       "    </tr>\n",
       "    <tr>\n",
       "      <th>3</th>\n",
       "      <td>e7f018bb</td>\n",
       "      <td>0.999000</td>\n",
       "      <td>0.998199</td>\n",
       "      <td>0.998199</td>\n",
       "    </tr>\n",
       "    <tr>\n",
       "      <th>4</th>\n",
       "      <td>4371c8c3</td>\n",
       "      <td>0.022151</td>\n",
       "      <td>0.657598</td>\n",
       "      <td>0.657598</td>\n",
       "    </tr>\n",
       "  </tbody>\n",
       "</table>\n",
       "</div>"
      ],
      "text/plain": [
       "         id  is_iceberg_x  is_iceberg_y  is_iceberg\n",
       "0  5941774d      0.005586      0.030369    0.030369\n",
       "1  4023181e      0.031688      0.364333    0.364333\n",
       "2  b20200e4      0.001000      0.017298    0.017298\n",
       "3  e7f018bb      0.999000      0.998199    0.998199\n",
       "4  4371c8c3      0.022151      0.657598    0.657598"
      ]
     },
     "execution_count": 14,
     "metadata": {},
     "output_type": "execute_result"
    }
   ],
   "source": [
    "df3 = pd.merge(df2,df1,on='id')\n",
    "df3.head()\n",
    "df3['is_iceberg'] = df3['is_iceberg_y']\n",
    "\n",
    "df3[['id','is_iceberg']].to_csv('vgg_new.csv', index=False)\n",
    "df3.head()"
   ]
  }
 ],
 "metadata": {
  "kernelspec": {
   "display_name": "Python 3",
   "language": "python",
   "name": "python3"
  },
  "language_info": {
   "codemirror_mode": {
    "name": "ipython",
    "version": 3
   },
   "file_extension": ".py",
   "mimetype": "text/x-python",
   "name": "python",
   "nbconvert_exporter": "python",
   "pygments_lexer": "ipython3",
   "version": "3.5.2"
  }
 },
 "nbformat": 4,
 "nbformat_minor": 2
}
