{
 "cells": [
  {
   "cell_type": "code",
   "execution_count": 19,
   "metadata": {},
   "outputs": [
    {
     "name": "stdout",
     "output_type": "stream",
     "text": [
      "['sub_200_ens_densenet.csv', 'submission38.csv', 'sub_TF_keras.csv', 'submission43.csv']\n"
     ]
    }
   ],
   "source": [
    "import os\n",
    "import numpy as np \n",
    "import pandas as pd \n",
    "from subprocess import check_output\n",
    "\n",
    "sub_path = \"../submissions\"\n",
    "all_files = os.listdir(sub_path)\n",
    "\n",
    "print(all_files)"
   ]
  },
  {
   "cell_type": "code",
   "execution_count": 20,
   "metadata": {},
   "outputs": [
    {
     "data": {
      "text/html": [
       "<div>\n",
       "<table border=\"1\" class=\"dataframe\">\n",
       "  <thead>\n",
       "    <tr style=\"text-align: right;\">\n",
       "      <th></th>\n",
       "      <th>id</th>\n",
       "      <th>is_iceberg_0</th>\n",
       "      <th>is_iceberg_1</th>\n",
       "      <th>is_iceberg_2</th>\n",
       "      <th>is_iceberg_3</th>\n",
       "    </tr>\n",
       "  </thead>\n",
       "  <tbody>\n",
       "    <tr>\n",
       "      <th>0</th>\n",
       "      <td>5941774d</td>\n",
       "      <td>1.943216e-02</td>\n",
       "      <td>0.005586</td>\n",
       "      <td>0.008875</td>\n",
       "      <td>0.005586</td>\n",
       "    </tr>\n",
       "    <tr>\n",
       "      <th>1</th>\n",
       "      <td>4023181e</td>\n",
       "      <td>3.168809e-02</td>\n",
       "      <td>0.145927</td>\n",
       "      <td>0.146779</td>\n",
       "      <td>0.031688</td>\n",
       "    </tr>\n",
       "    <tr>\n",
       "      <th>2</th>\n",
       "      <td>b20200e4</td>\n",
       "      <td>4.000000e-08</td>\n",
       "      <td>0.000015</td>\n",
       "      <td>0.048646</td>\n",
       "      <td>0.001000</td>\n",
       "    </tr>\n",
       "    <tr>\n",
       "      <th>3</th>\n",
       "      <td>e7f018bb</td>\n",
       "      <td>9.925741e-01</td>\n",
       "      <td>0.999914</td>\n",
       "      <td>0.999184</td>\n",
       "      <td>0.999000</td>\n",
       "    </tr>\n",
       "    <tr>\n",
       "      <th>4</th>\n",
       "      <td>4371c8c3</td>\n",
       "      <td>2.215107e-02</td>\n",
       "      <td>0.033843</td>\n",
       "      <td>0.277251</td>\n",
       "      <td>0.022151</td>\n",
       "    </tr>\n",
       "  </tbody>\n",
       "</table>\n",
       "</div>"
      ],
      "text/plain": [
       "         id  is_iceberg_0  is_iceberg_1  is_iceberg_2  is_iceberg_3\n",
       "0  5941774d  1.943216e-02      0.005586      0.008875      0.005586\n",
       "1  4023181e  3.168809e-02      0.145927      0.146779      0.031688\n",
       "2  b20200e4  4.000000e-08      0.000015      0.048646      0.001000\n",
       "3  e7f018bb  9.925741e-01      0.999914      0.999184      0.999000\n",
       "4  4371c8c3  2.215107e-02      0.033843      0.277251      0.022151"
      ]
     },
     "execution_count": 20,
     "metadata": {},
     "output_type": "execute_result"
    }
   ],
   "source": [
    "# Read and concatenate submissions\n",
    "out1 = pd.read_csv(\"../submissions/sub_200_ens_densenet.csv\", index_col=0)\n",
    "out2 = pd.read_csv(\"../submissions/sub_TF_keras.csv\", index_col=0)\n",
    "out3 = pd.read_csv(\"../submissions/submission38.csv\", index_col=0)\n",
    "out4 = pd.read_csv(\"../submissions/submission43.csv\", index_col=0)\n",
    "concat_sub = pd.concat([out1, out2, out3, out4], axis=1)\n",
    "cols = list(map(lambda x: \"is_iceberg_\" + str(x), range(len(concat_sub.columns))))\n",
    "concat_sub.columns = cols\n",
    "concat_sub.reset_index(inplace=True)\n",
    "concat_sub.head()"
   ]
  },
  {
   "cell_type": "code",
   "execution_count": 21,
   "metadata": {
    "collapsed": true
   },
   "outputs": [],
   "source": [
    "# get the data fields ready for stacking\n",
    "concat_sub['is_iceberg_max'] = concat_sub.iloc[:, 1:6].max(axis=1)\n",
    "concat_sub['is_iceberg_min'] = concat_sub.iloc[:, 1:6].min(axis=1)\n",
    "concat_sub['is_iceberg_mean'] = concat_sub.iloc[:, 1:6].mean(axis=1)\n",
    "concat_sub['is_iceberg_median'] = concat_sub.iloc[:, 1:6].median(axis=1)"
   ]
  },
  {
   "cell_type": "code",
   "execution_count": 22,
   "metadata": {
    "collapsed": true
   },
   "outputs": [],
   "source": [
    "# set up cutoff threshold for lower and upper bounds, easy to twist \n",
    "cutoff_lo = 0.8\n",
    "cutoff_hi = 0.2"
   ]
  },
  {
   "cell_type": "code",
   "execution_count": 23,
   "metadata": {
    "collapsed": true
   },
   "outputs": [],
   "source": [
    "sub_base = pd.read_csv('../submissions/submission43.csv')"
   ]
  },
  {
   "cell_type": "code",
   "execution_count": 24,
   "metadata": {},
   "outputs": [
    {
     "data": {
      "text/html": [
       "<div>\n",
       "<table border=\"1\" class=\"dataframe\">\n",
       "  <thead>\n",
       "    <tr style=\"text-align: right;\">\n",
       "      <th></th>\n",
       "      <th>id</th>\n",
       "      <th>is_iceberg_0</th>\n",
       "      <th>is_iceberg_1</th>\n",
       "      <th>is_iceberg_2</th>\n",
       "      <th>is_iceberg_3</th>\n",
       "      <th>is_iceberg_max</th>\n",
       "      <th>is_iceberg_min</th>\n",
       "      <th>is_iceberg_mean</th>\n",
       "      <th>is_iceberg_median</th>\n",
       "      <th>is_iceberg_base</th>\n",
       "      <th>is_iceberg</th>\n",
       "    </tr>\n",
       "  </thead>\n",
       "  <tbody>\n",
       "    <tr>\n",
       "      <th>0</th>\n",
       "      <td>5941774d</td>\n",
       "      <td>1.943216e-02</td>\n",
       "      <td>0.005586</td>\n",
       "      <td>0.008875</td>\n",
       "      <td>0.005586</td>\n",
       "      <td>0.019432</td>\n",
       "      <td>5.586000e-03</td>\n",
       "      <td>0.011782</td>\n",
       "      <td>0.008875</td>\n",
       "      <td>0.005586</td>\n",
       "      <td>0.005586</td>\n",
       "    </tr>\n",
       "    <tr>\n",
       "      <th>1</th>\n",
       "      <td>4023181e</td>\n",
       "      <td>3.168809e-02</td>\n",
       "      <td>0.145927</td>\n",
       "      <td>0.146779</td>\n",
       "      <td>0.031688</td>\n",
       "      <td>0.146779</td>\n",
       "      <td>3.168800e-02</td>\n",
       "      <td>0.100572</td>\n",
       "      <td>0.145927</td>\n",
       "      <td>0.031688</td>\n",
       "      <td>0.031688</td>\n",
       "    </tr>\n",
       "    <tr>\n",
       "      <th>2</th>\n",
       "      <td>b20200e4</td>\n",
       "      <td>4.000000e-08</td>\n",
       "      <td>0.000015</td>\n",
       "      <td>0.048646</td>\n",
       "      <td>0.001000</td>\n",
       "      <td>0.048646</td>\n",
       "      <td>4.000000e-08</td>\n",
       "      <td>0.019662</td>\n",
       "      <td>0.001000</td>\n",
       "      <td>0.001000</td>\n",
       "      <td>0.001000</td>\n",
       "    </tr>\n",
       "    <tr>\n",
       "      <th>3</th>\n",
       "      <td>e7f018bb</td>\n",
       "      <td>9.925741e-01</td>\n",
       "      <td>0.999914</td>\n",
       "      <td>0.999184</td>\n",
       "      <td>0.999000</td>\n",
       "      <td>0.999914</td>\n",
       "      <td>9.925741e-01</td>\n",
       "      <td>0.998117</td>\n",
       "      <td>0.999184</td>\n",
       "      <td>0.999000</td>\n",
       "      <td>0.999000</td>\n",
       "    </tr>\n",
       "    <tr>\n",
       "      <th>4</th>\n",
       "      <td>4371c8c3</td>\n",
       "      <td>2.215107e-02</td>\n",
       "      <td>0.033843</td>\n",
       "      <td>0.277251</td>\n",
       "      <td>0.022151</td>\n",
       "      <td>0.277251</td>\n",
       "      <td>2.215100e-02</td>\n",
       "      <td>0.126529</td>\n",
       "      <td>0.033843</td>\n",
       "      <td>0.022151</td>\n",
       "      <td>0.022151</td>\n",
       "    </tr>\n",
       "  </tbody>\n",
       "</table>\n",
       "</div>"
      ],
      "text/plain": [
       "         id  is_iceberg_0  is_iceberg_1  is_iceberg_2  is_iceberg_3  \\\n",
       "0  5941774d  1.943216e-02      0.005586      0.008875      0.005586   \n",
       "1  4023181e  3.168809e-02      0.145927      0.146779      0.031688   \n",
       "2  b20200e4  4.000000e-08      0.000015      0.048646      0.001000   \n",
       "3  e7f018bb  9.925741e-01      0.999914      0.999184      0.999000   \n",
       "4  4371c8c3  2.215107e-02      0.033843      0.277251      0.022151   \n",
       "\n",
       "   is_iceberg_max  is_iceberg_min  is_iceberg_mean  is_iceberg_median  \\\n",
       "0        0.019432    5.586000e-03         0.011782           0.008875   \n",
       "1        0.146779    3.168800e-02         0.100572           0.145927   \n",
       "2        0.048646    4.000000e-08         0.019662           0.001000   \n",
       "3        0.999914    9.925741e-01         0.998117           0.999184   \n",
       "4        0.277251    2.215100e-02         0.126529           0.033843   \n",
       "\n",
       "   is_iceberg_base  is_iceberg  \n",
       "0         0.005586    0.005586  \n",
       "1         0.031688    0.031688  \n",
       "2         0.001000    0.001000  \n",
       "3         0.999000    0.999000  \n",
       "4         0.022151    0.022151  "
      ]
     },
     "execution_count": 24,
     "metadata": {},
     "output_type": "execute_result"
    }
   ],
   "source": [
    "concat_sub['is_iceberg_base'] = sub_base['is_iceberg']\n",
    "concat_sub['is_iceberg'] = np.where(np.all(concat_sub.iloc[:,1:4] > cutoff_lo, axis=1), \n",
    "                                    concat_sub['is_iceberg_max'], \n",
    "                                    np.where(np.all(concat_sub.iloc[:,1:4] < cutoff_hi, axis=1),\n",
    "                                             concat_sub['is_iceberg_min'], \n",
    "                                             concat_sub['is_iceberg_base']))\n",
    "concat_sub['is_iceberg'] = np.clip(concat_sub['is_iceberg'].values, 0.001, 0.999)\n",
    "concat_sub[['id', 'is_iceberg']].to_csv('submission54.csv', \n",
    "                                        index=False, float_format='%.6f')\n",
    "concat_sub.head()"
   ]
  },
  {
   "cell_type": "code",
   "execution_count": null,
   "metadata": {
    "collapsed": true
   },
   "outputs": [],
   "source": []
  }
 ],
 "metadata": {
  "kernelspec": {
   "display_name": "Python 3",
   "language": "python",
   "name": "python3"
  },
  "language_info": {
   "codemirror_mode": {
    "name": "ipython",
    "version": 3
   },
   "file_extension": ".py",
   "mimetype": "text/x-python",
   "name": "python",
   "nbconvert_exporter": "python",
   "pygments_lexer": "ipython3",
   "version": "3.5.2"
  }
 },
 "nbformat": 4,
 "nbformat_minor": 2
}
